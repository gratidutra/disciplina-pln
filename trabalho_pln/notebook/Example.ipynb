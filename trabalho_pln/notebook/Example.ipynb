{
 "cells": [
  {
   "cell_type": "code",
   "execution_count": 2,
   "id": "db08d32a-343a-4f2d-a1f1-dedc7c42f672",
   "metadata": {},
   "outputs": [],
   "source": [
    "import json\n",
    "import os\n",
    "import re\n",
    "import string\n",
    "import sys\n",
    "from functools import reduce\n",
    "from pathlib import Path\n",
    "\n",
    "import matplotlib.pyplot as plt\n",
    "import metapub\n",
    "import nltk\n",
    "import numpy as np\n",
    "import pandas as pd\n",
    "import plotly.express as px\n",
    "import pubmed_parser as pp\n",
    "import requests\n",
    "import seaborn as sns\n",
    "import spacy\n",
    "from Bio import Entrez\n",
    "from docling.document_converter import DocumentConverter\n",
    "from dotenv import load_dotenv\n",
    "from metapub import PubMedFetcher\n",
    "from metapub.findit import FindIt\n",
    "from tqdm import tqdm\n",
    "from unidecode import unidecode\n",
    "from wordcloud import WordCloud\n",
    "\n",
    "load_dotenv()\n",
    "_ = os.getenv(\"NCBI_API_KEY\")\n",
    "Entrez.email = os.getenv(\"email\")"
   ]
  },
  {
   "cell_type": "code",
   "execution_count": 5,
   "id": "c814eb73-e9d5-44aa-8049-454b697e2b2f",
   "metadata": {},
   "outputs": [
    {
     "name": "stdout",
     "output_type": "stream",
     "text": [
      "\u001b[1mSkipping .ipynb files as Jupyter dependencies are not installed.\n",
      "You can fix this by running ``pip install \"black[jupyter]\"``\u001b[0m\n",
      "\u001b[1mNo Python files are present to be formatted. Nothing to do 😴\u001b[0m\n"
     ]
    }
   ],
   "source": [
    "! black ."
   ]
  },
  {
   "cell_type": "markdown",
   "id": "8f43ffd2-7a81-4de8-b774-d1ab8601aeb0",
   "metadata": {},
   "source": [
    "### New Query"
   ]
  },
  {
   "cell_type": "code",
   "execution_count": 4,
   "id": "1a5f1ce0-1f33-4e62-a65d-eb1387a0a84c",
   "metadata": {},
   "outputs": [],
   "source": [
    "notebook_path = os.getcwd()\n",
    "sys.path.append(os.path.abspath(os.path.join(notebook_path, '..')))\n",
    "\n",
    "from extractors import pmids_extractor, pubmed_extractor, findIt_extractor"
   ]
  },
  {
   "cell_type": "code",
   "execution_count": 7,
   "id": "c82e06f5-80a2-4c06-9ec4-f46ccdcde44e",
   "metadata": {},
   "outputs": [
    {
     "name": "stderr",
     "output_type": "stream",
     "text": [
      "Extraindo do PubMed: 100%|████████████████████████████████████████████████████████████████████████████████████████████| 905/905 [10:35<00:00,  1.42it/s]\n"
     ]
    }
   ],
   "source": [
    "keyword = '''\n",
    "(CFTR[Title/Abstract] OR \"CFTR gene\"[Title/Abstract]) AND (\"Cystic fibrosis\"[Title/Abstract]) AND (mutant*[Title/Abstract] OR variant*[Title/Abstract] OR\n",
    "mutat*[Title/Abstract]) AND ((\"free energy\"[Title/Abstract] OR \"Gibbs free energy\"[Title/Abstract] OR ΔG[Title/Abstract] OR \"delta G\"[Title/Abstract] OR \n",
    "\"kcal/mol\"[Title/Abstract] OR \"kj/mol\"[Title/Abstract] OR \"melting temperature\"[Title/Abstract] OR Tm[Title/Abstract] OR thermostab*[Title/Abstract] OR \n",
    "stabil*[Title/Abstract] OR destabili*[Title/Abstract])) AND (\"protein stability\"[Title/Abstract] OR \"thermodynamics\"[Title/Abstract]) NOT (review[Publication Type] OR \n",
    "\"molecular dynamics\"[Title/Abstract] OR predict*[Title/Abstract])'''\n",
    "\n",
    "pmid_list = pmids_extractor(keyword)"
   ]
  },
  {
   "cell_type": "code",
   "execution_count": 13,
   "id": "0a799b48-16f8-499f-9812-027ad1630c3f",
   "metadata": {},
   "outputs": [
    {
     "name": "stdout",
     "output_type": "stream",
     "text": [
      "11\n",
      "{'32934006', '28655774', '28087700', '29903914', '36834620', '19502384', '28510592', '35327663', '30668920', '8830258', '25799099'}\n",
      "11\n"
     ]
    }
   ],
   "source": [
    "print(len(pmid_list))\n",
    "pmid_list = set(pmid_list)\n",
    "print(pmid_list)\n",
    "print(len(pmid_list))"
   ]
  },
  {
   "cell_type": "code",
   "execution_count": 19,
   "id": "c4cfc6b5-873d-4732-8674-3da86e49260b",
   "metadata": {},
   "outputs": [],
   "source": [
    "pmid_list = list(pmid_list)"
   ]
  },
  {
   "cell_type": "code",
   "execution_count": 21,
   "id": "2b636de5-b10c-4a9d-b7c2-95c58a47fa80",
   "metadata": {},
   "outputs": [],
   "source": [
    "def pubmed_extractor(pmids_list, output_path=\"data/pubmed_output.jsonl\", key = _):\n",
    "    fetch = PubMedFetcher()\n",
    "    not_found_pmids = []\n",
    "\n",
    "    with open(output_path, \"a\", encoding=\"utf-8\") as f_out:\n",
    "        for pmid in tqdm(pmids_list, desc=\"Extraindo do PubMed\"):\n",
    "            try:\n",
    "                article = fetch.article_by_pmid(pmid)\n",
    "                xml = article.xml\n",
    "                parsed = pp.parse_medline_xml(\n",
    "                    xml,\n",
    "                    year_info_only=False,\n",
    "                    nlm_category=False,\n",
    "                    author_list=False,\n",
    "                    reference_list=False,\n",
    "                )\n",
    "                for entry in parsed:\n",
    "                    entry[\"url\"] = findIt_extractor(pmid, _)\n",
    "                    f_out.write(json.dumps(entry) + \"\\n\")\n",
    "            except Exception as e:\n",
    "                tqdm.write(f\"PMID {pmid}: {e}\")\n",
    "                not_found_pmids.append(pmid)\n",
    "                continue\n",
    "\n",
    "    # Salva os PMIDs com erro\n",
    "    if not_found_pmids:\n",
    "        with open(\"data/pmids_nao_encontrados.json\", \"w\", encoding=\"utf-8\") as f:\n",
    "            json.dump(not_found_pmids, f, indent=2)\n",
    "\n",
    "    print(f\"Extração finalizada. Total com erro: {len(not_found_pmids)}\")"
   ]
  },
  {
   "cell_type": "code",
   "execution_count": 22,
   "id": "f8e5b6ee-9326-467e-a414-3d2482a56e3d",
   "metadata": {},
   "outputs": [
    {
     "name": "stderr",
     "output_type": "stream",
     "text": [
      "Extraindo do PubMed:   0%|                                                                                                       | 0/11 [00:00<?, ?it/s]2025-05-18 17:37:18 grati metapub.findit[1997684] INFO FindIt Cache initialized at /home/grati/.cache/findit.db\n",
      "Extraindo do PubMed: 100%|██████████████████████████████████████████████████████████████████████████████████████████████| 11/11 [00:18<00:00,  1.68s/it]"
     ]
    },
    {
     "name": "stdout",
     "output_type": "stream",
     "text": [
      "Extração finalizada. Total com erro: 0\n"
     ]
    },
    {
     "name": "stderr",
     "output_type": "stream",
     "text": [
      "\n"
     ]
    }
   ],
   "source": [
    "pubmed_extractor(pmid_list, output_path=\"../data/cystic_fibrosis_data.jsonl\", key = _)"
   ]
  },
  {
   "cell_type": "code",
   "execution_count": 24,
   "id": "d36fdd7e-a512-405f-89f0-adea4646a3ac",
   "metadata": {},
   "outputs": [
    {
     "data": {
      "text/plain": [
       "(11, 23)"
      ]
     },
     "execution_count": 24,
     "metadata": {},
     "output_type": "execute_result"
    }
   ],
   "source": [
    "df = pd.read_json('../data/cystic_fibrosis/cystic_fibrosis_data.jsonl', lines=True)\n",
    "#df.to_excel('../data/cystic_fibrosis/cystic_fibrosis_data.xlsx')\n",
    "df = df.drop_duplicates('pmid')\n",
    "df.shape"
   ]
  },
  {
   "cell_type": "code",
   "execution_count": 26,
   "id": "7ea95e07-951a-4267-8696-e3965a1ef652",
   "metadata": {},
   "outputs": [
    {
     "data": {
      "text/html": [
       "<div>\n",
       "<style scoped>\n",
       "    .dataframe tbody tr th:only-of-type {\n",
       "        vertical-align: middle;\n",
       "    }\n",
       "\n",
       "    .dataframe tbody tr th {\n",
       "        vertical-align: top;\n",
       "    }\n",
       "\n",
       "    .dataframe thead th {\n",
       "        text-align: right;\n",
       "    }\n",
       "</style>\n",
       "<table border=\"1\" class=\"dataframe\">\n",
       "  <thead>\n",
       "    <tr style=\"text-align: right;\">\n",
       "      <th></th>\n",
       "      <th>title</th>\n",
       "      <th>issue</th>\n",
       "      <th>pages</th>\n",
       "      <th>abstract</th>\n",
       "      <th>journal</th>\n",
       "      <th>authors</th>\n",
       "      <th>pubdate</th>\n",
       "      <th>pmid</th>\n",
       "      <th>mesh_terms</th>\n",
       "      <th>publication_types</th>\n",
       "      <th>...</th>\n",
       "      <th>references</th>\n",
       "      <th>delete</th>\n",
       "      <th>affiliations</th>\n",
       "      <th>pmc</th>\n",
       "      <th>other_id</th>\n",
       "      <th>medline_ta</th>\n",
       "      <th>nlm_unique_id</th>\n",
       "      <th>issn_linking</th>\n",
       "      <th>country</th>\n",
       "      <th>url</th>\n",
       "    </tr>\n",
       "  </thead>\n",
       "  <tbody>\n",
       "    <tr>\n",
       "      <th>0</th>\n",
       "      <td>Analysis of the localization of STE6/CFTR chim...</td>\n",
       "      <td>19(5)</td>\n",
       "      <td>1007-17</td>\n",
       "      <td>The use of yeast as a model system to study ma...</td>\n",
       "      <td>Molecular microbiology</td>\n",
       "      <td>Paddon|C|C|;Loayza|D|D|;Vangelista|L|L|;Solari...</td>\n",
       "      <td>1996-03</td>\n",
       "      <td>8830258</td>\n",
       "      <td>D018528:ATP-Binding Cassette Transporters; D00...</td>\n",
       "      <td>D016428:Journal Article; D013487:Research Supp...</td>\n",
       "      <td>...</td>\n",
       "      <td></td>\n",
       "      <td>False</td>\n",
       "      <td>Cell Biology Unit, Glaxo Wellcome Medicines Re...</td>\n",
       "      <td></td>\n",
       "      <td></td>\n",
       "      <td>Mol Microbiol</td>\n",
       "      <td>8712028</td>\n",
       "      <td>0950-382X</td>\n",
       "      <td>England</td>\n",
       "      <td>Dont Found</td>\n",
       "    </tr>\n",
       "    <tr>\n",
       "      <th>1</th>\n",
       "      <td>Functional stability of rescued delta F508 cys...</td>\n",
       "      <td>42(3)</td>\n",
       "      <td>363-72</td>\n",
       "      <td>The most common mutation in the cystic fibrosi...</td>\n",
       "      <td>American journal of respiratory cell and molec...</td>\n",
       "      <td>Jurkuvenaite|Asta|A|;Chen|Lan|L|;Bartoszewski|...</td>\n",
       "      <td>2010-03</td>\n",
       "      <td>19502384</td>\n",
       "      <td>D002460:Cell Line; D016764:Cell Polarity; D019...</td>\n",
       "      <td>D016428:Journal Article; D052061:Research Supp...</td>\n",
       "      <td>...</td>\n",
       "      <td>9922375;18389279;1699669;9792704;7523390;75538...</td>\n",
       "      <td>False</td>\n",
       "      <td>Department of Cell Biology, University of Alab...</td>\n",
       "      <td></td>\n",
       "      <td></td>\n",
       "      <td>Am J Respir Cell Mol Biol</td>\n",
       "      <td>8917225</td>\n",
       "      <td>1044-1549</td>\n",
       "      <td>United States</td>\n",
       "      <td>http://europepmc.org/backend/ptpmcrender.fcgi?...</td>\n",
       "    </tr>\n",
       "    <tr>\n",
       "      <th>3</th>\n",
       "      <td>Design and characterization of a membrane prot...</td>\n",
       "      <td>10(3)</td>\n",
       "      <td>e0120253</td>\n",
       "      <td>Accurate measurement of membrane protein stabi...</td>\n",
       "      <td>PloS one</td>\n",
       "      <td>Nadeau|Vincent G|VG|;Gao|Anqi|A|;Deber|Charles...</td>\n",
       "      <td>2015</td>\n",
       "      <td>25799099</td>\n",
       "      <td>D000595:Amino Acid Sequence; D019005:Cystic Fi...</td>\n",
       "      <td>D016428:Journal Article; D013485:Research Supp...</td>\n",
       "      <td>...</td>\n",
       "      <td>8566543;18573083;23180855;23745835;12324439;20...</td>\n",
       "      <td>False</td>\n",
       "      <td>Division of Molecular Structure &amp; Function, Re...</td>\n",
       "      <td></td>\n",
       "      <td></td>\n",
       "      <td>PLoS One</td>\n",
       "      <td>101285081</td>\n",
       "      <td>1932-6203</td>\n",
       "      <td>United States</td>\n",
       "      <td>http://europepmc.org/backend/ptpmcrender.fcgi?...</td>\n",
       "    </tr>\n",
       "    <tr>\n",
       "      <th>5</th>\n",
       "      <td>Two Small Molecules Restore Stability to a Sub...</td>\n",
       "      <td>292(9)</td>\n",
       "      <td>3706-3719</td>\n",
       "      <td>Cystic fibrosis (CF) is caused by mutations th...</td>\n",
       "      <td>The Journal of biological chemistry</td>\n",
       "      <td>Meng|Xin|X|;Wang|Yiting|Y|;Wang|Xiaomeng|X|;Wr...</td>\n",
       "      <td>2017-03-03</td>\n",
       "      <td>28087700</td>\n",
       "      <td>D000627:Aminophenols; D000631:Aminopyridines; ...</td>\n",
       "      <td>D016428:Journal Article; D013485:Research Supp...</td>\n",
       "      <td>...</td>\n",
       "      <td>27189798;25607428;2475911;16554808;22675668;23...</td>\n",
       "      <td>False</td>\n",
       "      <td>From the Faculty of Biology, Medicine and Heal...</td>\n",
       "      <td></td>\n",
       "      <td></td>\n",
       "      <td>J Biol Chem</td>\n",
       "      <td>2985121R</td>\n",
       "      <td>0021-9258</td>\n",
       "      <td>United States</td>\n",
       "      <td>http://europepmc.org/backend/ptpmcrender.fcgi?...</td>\n",
       "    </tr>\n",
       "    <tr>\n",
       "      <th>7</th>\n",
       "      <td>Alteration of protein function by a silent pol...</td>\n",
       "      <td>15(5)</td>\n",
       "      <td>e2000779</td>\n",
       "      <td>Synonymous single nucleotide polymorphisms (sS...</td>\n",
       "      <td>PLoS biology</td>\n",
       "      <td>Kirchner|Sebastian|S|;Cai|Zhiwei|Z|;Rauscher|R...</td>\n",
       "      <td>2017-05</td>\n",
       "      <td>28510592</td>\n",
       "      <td>D019005:Cystic Fibrosis Transmembrane Conducta...</td>\n",
       "      <td>D016428:Journal Article; D013485:Research Supp...</td>\n",
       "      <td>...</td>\n",
       "      <td>22955616;18516229;16418745;23417065;23417067;2...</td>\n",
       "      <td>False</td>\n",
       "      <td>Biochemistry, Institute of Biochemistry and Bi...</td>\n",
       "      <td></td>\n",
       "      <td></td>\n",
       "      <td>PLoS Biol</td>\n",
       "      <td>101183755</td>\n",
       "      <td>1544-9173</td>\n",
       "      <td>United States</td>\n",
       "      <td>http://europepmc.org/backend/ptpmcrender.fcgi?...</td>\n",
       "    </tr>\n",
       "    <tr>\n",
       "      <th>8</th>\n",
       "      <td>Stabilization of a nucleotide-binding domain o...</td>\n",
       "      <td>292(34)</td>\n",
       "      <td>14147-14164</td>\n",
       "      <td>Characterization of the second nucleotide-bind...</td>\n",
       "      <td>The Journal of biological chemistry</td>\n",
       "      <td>Vernon|Robert M|RM|;Chong|P Andrew|PA|;Lin|Hon...</td>\n",
       "      <td>2017-08-25</td>\n",
       "      <td>28655774</td>\n",
       "      <td>D000251:Adenosine Triphosphatases; D000255:Ade...</td>\n",
       "      <td>D016428:Journal Article; D013485:Research Supp...</td>\n",
       "      <td>...</td>\n",
       "      <td>2475911;1973824;10792060;1712984;9305845;17161...</td>\n",
       "      <td>False</td>\n",
       "      <td>From the Program in Molecular Medicine, Hospit...</td>\n",
       "      <td></td>\n",
       "      <td></td>\n",
       "      <td>J Biol Chem</td>\n",
       "      <td>2985121R</td>\n",
       "      <td>0021-9258</td>\n",
       "      <td>United States</td>\n",
       "      <td>http://europepmc.org/backend/ptpmcrender.fcgi?...</td>\n",
       "    </tr>\n",
       "    <tr>\n",
       "      <th>10</th>\n",
       "      <td>Ligand binding to a remote site thermodynamica...</td>\n",
       "      <td>293(46)</td>\n",
       "      <td>17685-17704</td>\n",
       "      <td>Many disease-causing mutations impair protein ...</td>\n",
       "      <td>The Journal of biological chemistry</td>\n",
       "      <td>Wang|Chi|C|;Aleksandrov|Andrei A|AA|;Yang|Zhen...</td>\n",
       "      <td>2018-11-16</td>\n",
       "      <td>29903914</td>\n",
       "      <td>D000255:Adenosine Triphosphate; D001665:Bindin...</td>\n",
       "      <td>D016428:Journal Article; D052061:Research Supp...</td>\n",
       "      <td>...</td>\n",
       "      <td>2475911;22675668;1695717;15729345;17036051;117...</td>\n",
       "      <td>False</td>\n",
       "      <td>From the Departments of Biological Sciences.;D...</td>\n",
       "      <td></td>\n",
       "      <td></td>\n",
       "      <td>J Biol Chem</td>\n",
       "      <td>2985121R</td>\n",
       "      <td>0021-9258</td>\n",
       "      <td>United States</td>\n",
       "      <td>http://europepmc.org/backend/ptpmcrender.fcgi?...</td>\n",
       "    </tr>\n",
       "    <tr>\n",
       "      <th>12</th>\n",
       "      <td>A defective flexible loop contributes to the p...</td>\n",
       "      <td>33(4)</td>\n",
       "      <td>5126-5142</td>\n",
       "      <td>People with the genetic disease cystic fibrosi...</td>\n",
       "      <td>FASEB journal : official publication of the Fe...</td>\n",
       "      <td>Chen|Xinying|X|;Zhu|Siyu|S|;Zhenin|Michael|M|;...</td>\n",
       "      <td>2019-04</td>\n",
       "      <td>30668920</td>\n",
       "      <td>D003080:Cold Temperature; D003550:Cystic Fibro...</td>\n",
       "      <td>D016428:Journal Article; D013485:Research Supp...</td>\n",
       "      <td>...</td>\n",
       "      <td></td>\n",
       "      <td>False</td>\n",
       "      <td>School of Biomedical Sciences, University of H...</td>\n",
       "      <td></td>\n",
       "      <td></td>\n",
       "      <td>FASEB J</td>\n",
       "      <td>8804484</td>\n",
       "      <td>0892-6638</td>\n",
       "      <td>United States</td>\n",
       "      <td>http://fasebj.org/content/33/4/5126.full.pdf</td>\n",
       "    </tr>\n",
       "    <tr>\n",
       "      <th>14</th>\n",
       "      <td>Fluorescence assay for simultaneous quantifica...</td>\n",
       "      <td>295(49)</td>\n",
       "      <td>16529-16544</td>\n",
       "      <td>The cystic fibrosis transmembrane conductance ...</td>\n",
       "      <td>The Journal of biological chemistry</td>\n",
       "      <td>Prins|Stella|S|;Langron|Emily|E|;Hastings|Cato...</td>\n",
       "      <td>2020-12-04</td>\n",
       "      <td>32934006</td>\n",
       "      <td>D000627:Aminophenols; D000818:Animals; D002460...</td>\n",
       "      <td>D016428:Journal Article; D013485:Research Supp...</td>\n",
       "      <td>...</td>\n",
       "      <td>30516439;22675668;23992767;27140670;2772657;24...</td>\n",
       "      <td>False</td>\n",
       "      <td>Department of Neuroscience, Physiology, and Ph...</td>\n",
       "      <td></td>\n",
       "      <td></td>\n",
       "      <td>J Biol Chem</td>\n",
       "      <td>2985121R</td>\n",
       "      <td>0021-9258</td>\n",
       "      <td>United States</td>\n",
       "      <td>http://europepmc.org/backend/ptpmcrender.fcgi?...</td>\n",
       "    </tr>\n",
       "    <tr>\n",
       "      <th>16</th>\n",
       "      <td>Structural Comparative Modeling of Multi-Domai...</td>\n",
       "      <td>12(3)</td>\n",
       "      <td></td>\n",
       "      <td>Cystic fibrosis (CF) is a rare genetic disease...</td>\n",
       "      <td>Biomolecules</td>\n",
       "      <td>McDonald|Eli Fritz|EF|0000-0002-0572-330X;Wood...</td>\n",
       "      <td>2022-03-18</td>\n",
       "      <td>35327663</td>\n",
       "      <td>D003550:Cystic Fibrosis; D019005:Cystic Fibros...</td>\n",
       "      <td>D016428:Journal Article; D052061:Research Supp...</td>\n",
       "      <td>...</td>\n",
       "      <td>25404111;28340353;2475911;7686820;7682274;3045...</td>\n",
       "      <td>False</td>\n",
       "      <td>Department of Chemistry, Vanderbilt University...</td>\n",
       "      <td></td>\n",
       "      <td></td>\n",
       "      <td>Biomolecules</td>\n",
       "      <td>101596414</td>\n",
       "      <td>2218-273X</td>\n",
       "      <td>Switzerland</td>\n",
       "      <td>http://europepmc.org/backend/ptpmcrender.fcgi?...</td>\n",
       "    </tr>\n",
       "    <tr>\n",
       "      <th>17</th>\n",
       "      <td>Rescue of Rare CFTR Trafficking Mutants Highli...</td>\n",
       "      <td>24(4)</td>\n",
       "      <td></td>\n",
       "      <td>Cystic Fibrosis (CF) is a genetic disease caus...</td>\n",
       "      <td>International journal of molecular sciences</td>\n",
       "      <td>Zacarias|Sónia|S|;Batista|Marta S P|MSP|0000-0...</td>\n",
       "      <td>2023-02-06</td>\n",
       "      <td>36834620</td>\n",
       "      <td>D006801:Humans; D019005:Cystic Fibrosis Transm...</td>\n",
       "      <td>D016428:Journal Article</td>\n",
       "      <td>...</td>\n",
       "      <td>17524805;23209179;27053340;34647973;18597042;2...</td>\n",
       "      <td>False</td>\n",
       "      <td>Biosystems and Integrative Sciences Institute,...</td>\n",
       "      <td></td>\n",
       "      <td></td>\n",
       "      <td>Int J Mol Sci</td>\n",
       "      <td>101092791</td>\n",
       "      <td>1422-0067</td>\n",
       "      <td>Switzerland</td>\n",
       "      <td>http://europepmc.org/backend/ptpmcrender.fcgi?...</td>\n",
       "    </tr>\n",
       "  </tbody>\n",
       "</table>\n",
       "<p>11 rows × 23 columns</p>\n",
       "</div>"
      ],
      "text/plain": [
       "                                                title    issue        pages  \\\n",
       "0   Analysis of the localization of STE6/CFTR chim...    19(5)      1007-17   \n",
       "1   Functional stability of rescued delta F508 cys...    42(3)       363-72   \n",
       "3   Design and characterization of a membrane prot...    10(3)     e0120253   \n",
       "5   Two Small Molecules Restore Stability to a Sub...   292(9)    3706-3719   \n",
       "7   Alteration of protein function by a silent pol...    15(5)     e2000779   \n",
       "8   Stabilization of a nucleotide-binding domain o...  292(34)  14147-14164   \n",
       "10  Ligand binding to a remote site thermodynamica...  293(46)  17685-17704   \n",
       "12  A defective flexible loop contributes to the p...    33(4)    5126-5142   \n",
       "14  Fluorescence assay for simultaneous quantifica...  295(49)  16529-16544   \n",
       "16  Structural Comparative Modeling of Multi-Domai...    12(3)                \n",
       "17  Rescue of Rare CFTR Trafficking Mutants Highli...    24(4)                \n",
       "\n",
       "                                             abstract  \\\n",
       "0   The use of yeast as a model system to study ma...   \n",
       "1   The most common mutation in the cystic fibrosi...   \n",
       "3   Accurate measurement of membrane protein stabi...   \n",
       "5   Cystic fibrosis (CF) is caused by mutations th...   \n",
       "7   Synonymous single nucleotide polymorphisms (sS...   \n",
       "8   Characterization of the second nucleotide-bind...   \n",
       "10  Many disease-causing mutations impair protein ...   \n",
       "12  People with the genetic disease cystic fibrosi...   \n",
       "14  The cystic fibrosis transmembrane conductance ...   \n",
       "16  Cystic fibrosis (CF) is a rare genetic disease...   \n",
       "17  Cystic Fibrosis (CF) is a genetic disease caus...   \n",
       "\n",
       "                                              journal  \\\n",
       "0                              Molecular microbiology   \n",
       "1   American journal of respiratory cell and molec...   \n",
       "3                                            PloS one   \n",
       "5                 The Journal of biological chemistry   \n",
       "7                                        PLoS biology   \n",
       "8                 The Journal of biological chemistry   \n",
       "10                The Journal of biological chemistry   \n",
       "12  FASEB journal : official publication of the Fe...   \n",
       "14                The Journal of biological chemistry   \n",
       "16                                       Biomolecules   \n",
       "17        International journal of molecular sciences   \n",
       "\n",
       "                                              authors     pubdate      pmid  \\\n",
       "0   Paddon|C|C|;Loayza|D|D|;Vangelista|L|L|;Solari...     1996-03   8830258   \n",
       "1   Jurkuvenaite|Asta|A|;Chen|Lan|L|;Bartoszewski|...     2010-03  19502384   \n",
       "3   Nadeau|Vincent G|VG|;Gao|Anqi|A|;Deber|Charles...        2015  25799099   \n",
       "5   Meng|Xin|X|;Wang|Yiting|Y|;Wang|Xiaomeng|X|;Wr...  2017-03-03  28087700   \n",
       "7   Kirchner|Sebastian|S|;Cai|Zhiwei|Z|;Rauscher|R...     2017-05  28510592   \n",
       "8   Vernon|Robert M|RM|;Chong|P Andrew|PA|;Lin|Hon...  2017-08-25  28655774   \n",
       "10  Wang|Chi|C|;Aleksandrov|Andrei A|AA|;Yang|Zhen...  2018-11-16  29903914   \n",
       "12  Chen|Xinying|X|;Zhu|Siyu|S|;Zhenin|Michael|M|;...     2019-04  30668920   \n",
       "14  Prins|Stella|S|;Langron|Emily|E|;Hastings|Cato...  2020-12-04  32934006   \n",
       "16  McDonald|Eli Fritz|EF|0000-0002-0572-330X;Wood...  2022-03-18  35327663   \n",
       "17  Zacarias|Sónia|S|;Batista|Marta S P|MSP|0000-0...  2023-02-06  36834620   \n",
       "\n",
       "                                           mesh_terms  \\\n",
       "0   D018528:ATP-Binding Cassette Transporters; D00...   \n",
       "1   D002460:Cell Line; D016764:Cell Polarity; D019...   \n",
       "3   D000595:Amino Acid Sequence; D019005:Cystic Fi...   \n",
       "5   D000627:Aminophenols; D000631:Aminopyridines; ...   \n",
       "7   D019005:Cystic Fibrosis Transmembrane Conducta...   \n",
       "8   D000251:Adenosine Triphosphatases; D000255:Ade...   \n",
       "10  D000255:Adenosine Triphosphate; D001665:Bindin...   \n",
       "12  D003080:Cold Temperature; D003550:Cystic Fibro...   \n",
       "14  D000627:Aminophenols; D000818:Animals; D002460...   \n",
       "16  D003550:Cystic Fibrosis; D019005:Cystic Fibros...   \n",
       "17  D006801:Humans; D019005:Cystic Fibrosis Transm...   \n",
       "\n",
       "                                    publication_types  ...  \\\n",
       "0   D016428:Journal Article; D013487:Research Supp...  ...   \n",
       "1   D016428:Journal Article; D052061:Research Supp...  ...   \n",
       "3   D016428:Journal Article; D013485:Research Supp...  ...   \n",
       "5   D016428:Journal Article; D013485:Research Supp...  ...   \n",
       "7   D016428:Journal Article; D013485:Research Supp...  ...   \n",
       "8   D016428:Journal Article; D013485:Research Supp...  ...   \n",
       "10  D016428:Journal Article; D052061:Research Supp...  ...   \n",
       "12  D016428:Journal Article; D013485:Research Supp...  ...   \n",
       "14  D016428:Journal Article; D013485:Research Supp...  ...   \n",
       "16  D016428:Journal Article; D052061:Research Supp...  ...   \n",
       "17                            D016428:Journal Article  ...   \n",
       "\n",
       "                                           references delete  \\\n",
       "0                                                      False   \n",
       "1   9922375;18389279;1699669;9792704;7523390;75538...  False   \n",
       "3   8566543;18573083;23180855;23745835;12324439;20...  False   \n",
       "5   27189798;25607428;2475911;16554808;22675668;23...  False   \n",
       "7   22955616;18516229;16418745;23417065;23417067;2...  False   \n",
       "8   2475911;1973824;10792060;1712984;9305845;17161...  False   \n",
       "10  2475911;22675668;1695717;15729345;17036051;117...  False   \n",
       "12                                                     False   \n",
       "14  30516439;22675668;23992767;27140670;2772657;24...  False   \n",
       "16  25404111;28340353;2475911;7686820;7682274;3045...  False   \n",
       "17  17524805;23209179;27053340;34647973;18597042;2...  False   \n",
       "\n",
       "                                         affiliations pmc  other_id  \\\n",
       "0   Cell Biology Unit, Glaxo Wellcome Medicines Re...                 \n",
       "1   Department of Cell Biology, University of Alab...                 \n",
       "3   Division of Molecular Structure & Function, Re...                 \n",
       "5   From the Faculty of Biology, Medicine and Heal...                 \n",
       "7   Biochemistry, Institute of Biochemistry and Bi...                 \n",
       "8   From the Program in Molecular Medicine, Hospit...                 \n",
       "10  From the Departments of Biological Sciences.;D...                 \n",
       "12  School of Biomedical Sciences, University of H...                 \n",
       "14  Department of Neuroscience, Physiology, and Ph...                 \n",
       "16  Department of Chemistry, Vanderbilt University...                 \n",
       "17  Biosystems and Integrative Sciences Institute,...                 \n",
       "\n",
       "                   medline_ta nlm_unique_id issn_linking        country  \\\n",
       "0               Mol Microbiol       8712028    0950-382X        England   \n",
       "1   Am J Respir Cell Mol Biol       8917225    1044-1549  United States   \n",
       "3                    PLoS One     101285081    1932-6203  United States   \n",
       "5                 J Biol Chem      2985121R    0021-9258  United States   \n",
       "7                   PLoS Biol     101183755    1544-9173  United States   \n",
       "8                 J Biol Chem      2985121R    0021-9258  United States   \n",
       "10                J Biol Chem      2985121R    0021-9258  United States   \n",
       "12                    FASEB J       8804484    0892-6638  United States   \n",
       "14                J Biol Chem      2985121R    0021-9258  United States   \n",
       "16               Biomolecules     101596414    2218-273X    Switzerland   \n",
       "17              Int J Mol Sci     101092791    1422-0067    Switzerland   \n",
       "\n",
       "                                                  url  \n",
       "0                                          Dont Found  \n",
       "1   http://europepmc.org/backend/ptpmcrender.fcgi?...  \n",
       "3   http://europepmc.org/backend/ptpmcrender.fcgi?...  \n",
       "5   http://europepmc.org/backend/ptpmcrender.fcgi?...  \n",
       "7   http://europepmc.org/backend/ptpmcrender.fcgi?...  \n",
       "8   http://europepmc.org/backend/ptpmcrender.fcgi?...  \n",
       "10  http://europepmc.org/backend/ptpmcrender.fcgi?...  \n",
       "12       http://fasebj.org/content/33/4/5126.full.pdf  \n",
       "14  http://europepmc.org/backend/ptpmcrender.fcgi?...  \n",
       "16  http://europepmc.org/backend/ptpmcrender.fcgi?...  \n",
       "17  http://europepmc.org/backend/ptpmcrender.fcgi?...  \n",
       "\n",
       "[11 rows x 23 columns]"
      ]
     },
     "execution_count": 26,
     "metadata": {},
     "output_type": "execute_result"
    }
   ],
   "source": [
    "df"
   ]
  },
  {
   "cell_type": "code",
   "execution_count": 31,
   "id": "a561f16b-c292-405b-a184-3aad0350359f",
   "metadata": {},
   "outputs": [
    {
     "name": "stderr",
     "output_type": "stream",
     "text": [
      "Downloading PDFs: 100%|█████████████████████████████████████████████████████████████████████████████████████████████████| 11/11 [00:31<00:00,  2.83s/it]\n"
     ]
    }
   ],
   "source": [
    "path_pdf = \"../data/cystic_fibrosis/pdfs\"\n",
    "for i, (url, pmid) in tqdm(enumerate(zip(df['url'], df['pmid'])), total=len(df), desc=\"Downloading PDFs\"):\n",
    "    if url != \"Dont Found\":\n",
    "        # Sanitize o DOI para ser um nome de arquivo válido\n",
    "        #pmid_filename = doi.replace(\"/\", \"_\").replace(\":\", \"_\")\n",
    "        nome_arquivo = os.path.join(path_pdf, f\"{pmid}.pdf\")\n",
    "\n",
    "        response = requests.get(url, stream=True)\n",
    "        if response.status_code == 200:\n",
    "            with open(nome_arquivo, \"wb\") as f:\n",
    "                for chunk in response.iter_content(1024):\n",
    "                    f.write(chunk)"
   ]
  },
  {
   "cell_type": "code",
   "execution_count": 8,
   "id": "773fa14c-6e92-4feb-9cde-cbea7cf8c9dc",
   "metadata": {},
   "outputs": [],
   "source": [
    "def extract_entities(model, document_text, document_name):\n",
    "    nlp = model.load()\n",
    "\n",
    "    # Gerenciar o EntityRuler\n",
    "    if \"entity_ruler\" in nlp.pipe_names:\n",
    "        ruler = nlp.get_pipe(\"entity_ruler\")\n",
    "        ruler.clear()\n",
    "    else:\n",
    "        ruler = nlp.add_pipe(\"entity_ruler\", before=\"ner\")\n",
    "\n",
    "    # Labels personalizadas\n",
    "    custom_labels = {\"MUTATION\", \"TEMPERATURE\", \"PH\", \"METODO\"}\n",
    "    \n",
    "    # Padrões corrigidos\n",
    "    patterns = [\n",
    "        # MUTATION\n",
    "        {\"label\": \"MUTATION\", \"pattern\": [{\"TEXT\": {\"REGEX\": \"^[A-Z][0-9]+[A-Z]$\"}}]},\n",
    "        {\"label\": \"MUTATION\", \"pattern\": [{\"LOWER\": \"mutation\"}, {\"TEXT\": {\"REGEX\": \"^[A-Z][0-9]+[A-Z]$\"}}]},\n",
    "        \n",
    "        # PH\n",
    "        {\"label\": \"PH\", \"pattern\": [{\"LOWER\": \"ph\"}, {\"TEXT\": {\"REGEX\": r\"^[+-]?\\d+(\\.\\d+)?$\"}}]},\n",
    "        \n",
    "        # TEMPERATURE\n",
    "        {\"label\": \"TEMPERATURE\", \"pattern\": [\n",
    "            {\"TEXT\": {\"REGEX\": r\"^\\d+(\\.\\d+)?$\"}},\n",
    "            {\"TEXT\": {\"REGEX\": r\"^°$\"}},\n",
    "            {\"TEXT\": {\"REGEX\": r\"^[CFK]$\"}}\n",
    "        ]},\n",
    "        {\"label\": \"TEMPERATURE\", \"pattern\": [\n",
    "            {\"TEXT\": {\"REGEX\": r\"^\\d+(\\.\\d+)?°[CFK]$\"}}\n",
    "        ]},\n",
    "    \n",
    "        # METODO\n",
    "         {\"label\": \"METODO\", \"pattern\": [\n",
    "        {\"LOWER\": \"differential\"},\n",
    "        {\"LOWER\": \"scanning\"},\n",
    "        {\"LOWER\": \"calorimetry\"},\n",
    "        {\"TEXT\": \"(\", \"OP\": \"?\"},\n",
    "        {\"LOWER\": \"dsc\", \"OP\": \"?\"},\n",
    "        {\"TEXT\": \")\", \"OP\": \"?\"}\n",
    "    ]},\n",
    "    # Apenas DSC (com ou sem parênteses)\n",
    "    {\"label\": \"METODO\", \"pattern\": [\n",
    "        {\"TEXT\": \"(\", \"OP\": \"?\"},\n",
    "        {\"LOWER\": \"dsc\"},\n",
    "        {\"TEXT\": \")\", \"OP\": \"?\"}\n",
    "    ]},\n",
    "\n",
    "    # CD completo com ou sem parênteses\n",
    "    {\"label\": \"METODO\", \"pattern\": [\n",
    "        {\"LOWER\": \"circular\"},\n",
    "        {\"LOWER\": \"dichroism\"},\n",
    "        {\"TEXT\": \"(\", \"OP\": \"?\"},\n",
    "        {\"LOWER\": \"cd\", \"OP\": \"?\"},\n",
    "        {\"TEXT\": \")\", \"OP\": \"?\"},\n",
    "        {\"LOWER\": \"spectroscopy\"}\n",
    "    ]},\n",
    "    # CD spectroscopy (abreviado)\n",
    "    {\"label\": \"METODO\", \"pattern\": [\n",
    "        {\"TEXT\": \"(\", \"OP\": \"?\"},\n",
    "        {\"LOWER\": \"cd\"},\n",
    "        {\"TEXT\": \")\", \"OP\": \"?\"},\n",
    "        {\"LOWER\": \"spectroscopy\"}\n",
    "    ]},\n",
    "    # Apenas CD (com ou sem parênteses)\n",
    "    {\"label\": \"METODO\", \"pattern\": [\n",
    "        {\"TEXT\": \"(\", \"OP\": \"?\"},\n",
    "        {\"LOWER\": \"cd\"},\n",
    "        {\"TEXT\": \")\", \"OP\": \"?\"}\n",
    "    ]}\n",
    "        ]\n",
    "\n",
    "    ruler.add_patterns(patterns)\n",
    "\n",
    "    # Processamento do texto\n",
    "    doc = nlp(document_text)\n",
    "\n",
    "    # Extração sem duplicatas\n",
    "    seen = set()\n",
    "    entity = []\n",
    "    label = []\n",
    "\n",
    "    for ent in doc.ents:\n",
    "        if ent.label_ in custom_labels and ent.text not in seen:\n",
    "            entity.append(ent.text)\n",
    "            label.append(ent.label_)\n",
    "            seen.add(ent.text)\n",
    "\n",
    "    # Regex para termos termodinâmicos\n",
    "    delta_pattern = re.compile(r'''\n",
    "        (?:Δ|delta|Delta)\\s*[GT]|𝚫\\s*[GT]?                       \n",
    "        (?:\\s*[:=~]\\s*([-\\d.]+)\\s*(kcal/mol|kJ/mol|°C|K)?)?      \n",
    "        (?:.*?(Fig(?:ure)?\\s*[\\dS]+)?)?     \n",
    "        ''', flags=re.IGNORECASE | re.VERBOSE)\n",
    "\n",
    "    delta_matches = []\n",
    "    for match in delta_pattern.finditer(document_text):\n",
    "        termo = match.group(\"symbol\").upper()\n",
    "        valor = match.group(\"value\")\n",
    "        unidade = match.group(\"unit\") or \"\"\n",
    "        delta_matches.append({\n",
    "            \"termo\": f\"Δ{termo}\",\n",
    "            \"valor\": valor,\n",
    "            \"unidade\": unidade\n",
    "        })\n",
    "\n",
    "    return {\n",
    "        \"pmid\": document_name,\n",
    "        \"entity\": entity,\n",
    "        \"label\": label,\n",
    "        \"termos_termodinamicos\": delta_matches,\n",
    "        \"tem_termo_termodinamico\": \"Sim\" if delta_matches else \"Não\"\n",
    "    }\n",
    "\n",
    "class SpacyModel:\n",
    "    def load(self):\n",
    "        return spacy.load(\"en_core_web_sm\")"
   ]
  },
  {
   "cell_type": "code",
   "execution_count": 9,
   "id": "c954aa59-bcef-4c60-91df-e6c4f7609ae5",
   "metadata": {},
   "outputs": [
    {
     "name": "stderr",
     "output_type": "stream",
     "text": [
      "/home/grati/miniconda3/envs/drugdiscovery/lib/python3.12/site-packages/torch/utils/data/dataloader.py:665: UserWarning: 'pin_memory' argument is set as true but no accelerator is found, then device pinned memory won't be used.\n",
      "  warnings.warn(warn_msg)\n",
      "/home/grati/miniconda3/envs/drugdiscovery/lib/python3.12/site-packages/torch/utils/data/dataloader.py:665: UserWarning: 'pin_memory' argument is set as true but no accelerator is found, then device pinned memory won't be used.\n",
      "  warnings.warn(warn_msg)\n",
      "/home/grati/miniconda3/envs/drugdiscovery/lib/python3.12/site-packages/torch/utils/data/dataloader.py:665: UserWarning: 'pin_memory' argument is set as true but no accelerator is found, then device pinned memory won't be used.\n",
      "  warnings.warn(warn_msg)\n",
      "/home/grati/miniconda3/envs/drugdiscovery/lib/python3.12/site-packages/torch/utils/data/dataloader.py:665: UserWarning: 'pin_memory' argument is set as true but no accelerator is found, then device pinned memory won't be used.\n",
      "  warnings.warn(warn_msg)\n",
      "/home/grati/miniconda3/envs/drugdiscovery/lib/python3.12/site-packages/torch/utils/data/dataloader.py:665: UserWarning: 'pin_memory' argument is set as true but no accelerator is found, then device pinned memory won't be used.\n",
      "  warnings.warn(warn_msg)\n",
      "/home/grati/miniconda3/envs/drugdiscovery/lib/python3.12/site-packages/torch/utils/data/dataloader.py:665: UserWarning: 'pin_memory' argument is set as true but no accelerator is found, then device pinned memory won't be used.\n",
      "  warnings.warn(warn_msg)\n",
      "/home/grati/miniconda3/envs/drugdiscovery/lib/python3.12/site-packages/torch/utils/data/dataloader.py:665: UserWarning: 'pin_memory' argument is set as true but no accelerator is found, then device pinned memory won't be used.\n",
      "  warnings.warn(warn_msg)\n",
      "/home/grati/miniconda3/envs/drugdiscovery/lib/python3.12/site-packages/torch/utils/data/dataloader.py:665: UserWarning: 'pin_memory' argument is set as true but no accelerator is found, then device pinned memory won't be used.\n",
      "  warnings.warn(warn_msg)\n",
      "/home/grati/miniconda3/envs/drugdiscovery/lib/python3.12/site-packages/torch/utils/data/dataloader.py:665: UserWarning: 'pin_memory' argument is set as true but no accelerator is found, then device pinned memory won't be used.\n",
      "  warnings.warn(warn_msg)\n"
     ]
    }
   ],
   "source": [
    "source_pdfs = Path(\"../data/cystic_fibrosis/pdfs\")\n",
    "#pasta_output = Path(\"../data/cystic_fibrosis/md\")\n",
    "\n",
    "pdfs = sorted(source_pdfs.glob(\"*.pdf\"))\n",
    "\n",
    "md_list = []\n",
    "\n",
    "for pdf in pdfs:  \n",
    "    input_dir = str(pdf)\n",
    "    converter = DocumentConverter()\n",
    "    result = converter.convert(input_dir)\n",
    "    verify = extract_entities(SpacyModel(),result.document.export_to_markdown(), pdf.name)\n",
    "    md_list.append(verify)"
   ]
  },
  {
   "cell_type": "code",
   "execution_count": 30,
   "id": "1813a8c9-d41c-4b2d-9bfe-386be8b8f90b",
   "metadata": {},
   "outputs": [
    {
     "data": {
      "text/html": [
       "<div>\n",
       "<style scoped>\n",
       "    .dataframe tbody tr th:only-of-type {\n",
       "        vertical-align: middle;\n",
       "    }\n",
       "\n",
       "    .dataframe tbody tr th {\n",
       "        vertical-align: top;\n",
       "    }\n",
       "\n",
       "    .dataframe thead th {\n",
       "        text-align: right;\n",
       "    }\n",
       "</style>\n",
       "<table border=\"1\" class=\"dataframe\">\n",
       "  <thead>\n",
       "    <tr style=\"text-align: right;\">\n",
       "      <th></th>\n",
       "      <th>pmid</th>\n",
       "      <th>METODO</th>\n",
       "      <th>MUTATION</th>\n",
       "      <th>PH</th>\n",
       "      <th>TEMPERATURE</th>\n",
       "      <th>tem_termo_termodinamico</th>\n",
       "    </tr>\n",
       "  </thead>\n",
       "  <tbody>\n",
       "    <tr>\n",
       "      <th>0</th>\n",
       "      <td>19502384.pdf</td>\n",
       "      <td>[]</td>\n",
       "      <td>[P2Y]</td>\n",
       "      <td>[pH 7.4]</td>\n",
       "      <td>[]</td>\n",
       "      <td>Não</td>\n",
       "    </tr>\n",
       "    <tr>\n",
       "      <th>1</th>\n",
       "      <td>25799099.pdf</td>\n",
       "      <td>[Circular dichroism spectroscopy, CD spectrosc...</td>\n",
       "      <td>[M5S, S45A, E44Q]</td>\n",
       "      <td>[pH 8, pH 7.5, pH 2, pH 9]</td>\n",
       "      <td>[37°C, 4°C]</td>\n",
       "      <td>Não</td>\n",
       "    </tr>\n",
       "    <tr>\n",
       "      <th>2</th>\n",
       "      <td>28087700.pdf</td>\n",
       "      <td>[differential scanning calorimetry]</td>\n",
       "      <td>[mutation G551D, G551D, G1349D, A561E]</td>\n",
       "      <td>[pH 7.3, pH 7.2, pH 8.0]</td>\n",
       "      <td>[37 °C, 10 °C, 23 °C, 27 °C, 80 °C, 5 °C, 60 °...</td>\n",
       "      <td>Não</td>\n",
       "    </tr>\n",
       "    <tr>\n",
       "      <th>3</th>\n",
       "      <td>28510592.pdf</td>\n",
       "      <td>[]</td>\n",
       "      <td>[T2562G, S1A, G1584A, G2280A, S1B, S1C, S1E, S...</td>\n",
       "      <td>[pH 7.3, pH 7.5, pH 8.5, pH 9.0]</td>\n",
       "      <td>[]</td>\n",
       "      <td>Não</td>\n",
       "    </tr>\n",
       "    <tr>\n",
       "      <th>4</th>\n",
       "      <td>28655774.pdf</td>\n",
       "      <td>[DSC, differential scanning calorimetry, diffe...</td>\n",
       "      <td>[M5S, G1349D, G551D, G1244E, S1251N, S1255P, m...</td>\n",
       "      <td>[pH 7.5, pH 7.6, pH 7.2]</td>\n",
       "      <td>[40 °C, 4 °C, 49 °C, 10 °C, 3 °C, 30 °C, 7 °C,...</td>\n",
       "      <td>Não</td>\n",
       "    </tr>\n",
       "    <tr>\n",
       "      <th>5</th>\n",
       "      <td>29903914.pdf</td>\n",
       "      <td>[DSC, differential scanning calorimetry, diffe...</td>\n",
       "      <td>[G646C, C592L, X4C, V510D, P2Y]</td>\n",
       "      <td>[pH 7.5, pH 6]</td>\n",
       "      <td>[37 °C, 3 °C, 3.5 °C, 0.3 °C, 2.5 °C, 3.3 °C, ...</td>\n",
       "      <td>Sim</td>\n",
       "    </tr>\n",
       "    <tr>\n",
       "      <th>6</th>\n",
       "      <td>32934006.pdf</td>\n",
       "      <td>[]</td>\n",
       "      <td>[G551D, mutation R1070W, I152L, R1070W, D579G,...</td>\n",
       "      <td>[pH 7.4]</td>\n",
       "      <td>[37 °C, 28 °C, 37° C]</td>\n",
       "      <td>Não</td>\n",
       "    </tr>\n",
       "    <tr>\n",
       "      <th>7</th>\n",
       "      <td>35327663.pdf</td>\n",
       "      <td>[]</td>\n",
       "      <td>[R1070W, mutation E1371Q, S1A, S1C, S1E, E1371...</td>\n",
       "      <td>[]</td>\n",
       "      <td>[]</td>\n",
       "      <td>Não</td>\n",
       "    </tr>\n",
       "    <tr>\n",
       "      <th>8</th>\n",
       "      <td>36834620.pdf</td>\n",
       "      <td>[]</td>\n",
       "      <td>[H139R, G194R, H199Y, W361R, L558S, A559E, L57...</td>\n",
       "      <td>[pH 7]</td>\n",
       "      <td>[]</td>\n",
       "      <td>Não</td>\n",
       "    </tr>\n",
       "  </tbody>\n",
       "</table>\n",
       "</div>"
      ],
      "text/plain": [
       "           pmid                                             METODO  \\\n",
       "0  19502384.pdf                                                 []   \n",
       "1  25799099.pdf  [Circular dichroism spectroscopy, CD spectrosc...   \n",
       "2  28087700.pdf                [differential scanning calorimetry]   \n",
       "3  28510592.pdf                                                 []   \n",
       "4  28655774.pdf  [DSC, differential scanning calorimetry, diffe...   \n",
       "5  29903914.pdf  [DSC, differential scanning calorimetry, diffe...   \n",
       "6  32934006.pdf                                                 []   \n",
       "7  35327663.pdf                                                 []   \n",
       "8  36834620.pdf                                                 []   \n",
       "\n",
       "                                            MUTATION  \\\n",
       "0                                              [P2Y]   \n",
       "1                                  [M5S, S45A, E44Q]   \n",
       "2             [mutation G551D, G551D, G1349D, A561E]   \n",
       "3  [T2562G, S1A, G1584A, G2280A, S1B, S1C, S1E, S...   \n",
       "4  [M5S, G1349D, G551D, G1244E, S1251N, S1255P, m...   \n",
       "5                    [G646C, C592L, X4C, V510D, P2Y]   \n",
       "6  [G551D, mutation R1070W, I152L, R1070W, D579G,...   \n",
       "7  [R1070W, mutation E1371Q, S1A, S1C, S1E, E1371...   \n",
       "8  [H139R, G194R, H199Y, W361R, L558S, A559E, L57...   \n",
       "\n",
       "                                 PH  \\\n",
       "0                          [pH 7.4]   \n",
       "1        [pH 8, pH 7.5, pH 2, pH 9]   \n",
       "2          [pH 7.3, pH 7.2, pH 8.0]   \n",
       "3  [pH 7.3, pH 7.5, pH 8.5, pH 9.0]   \n",
       "4          [pH 7.5, pH 7.6, pH 7.2]   \n",
       "5                    [pH 7.5, pH 6]   \n",
       "6                          [pH 7.4]   \n",
       "7                                []   \n",
       "8                            [pH 7]   \n",
       "\n",
       "                                         TEMPERATURE tem_termo_termodinamico  \n",
       "0                                                 []                     Não  \n",
       "1                                        [37°C, 4°C]                     Não  \n",
       "2  [37 °C, 10 °C, 23 °C, 27 °C, 80 °C, 5 °C, 60 °...                     Não  \n",
       "3                                                 []                     Não  \n",
       "4  [40 °C, 4 °C, 49 °C, 10 °C, 3 °C, 30 °C, 7 °C,...                     Não  \n",
       "5  [37 °C, 3 °C, 3.5 °C, 0.3 °C, 2.5 °C, 3.3 °C, ...                     Sim  \n",
       "6                              [37 °C, 28 °C, 37° C]                     Não  \n",
       "7                                                 []                     Não  \n",
       "8                                                 []                     Não  "
      ]
     },
     "execution_count": 30,
     "metadata": {},
     "output_type": "execute_result"
    }
   ],
   "source": [
    "rows = []\n",
    "\n",
    "# Vamos construir uma tabela linha por linha\n",
    "for item in md_list:\n",
    "    pmid = item['pmid']\n",
    "    entities = item['entity']\n",
    "    labels = item['label']\n",
    "    termos = item.get('termos_termodinamicos', [])\n",
    "    tem_termo = item.get('tem_termo_termodinamico', \"Não\")\n",
    "    \n",
    "    # Associa cada entidade à sua label correta\n",
    "    for ent, lab in zip(entities, labels):\n",
    "        rows.append({\n",
    "            'pmid': pmid,\n",
    "            'label': lab,\n",
    "            'entity': ent,\n",
    "            'termos_termodinamicos': termos,\n",
    "            'tem_termo_termodinamico': tem_termo\n",
    "        })\n",
    "\n",
    "# Criar DataFrame estruturado corretamente\n",
    "df = pd.DataFrame(rows)\n",
    "\n",
    "# Agora pivotar de forma limpa: cada label vira uma coluna\n",
    "df_grouped = df.groupby(['pmid', 'label'])['entity'].apply(list).unstack(fill_value=[]).reset_index()\n",
    "\n",
    "# Adiciona os campos extras (termodinâmica)\n",
    "df_termos = df[['pmid', 'tem_termo_termodinamico']].drop_duplicates()\n",
    "\n",
    "# Junta tudo\n",
    "df_final = pd.merge(df_grouped, df_termos, on='pmid', how='left')\n",
    "\n",
    "df_final"
   ]
  },
  {
   "cell_type": "code",
   "execution_count": 62,
   "id": "72f7794b-7725-4c0c-8444-0b8b1b6a58c9",
   "metadata": {},
   "outputs": [],
   "source": [
    "# Primeiro, limpamos os DOIs\n",
    "for item in md_list[1:-1]:\n",
    "    item['pmid'] = item['doi'].replace('.pdf', '')\n",
    "\n",
    "# Criamos um DataFrame a partir da lista\n",
    "df_termos = pd.DataFrame(md_list)\n",
    "df_termos = df_termos[1:]\n",
    "df_termos['pmid'] = df_termos['pmid'].astype('int64')"
   ]
  },
  {
   "cell_type": "code",
   "execution_count": 63,
   "id": "2127e189-8364-4ae5-bd5a-f0d2124a0162",
   "metadata": {},
   "outputs": [
    {
     "data": {
      "text/html": [
       "<div>\n",
       "<style scoped>\n",
       "    .dataframe tbody tr th:only-of-type {\n",
       "        vertical-align: middle;\n",
       "    }\n",
       "\n",
       "    .dataframe tbody tr th {\n",
       "        vertical-align: top;\n",
       "    }\n",
       "\n",
       "    .dataframe thead th {\n",
       "        text-align: right;\n",
       "    }\n",
       "</style>\n",
       "<table border=\"1\" class=\"dataframe\">\n",
       "  <thead>\n",
       "    <tr style=\"text-align: right;\">\n",
       "      <th></th>\n",
       "      <th>doi</th>\n",
       "      <th>tem_termo_termodinamico</th>\n",
       "      <th>pmid</th>\n",
       "    </tr>\n",
       "  </thead>\n",
       "  <tbody>\n",
       "    <tr>\n",
       "      <th>1</th>\n",
       "      <td>19502384.pdf</td>\n",
       "      <td>Sim</td>\n",
       "      <td>19502384</td>\n",
       "    </tr>\n",
       "    <tr>\n",
       "      <th>2</th>\n",
       "      <td>25799099.pdf</td>\n",
       "      <td>Não</td>\n",
       "      <td>25799099</td>\n",
       "    </tr>\n",
       "    <tr>\n",
       "      <th>3</th>\n",
       "      <td>28087700.pdf</td>\n",
       "      <td>Sim</td>\n",
       "      <td>28087700</td>\n",
       "    </tr>\n",
       "    <tr>\n",
       "      <th>4</th>\n",
       "      <td>28510592.pdf</td>\n",
       "      <td>Não</td>\n",
       "      <td>28510592</td>\n",
       "    </tr>\n",
       "    <tr>\n",
       "      <th>5</th>\n",
       "      <td>28655774.pdf</td>\n",
       "      <td>Sim</td>\n",
       "      <td>28655774</td>\n",
       "    </tr>\n",
       "    <tr>\n",
       "      <th>6</th>\n",
       "      <td>29903914.pdf</td>\n",
       "      <td>Sim</td>\n",
       "      <td>29903914</td>\n",
       "    </tr>\n",
       "    <tr>\n",
       "      <th>7</th>\n",
       "      <td>32934006.pdf</td>\n",
       "      <td>Não</td>\n",
       "      <td>32934006</td>\n",
       "    </tr>\n",
       "    <tr>\n",
       "      <th>8</th>\n",
       "      <td>35327663.pdf</td>\n",
       "      <td>Sim</td>\n",
       "      <td>35327663</td>\n",
       "    </tr>\n",
       "    <tr>\n",
       "      <th>9</th>\n",
       "      <td>36834620.pdf</td>\n",
       "      <td>Sim</td>\n",
       "      <td>36834620</td>\n",
       "    </tr>\n",
       "  </tbody>\n",
       "</table>\n",
       "</div>"
      ],
      "text/plain": [
       "            doi tem_termo_termodinamico      pmid\n",
       "1  19502384.pdf                     Sim  19502384\n",
       "2  25799099.pdf                     Não  25799099\n",
       "3  28087700.pdf                     Sim  28087700\n",
       "4  28510592.pdf                     Não  28510592\n",
       "5  28655774.pdf                     Sim  28655774\n",
       "6  29903914.pdf                     Sim  29903914\n",
       "7  32934006.pdf                     Não  32934006\n",
       "8  35327663.pdf                     Sim  35327663\n",
       "9  36834620.pdf                     Sim  36834620"
      ]
     },
     "execution_count": 63,
     "metadata": {},
     "output_type": "execute_result"
    }
   ],
   "source": [
    "df_termos"
   ]
  },
  {
   "cell_type": "code",
   "execution_count": 72,
   "id": "1dcdd9f0-68f6-44eb-ba4e-843814b05b3b",
   "metadata": {},
   "outputs": [
    {
     "name": "stdout",
     "output_type": "stream",
     "text": [
      "<class 'pandas.core.frame.DataFrame'>\n",
      "RangeIndex: 608 entries, 0 to 607\n",
      "Data columns (total 21 columns):\n",
      " #   Column     Non-Null Count  Dtype  \n",
      "---  ------     --------------  -----  \n",
      " 0   key        608 non-null    object \n",
      " 1   title      608 non-null    object \n",
      " 2   year       587 non-null    float64\n",
      " 3   month      29 non-null     float64\n",
      " 4   day        12 non-null     float64\n",
      " 5   journal    510 non-null    object \n",
      " 6   issn       230 non-null    object \n",
      " 7   volume     297 non-null    float64\n",
      " 8   issue      100 non-null    float64\n",
      " 9   pages      267 non-null    object \n",
      " 10  authors    608 non-null    object \n",
      " 11  url        607 non-null    object \n",
      " 12  language   510 non-null    object \n",
      " 13  publisher  0 non-null      float64\n",
      " 14  location   176 non-null    object \n",
      " 15  abstract   592 non-null    object \n",
      " 16  notes      608 non-null    object \n",
      " 17  doi        537 non-null    object \n",
      " 18  keywords   573 non-null    object \n",
      " 19  pubmed_id  0 non-null      float64\n",
      " 20  pmc_id     0 non-null      float64\n",
      "dtypes: float64(8), object(13)\n",
      "memory usage: 99.9+ KB\n"
     ]
    }
   ],
   "source": [
    "data = pd.read_csv('../data/cystic_fibrosis/articles.csv')\n",
    "\n",
    "data.info()"
   ]
  },
  {
   "cell_type": "code",
   "execution_count": 75,
   "id": "cdeca4b7-171c-4c17-a67e-c63becdc6ceb",
   "metadata": {},
   "outputs": [],
   "source": [
    "data_pubmed = data_pubmed[['doi', 'pmid', 'affiliations', 'country']]\n",
    "data_pubmed\n",
    "\n",
    "data = pd.merge(data,data_pubmed,how='left',on=['doi'])"
   ]
  },
  {
   "cell_type": "code",
   "execution_count": 76,
   "id": "8d937055-448a-4876-ad9d-636962df4bb1",
   "metadata": {},
   "outputs": [],
   "source": [
    "data['location'] = data['location'].fillna(data['affiliations'])\n",
    "data['pmid'] = data['pmid'].fillna(data['pmc_id'])"
   ]
  },
  {
   "cell_type": "code",
   "execution_count": 77,
   "id": "c26b35f0-3060-4c73-913c-23beeb427007",
   "metadata": {},
   "outputs": [
    {
     "name": "stdout",
     "output_type": "stream",
     "text": [
      "<class 'pandas.core.frame.DataFrame'>\n",
      "RangeIndex: 608 entries, 0 to 607\n",
      "Data columns (total 24 columns):\n",
      " #   Column        Non-Null Count  Dtype  \n",
      "---  ------        --------------  -----  \n",
      " 0   key           608 non-null    object \n",
      " 1   title         608 non-null    object \n",
      " 2   year          587 non-null    float64\n",
      " 3   month         29 non-null     float64\n",
      " 4   day           12 non-null     float64\n",
      " 5   journal       510 non-null    object \n",
      " 6   issn          230 non-null    object \n",
      " 7   volume        297 non-null    float64\n",
      " 8   issue         100 non-null    float64\n",
      " 9   pages         267 non-null    object \n",
      " 10  authors       608 non-null    object \n",
      " 11  url           607 non-null    object \n",
      " 12  language      510 non-null    object \n",
      " 13  publisher     0 non-null      float64\n",
      " 14  location      321 non-null    object \n",
      " 15  abstract      592 non-null    object \n",
      " 16  notes         608 non-null    object \n",
      " 17  doi           537 non-null    object \n",
      " 18  keywords      573 non-null    object \n",
      " 19  pubmed_id     0 non-null      float64\n",
      " 20  pmc_id        0 non-null      float64\n",
      " 21  pmid          196 non-null    object \n",
      " 22  affiliations  196 non-null    object \n",
      " 23  country       196 non-null    object \n",
      "dtypes: float64(8), object(16)\n",
      "memory usage: 114.1+ KB\n"
     ]
    }
   ],
   "source": [
    "pd.set_option('display.max_colwidth', None)\n",
    "data.info()"
   ]
  },
  {
   "cell_type": "code",
   "execution_count": 78,
   "id": "88358726-e55b-4e10-9a46-fd8883b7225e",
   "metadata": {},
   "outputs": [],
   "source": [
    "data = data[['title','doi' ,'year', 'month', 'journal', 'url', 'location', 'pmid', 'country']]"
   ]
  },
  {
   "cell_type": "code",
   "execution_count": 79,
   "id": "cc84902e-a6ad-4db6-a021-426d0a419c4f",
   "metadata": {},
   "outputs": [
    {
     "data": {
      "text/plain": [
       "(608, 9)"
      ]
     },
     "execution_count": 79,
     "metadata": {},
     "output_type": "execute_result"
    }
   ],
   "source": [
    "data.shape"
   ]
  },
  {
   "cell_type": "code",
   "execution_count": 80,
   "id": "f26b54b6-87df-48d2-bb30-68f7940eee19",
   "metadata": {},
   "outputs": [
    {
     "name": "stdout",
     "output_type": "stream",
     "text": [
      "<class 'pandas.core.frame.DataFrame'>\n",
      "Index: 243 entries, 0 to 583\n",
      "Data columns (total 9 columns):\n",
      " #   Column    Non-Null Count  Dtype  \n",
      "---  ------    --------------  -----  \n",
      " 0   title     243 non-null    object \n",
      " 1   doi       243 non-null    object \n",
      " 2   year      243 non-null    float64\n",
      " 3   month     1 non-null      float64\n",
      " 4   journal   203 non-null    object \n",
      " 5   url       243 non-null    object \n",
      " 6   location  0 non-null      object \n",
      " 7   pmid      0 non-null      object \n",
      " 8   country   0 non-null      object \n",
      "dtypes: float64(2), object(7)\n",
      "memory usage: 19.0+ KB\n"
     ]
    }
   ],
   "source": [
    "data_null = data[data.doi.notnull() & data.location.isnull()]\n",
    "data_null.info()"
   ]
  },
  {
   "cell_type": "code",
   "execution_count": 81,
   "id": "a979e895-3379-4b18-8c9c-7e70dc5d012b",
   "metadata": {},
   "outputs": [
    {
     "name": "stderr",
     "output_type": "stream",
     "text": [
      "2025-05-23 18:22:35 grati elsapy.elsclient[2537748] INFO Module loaded.\n",
      "2025-05-23 18:22:35 grati elsapy.elsentity[2537748] INFO Module loaded.\n",
      "2025-05-23 18:22:35 grati elsapy.elsdoc[2537748] INFO Module loaded.\n",
      "2025-05-23 18:22:35 grati elsapy.utils[2537748] INFO Module loaded.\n",
      "2025-05-23 18:22:35 grati elsapy.elssearch[2537748] INFO Module loaded.\n"
     ]
    }
   ],
   "source": [
    "from elsapy.elsclient import ElsClient\n",
    "from elsapy.elsdoc import AbsDoc, FullDoc\n",
    "from elsapy.elssearch import ElsSearch\n",
    "\n",
    "load_dotenv()\n",
    "apikey = os.getenv(\"X_ELS_APIKey\")\n",
    "insttoken = os.getenv(\"X_ELS_Insttoken\")\n",
    "\n",
    "client = ElsClient(apikey)\n",
    "client.inst_token = insttoken"
   ]
  },
  {
   "cell_type": "code",
   "execution_count": 82,
   "id": "404bcf72-7978-4dd6-aa37-82a4372b749c",
   "metadata": {},
   "outputs": [
    {
     "name": "stderr",
     "output_type": "stream",
     "text": [
      "2025-05-23 18:22:44 grati elsapy.elsclient[2537748] INFO Sending GET request to https://api.elsevier.com/content/search/scopus?query=10.1016%2Fj.ejphar.2024.176771\n",
      "2025-05-23 18:22:46 grati elsapy.utils[2537748] INFO Converting prism:coverDate\n",
      "2025-05-23 18:22:47 grati elsapy.elsclient[2537748] INFO Sending GET request to https://api.elsevier.com/content/search/scopus?query=10.1016%2Fj.pan.2024.07.015\n",
      "2025-05-23 18:22:48 grati elsapy.utils[2537748] INFO Converting prism:coverDate\n",
      "2025-05-23 18:22:49 grati elsapy.elsclient[2537748] INFO Sending GET request to https://api.elsevier.com/content/search/scopus?query=10.1016%2Fj.urology.2023.02.017\n",
      "2025-05-23 18:22:50 grati elsapy.utils[2537748] INFO Converting prism:coverDate\n",
      "2025-05-23 18:22:51 grati elsapy.elsclient[2537748] INFO Sending GET request to https://api.elsevier.com/content/search/scopus?query=10.1016%2Fj.pan.2024.07.009\n",
      "2025-05-23 18:22:52 grati elsapy.utils[2537748] INFO Converting prism:coverDate\n",
      "2025-05-23 18:22:53 grati elsapy.elsclient[2537748] INFO Sending GET request to https://api.elsevier.com/content/search/scopus?query=10.1016%2Fj.jcf.2023.03.004\n",
      "2025-05-23 18:22:54 grati elsapy.utils[2537748] INFO Converting prism:coverDate\n",
      "2025-05-23 18:22:55 grati elsapy.elsclient[2537748] INFO Sending GET request to https://api.elsevier.com/content/search/scopus?query=10.1016%2Fj.jcf.2024.02.008\n",
      "2025-05-23 18:22:56 grati elsapy.utils[2537748] INFO Converting prism:coverDate\n",
      "2025-05-23 18:22:57 grati elsapy.elsclient[2537748] INFO Sending GET request to https://api.elsevier.com/content/search/scopus?query=10.1002%2Fppul.26713\n",
      "2025-05-23 18:22:57 grati elsapy.utils[2537748] INFO Converting prism:coverDate\n",
      "2025-05-23 18:22:58 grati elsapy.elsclient[2537748] INFO Sending GET request to https://api.elsevier.com/content/search/scopus?query=10.1016%2Fj.resinv.2024.03.003\n",
      "2025-05-23 18:22:59 grati elsapy.utils[2537748] INFO Converting prism:coverDate\n",
      "2025-05-23 18:23:00 grati elsapy.elsclient[2537748] INFO Sending GET request to https://api.elsevier.com/content/search/scopus?query=10.1183%2F13993003.00233-2024\n",
      "2025-05-23 18:23:01 grati elsapy.utils[2537748] INFO Converting prism:coverDate\n",
      "2025-05-23 18:23:02 grati elsapy.elsclient[2537748] INFO Sending GET request to https://api.elsevier.com/content/search/scopus?query=10.1016%2Fj.jcf.2024.07.017\n",
      "2025-05-23 18:23:03 grati elsapy.utils[2537748] INFO Converting prism:coverDate\n",
      "2025-05-23 18:23:04 grati elsapy.elsclient[2537748] INFO Sending GET request to https://api.elsevier.com/content/search/scopus?query=10.1002%2Fppul.26690\n",
      "2025-05-23 18:23:06 grati elsapy.utils[2537748] INFO Converting prism:coverDate\n",
      "2025-05-23 18:23:07 grati elsapy.elsclient[2537748] INFO Sending GET request to https://api.elsevier.com/content/search/scopus?query=10.1016%2Fj.jcf.2023.04.003\n",
      "2025-05-23 18:23:08 grati elsapy.utils[2537748] INFO Converting prism:coverDate\n",
      "2025-05-23 18:23:09 grati elsapy.elsclient[2537748] INFO Sending GET request to https://api.elsevier.com/content/search/scopus?query=10.1113%2FJP286135\n",
      "2025-05-23 18:23:10 grati elsapy.utils[2537748] INFO Converting prism:coverDate\n",
      "2025-05-23 18:23:11 grati elsapy.elsclient[2537748] INFO Sending GET request to https://api.elsevier.com/content/search/scopus?query=10.1016%2Fj.jbc.2022.101615\n",
      "2025-05-23 18:23:11 grati elsapy.utils[2537748] INFO Converting prism:coverDate\n",
      "2025-05-23 18:23:12 grati elsapy.elsclient[2537748] INFO Sending GET request to https://api.elsevier.com/content/search/scopus?query=10.1016%2Fj.jcf.2022.07.008\n",
      "2025-05-23 18:23:13 grati elsapy.utils[2537748] INFO Converting prism:coverDate\n",
      "2025-05-23 18:23:14 grati elsapy.elsclient[2537748] INFO Sending GET request to https://api.elsevier.com/content/search/scopus?query=10.1183%2F13993003.00671-2021\n",
      "2025-05-23 18:23:15 grati elsapy.utils[2537748] INFO Converting prism:coverDate\n",
      "2025-05-23 18:23:16 grati elsapy.elsclient[2537748] INFO Sending GET request to https://api.elsevier.com/content/search/scopus?query=10.1016%2Fj.jcf.2022.08.019\n",
      "2025-05-23 18:23:17 grati elsapy.utils[2537748] INFO Converting prism:coverDate\n",
      "2025-05-23 18:23:18 grati elsapy.elsclient[2537748] INFO Sending GET request to https://api.elsevier.com/content/search/scopus?query=10.1183%2F13993003.01341-2022\n",
      "2025-05-23 18:23:18 grati elsapy.utils[2537748] INFO Converting prism:coverDate\n",
      "2025-05-23 18:23:19 grati elsapy.elsclient[2537748] INFO Sending GET request to https://api.elsevier.com/content/search/scopus?query=10.1016%2Fj.jcf.2021.07.006\n",
      "2025-05-23 18:23:20 grati elsapy.utils[2537748] INFO Converting prism:coverDate\n",
      "2025-05-23 18:23:21 grati elsapy.elsclient[2537748] INFO Sending GET request to https://api.elsevier.com/content/search/scopus?query=10.18093%2F0869-0189-2023-33-2-182-188\n",
      "2025-05-23 18:23:22 grati elsapy.utils[2537748] INFO Converting prism:coverDate\n",
      "2025-05-23 18:23:23 grati elsapy.elsclient[2537748] INFO Sending GET request to https://api.elsevier.com/content/search/scopus?query=10.1556%2F650.2022.32655\n",
      "2025-05-23 18:23:24 grati elsapy.utils[2537748] INFO Converting prism:coverDate\n",
      "2025-05-23 18:23:25 grati elsapy.elsclient[2537748] INFO Sending GET request to https://api.elsevier.com/content/search/scopus?query=10.1016%2Fj.jcf.2022.05.013\n",
      "2025-05-23 18:23:27 grati elsapy.utils[2537748] INFO Converting prism:coverDate\n",
      "2025-05-23 18:23:28 grati elsapy.elsclient[2537748] INFO Sending GET request to https://api.elsevier.com/content/search/scopus?query=10.1016%2Fj.jcf.2021.12.012\n",
      "2025-05-23 18:23:28 grati elsapy.utils[2537748] INFO Converting prism:coverDate\n",
      "2025-05-23 18:23:29 grati elsapy.elsclient[2537748] INFO Sending GET request to https://api.elsevier.com/content/search/scopus?query=10.1016%2Fj.jcf.2021.09.001\n",
      "2025-05-23 18:23:30 grati elsapy.utils[2537748] INFO Converting prism:coverDate\n",
      "2025-05-23 18:23:31 grati elsapy.elsclient[2537748] INFO Sending GET request to https://api.elsevier.com/content/search/scopus?query=10.1136%2Fpostgradmedj-2020-139278\n",
      "2025-05-23 18:23:32 grati elsapy.utils[2537748] INFO Converting prism:coverDate\n",
      "2025-05-23 18:23:33 grati elsapy.elsclient[2537748] INFO Sending GET request to https://api.elsevier.com/content/search/scopus?query=10.1016%2Fj.jcf.2022.01.008\n",
      "2025-05-23 18:23:34 grati elsapy.utils[2537748] INFO Converting prism:coverDate\n",
      "2025-05-23 18:23:35 grati elsapy.elsclient[2537748] INFO Sending GET request to https://api.elsevier.com/content/search/scopus?query=10.20953%2F1817-7646-2022-3-83-91\n",
      "2025-05-23 18:23:35 grati elsapy.utils[2537748] INFO Converting prism:coverDate\n",
      "2025-05-23 18:23:36 grati elsapy.elsclient[2537748] INFO Sending GET request to https://api.elsevier.com/content/search/scopus?query=10.1016%2Fj.jcf.2021.09.020\n",
      "2025-05-23 18:23:37 grati elsapy.utils[2537748] INFO Converting prism:coverDate\n",
      "2025-05-23 18:23:38 grati elsapy.elsclient[2537748] INFO Sending GET request to https://api.elsevier.com/content/search/scopus?query=10.1016%2Fj.jmb.2022.167561\n",
      "2025-05-23 18:23:39 grati elsapy.utils[2537748] INFO Converting prism:coverDate\n",
      "2025-05-23 18:23:40 grati elsapy.elsclient[2537748] INFO Sending GET request to https://api.elsevier.com/content/search/scopus?query=10.1164%2FRCCM.202110-2249OC\n",
      "2025-05-23 18:23:41 grati elsapy.utils[2537748] INFO Converting prism:coverDate\n",
      "2025-05-23 18:23:42 grati elsapy.elsclient[2537748] INFO Sending GET request to https://api.elsevier.com/content/search/scopus?query=10.1113%2FJP282143\n",
      "2025-05-23 18:23:43 grati elsapy.utils[2537748] INFO Converting prism:coverDate\n",
      "2025-05-23 18:23:44 grati elsapy.elsclient[2537748] INFO Sending GET request to https://api.elsevier.com/content/search/scopus?query=10.1016%2Fj.jcf.2019.06.010\n",
      "2025-05-23 18:23:44 grati elsapy.utils[2537748] INFO Converting prism:coverDate\n",
      "2025-05-23 18:23:45 grati elsapy.elsclient[2537748] INFO Sending GET request to https://api.elsevier.com/content/search/scopus?query=10.1016%2Fj.jcf.2021.03.011\n",
      "2025-05-23 18:23:46 grati elsapy.utils[2537748] INFO Converting prism:coverDate\n",
      "2025-05-23 18:23:47 grati elsapy.elsclient[2537748] INFO Sending GET request to https://api.elsevier.com/content/search/scopus?query=10.1016%2Fj.jcf.2020.07.003\n",
      "2025-05-23 18:23:47 grati elsapy.utils[2537748] INFO Converting prism:coverDate\n",
      "2025-05-23 18:23:48 grati elsapy.elsclient[2537748] INFO Sending GET request to https://api.elsevier.com/content/search/scopus?query=10.1016%2FS2213-2600%2820%2930510-5\n"
     ]
    },
    {
     "name": "stdout",
     "output_type": "stream",
     "text": [
      "Erro ao buscar DOI 10.1016/S2213-2600(20)30510-5: HTTP 400 Error from https://api.elsevier.com/content/search/scopus?query=10.1016%2FS2213-2600%2820%2930510-5\n",
      "and using headers {'X-ELS-APIKey': '18cea8004848f339d14dd509a16e753e', 'User-Agent': 'elsapy-v0.5.1', 'Accept': 'application/json', 'X-ELS-Insttoken': 'aa8087d5506a067fa3e1c2761628f450'}:\n",
      "{\"service-error\":{\"status\":{\"statusCode\":\"INVALID_INPUT\",\"statusText\":\"Error translating query\"}}}\n"
     ]
    },
    {
     "name": "stderr",
     "output_type": "stream",
     "text": [
      "2025-05-23 18:23:50 grati elsapy.elsclient[2537748] INFO Sending GET request to https://api.elsevier.com/content/search/scopus?query=10.1016%2Fj.biocel.2021.105976\n",
      "2025-05-23 18:23:51 grati elsapy.utils[2537748] INFO Converting prism:coverDate\n",
      "2025-05-23 18:23:52 grati elsapy.elsclient[2537748] INFO Sending GET request to https://api.elsevier.com/content/search/scopus?query=10.1152%2FAJPLUNG.00137.2020\n",
      "2025-05-23 18:23:52 grati elsapy.utils[2537748] INFO Converting prism:coverDate\n",
      "2025-05-23 18:23:53 grati elsapy.elsclient[2537748] INFO Sending GET request to https://api.elsevier.com/content/search/scopus?query=10.1016%2Fj.jcf.2020.07.015\n",
      "2025-05-23 18:23:54 grati elsapy.utils[2537748] INFO Converting prism:coverDate\n",
      "2025-05-23 18:23:55 grati elsapy.elsclient[2537748] INFO Sending GET request to https://api.elsevier.com/content/search/scopus?query=10.1016%2Fj.tiv.2021.105253\n",
      "2025-05-23 18:23:56 grati elsapy.utils[2537748] INFO Converting prism:coverDate\n",
      "2025-05-23 18:23:57 grati elsapy.elsclient[2537748] INFO Sending GET request to https://api.elsevier.com/content/search/scopus?query=10.1016%2Fj.jcf.2020.09.001\n",
      "2025-05-23 18:23:57 grati elsapy.utils[2537748] INFO Converting prism:coverDate\n",
      "2025-05-23 18:23:58 grati elsapy.elsclient[2537748] INFO Sending GET request to https://api.elsevier.com/content/search/scopus?query=10.1164%2Frccm.202004-1200LE\n",
      "2025-05-23 18:24:00 grati elsapy.utils[2537748] INFO Converting prism:coverDate\n",
      "2025-05-23 18:24:01 grati elsapy.elsclient[2537748] INFO Sending GET request to https://api.elsevier.com/content/search/scopus?query=10.1016%2Fj.jcf.2020.11.008\n",
      "2025-05-23 18:24:01 grati elsapy.utils[2537748] INFO Converting prism:coverDate\n",
      "2025-05-23 18:24:02 grati elsapy.elsclient[2537748] INFO Sending GET request to https://api.elsevier.com/content/search/scopus?query=10.1152%2FAJPGI.00095.2021\n",
      "2025-05-23 18:24:03 grati elsapy.utils[2537748] INFO Converting prism:coverDate\n",
      "2025-05-23 18:24:04 grati elsapy.elsclient[2537748] INFO Sending GET request to https://api.elsevier.com/content/search/scopus?query=10.1091%2FMBC.E20-11-0688\n",
      "2025-05-23 18:24:06 grati elsapy.utils[2537748] INFO Converting prism:coverDate\n",
      "2025-05-23 18:24:07 grati elsapy.elsclient[2537748] INFO Sending GET request to https://api.elsevier.com/content/search/scopus?query=10.1016%2Fj.bbadis.2020.165905\n",
      "2025-05-23 18:24:07 grati elsapy.utils[2537748] INFO Converting prism:coverDate\n",
      "2025-05-23 18:24:08 grati elsapy.elsclient[2537748] INFO Sending GET request to https://api.elsevier.com/content/search/scopus?query=10.1016%2Fj.jcf.2019.12.006\n",
      "2025-05-23 18:24:09 grati elsapy.utils[2537748] INFO Converting prism:coverDate\n",
      "2025-05-23 18:24:10 grati elsapy.elsclient[2537748] INFO Sending GET request to https://api.elsevier.com/content/search/scopus?query=10.1002%2Fppul.24823\n",
      "2025-05-23 18:24:11 grati elsapy.utils[2537748] INFO Converting prism:coverDate\n",
      "2025-05-23 18:24:12 grati elsapy.elsclient[2537748] INFO Sending GET request to https://api.elsevier.com/content/search/scopus?query=10.5603%2FARM.A2020.0142\n",
      "2025-05-23 18:24:12 grati elsapy.utils[2537748] INFO Converting prism:coverDate\n",
      "2025-05-23 18:24:13 grati elsapy.elsclient[2537748] INFO Sending GET request to https://api.elsevier.com/content/search/scopus?query=10.1016%2FS2213-2600%2818%2930460-0\n"
     ]
    },
    {
     "name": "stdout",
     "output_type": "stream",
     "text": [
      "Erro ao buscar DOI 10.1016/S2213-2600(18)30460-0: HTTP 400 Error from https://api.elsevier.com/content/search/scopus?query=10.1016%2FS2213-2600%2818%2930460-0\n",
      "and using headers {'X-ELS-APIKey': '18cea8004848f339d14dd509a16e753e', 'User-Agent': 'elsapy-v0.5.1', 'Accept': 'application/json', 'X-ELS-Insttoken': 'aa8087d5506a067fa3e1c2761628f450'}:\n",
      "{\"service-error\":{\"status\":{\"statusCode\":\"INVALID_INPUT\",\"statusText\":\"Error translating query\"}}}\n"
     ]
    },
    {
     "name": "stderr",
     "output_type": "stream",
     "text": [
      "2025-05-23 18:24:15 grati elsapy.elsclient[2537748] INFO Sending GET request to https://api.elsevier.com/content/search/scopus?query=10.1016%2Fj.rmed.2020.106027\n",
      "2025-05-23 18:24:15 grati elsapy.utils[2537748] INFO Converting prism:coverDate\n",
      "2025-05-23 18:24:16 grati elsapy.elsclient[2537748] INFO Sending GET request to https://api.elsevier.com/content/search/scopus?query=10.1080%2F17476348.2020.1682998\n",
      "2025-05-23 18:24:17 grati elsapy.utils[2537748] INFO Converting prism:coverDate\n",
      "2025-05-23 18:24:18 grati elsapy.elsclient[2537748] INFO Sending GET request to https://api.elsevier.com/content/search/scopus?query=10.1016%2Fj.jcf.2019.09.018\n",
      "2025-05-23 18:24:19 grati elsapy.utils[2537748] INFO Converting prism:coverDate\n",
      "2025-05-23 18:24:20 grati elsapy.elsclient[2537748] INFO Sending GET request to https://api.elsevier.com/content/search/scopus?query=10.1002%2Fhumu.23741\n",
      "2025-05-23 18:24:20 grati elsapy.utils[2537748] INFO Converting prism:coverDate\n",
      "2025-05-23 18:24:21 grati elsapy.elsclient[2537748] INFO Sending GET request to https://api.elsevier.com/content/search/scopus?query=10.1016%2Fj.jcf.2019.02.009\n",
      "2025-05-23 18:24:22 grati elsapy.utils[2537748] INFO Converting prism:coverDate\n",
      "2025-05-23 18:24:23 grati elsapy.elsclient[2537748] INFO Sending GET request to https://api.elsevier.com/content/search/scopus?query=10.1016%2Fj.jcf.2019.06.011\n",
      "2025-05-23 18:24:24 grati elsapy.utils[2537748] INFO Converting prism:coverDate\n",
      "2025-05-23 18:24:25 grati elsapy.elsclient[2537748] INFO Sending GET request to https://api.elsevier.com/content/search/scopus?query=10.1007%2Fs00535-019-01610-9\n",
      "2025-05-23 18:24:25 grati elsapy.utils[2537748] INFO Converting prism:coverDate\n",
      "2025-05-23 18:24:26 grati elsapy.elsclient[2537748] INFO Sending GET request to https://api.elsevier.com/content/search/scopus?query=10.1007%2Fs00408-020-00320-x\n",
      "2025-05-23 18:24:27 grati elsapy.utils[2537748] INFO Converting prism:coverDate\n",
      "2025-05-23 18:24:28 grati elsapy.elsclient[2537748] INFO Sending GET request to https://api.elsevier.com/content/search/scopus?query=10.1080%2F17476348.2020.1741352\n",
      "2025-05-23 18:24:29 grati elsapy.utils[2537748] INFO Converting prism:coverDate\n",
      "2025-05-23 18:24:30 grati elsapy.elsclient[2537748] INFO Sending GET request to https://api.elsevier.com/content/search/scopus?query=10.1016%2Fj.jcmgh.2019.09.003\n",
      "2025-05-23 18:24:30 grati elsapy.utils[2537748] INFO Converting prism:coverDate\n",
      "2025-05-23 18:24:31 grati elsapy.elsclient[2537748] INFO Sending GET request to https://api.elsevier.com/content/search/scopus?query=10.1016%2Fj.jcf.2019.10.021\n",
      "2025-05-23 18:24:32 grati elsapy.utils[2537748] INFO Converting prism:coverDate\n",
      "2025-05-23 18:24:33 grati elsapy.elsclient[2537748] INFO Sending GET request to https://api.elsevier.com/content/search/scopus?query=10.1016%2Fj.bbadis.2019.01.029\n",
      "2025-05-23 18:24:34 grati elsapy.utils[2537748] INFO Converting prism:coverDate\n",
      "2025-05-23 18:24:35 grati elsapy.elsclient[2537748] INFO Sending GET request to https://api.elsevier.com/content/search/scopus?query=10.1016%2FS0140-6736%2819%2932597-8\n"
     ]
    },
    {
     "name": "stdout",
     "output_type": "stream",
     "text": [
      "Erro ao buscar DOI 10.1016/S0140-6736(19)32597-8: HTTP 400 Error from https://api.elsevier.com/content/search/scopus?query=10.1016%2FS0140-6736%2819%2932597-8\n",
      "and using headers {'X-ELS-APIKey': '18cea8004848f339d14dd509a16e753e', 'User-Agent': 'elsapy-v0.5.1', 'Accept': 'application/json', 'X-ELS-Insttoken': 'aa8087d5506a067fa3e1c2761628f450'}:\n",
      "{\"service-error\":{\"status\":{\"statusCode\":\"INVALID_INPUT\",\"statusText\":\"Error translating query\"}}}\n"
     ]
    },
    {
     "name": "stderr",
     "output_type": "stream",
     "text": [
      "2025-05-23 18:24:36 grati elsapy.elsclient[2537748] INFO Sending GET request to https://api.elsevier.com/content/search/scopus?query=10.1016%2Fj.jcf.2019.03.001\n",
      "2025-05-23 18:24:37 grati elsapy.utils[2537748] INFO Converting prism:coverDate\n",
      "2025-05-23 18:24:38 grati elsapy.elsclient[2537748] INFO Sending GET request to https://api.elsevier.com/content/search/scopus?query=10.1016%2Fj.jconrel.2019.01.025\n",
      "2025-05-23 18:24:38 grati elsapy.utils[2537748] INFO Converting prism:coverDate\n",
      "2025-05-23 18:24:39 grati elsapy.elsclient[2537748] INFO Sending GET request to https://api.elsevier.com/content/search/scopus?query=10.1513%2FAnnalsATS.201802-149OC\n",
      "2025-05-23 18:24:41 grati elsapy.utils[2537748] INFO Converting prism:coverDate\n",
      "2025-05-23 18:24:42 grati elsapy.elsclient[2537748] INFO Sending GET request to https://api.elsevier.com/content/search/scopus?query=10.1016%2Fj.jcf.2018.07.001\n",
      "2025-05-23 18:24:42 grati elsapy.utils[2537748] INFO Converting prism:coverDate\n",
      "2025-05-23 18:24:43 grati elsapy.elsclient[2537748] INFO Sending GET request to https://api.elsevier.com/content/search/scopus?query=10.1002%2Fprot.25496\n",
      "2025-05-23 18:24:44 grati elsapy.utils[2537748] INFO Converting prism:coverDate\n",
      "2025-05-23 18:24:45 grati elsapy.elsclient[2537748] INFO Sending GET request to https://api.elsevier.com/content/search/scopus?query=10.1172%2Fjci.insight.122695\n",
      "2025-05-23 18:24:46 grati elsapy.utils[2537748] INFO Converting prism:coverDate\n",
      "2025-05-23 18:24:47 grati elsapy.elsclient[2537748] INFO Sending GET request to https://api.elsevier.com/content/search/scopus?query=10.1021%2Facs.jmedchem.7b01339\n",
      "2025-05-23 18:24:47 grati elsapy.utils[2537748] INFO Converting prism:coverDate\n",
      "2025-05-23 18:24:48 grati elsapy.elsclient[2537748] INFO Sending GET request to https://api.elsevier.com/content/search/scopus?query=10.1164%2Frccm.201710-1983OC\n",
      "2025-05-23 18:24:50 grati elsapy.utils[2537748] INFO Converting prism:coverDate\n",
      "2025-05-23 18:24:51 grati elsapy.elsclient[2537748] INFO Sending GET request to https://api.elsevier.com/content/search/scopus?query=10.1016%2Fj.jcf.2018.04.004\n",
      "2025-05-23 18:24:52 grati elsapy.utils[2537748] INFO Converting prism:coverDate\n",
      "2025-05-23 18:24:53 grati elsapy.elsclient[2537748] INFO Sending GET request to https://api.elsevier.com/content/search/scopus?query=10.1183%2F13993003.02529-2017\n",
      "2025-05-23 18:24:54 grati elsapy.utils[2537748] INFO Converting prism:coverDate\n",
      "2025-05-23 18:24:55 grati elsapy.elsclient[2537748] INFO Sending GET request to https://api.elsevier.com/content/search/scopus?query=10.1016%2Fj.jcf.2017.09.006\n",
      "2025-05-23 18:24:55 grati elsapy.utils[2537748] INFO Converting prism:coverDate\n",
      "2025-05-23 18:24:56 grati elsapy.elsclient[2537748] INFO Sending GET request to https://api.elsevier.com/content/search/scopus?query=10.1016%2Fj.jcf.2018.12.006\n",
      "2025-05-23 18:24:57 grati elsapy.utils[2537748] INFO Converting prism:coverDate\n",
      "2025-05-23 18:24:58 grati elsapy.elsclient[2537748] INFO Sending GET request to https://api.elsevier.com/content/search/scopus?query=10.1016%2Fj.jcf.2017.12.005\n",
      "2025-05-23 18:24:59 grati elsapy.utils[2537748] INFO Converting prism:coverDate\n",
      "2025-05-23 18:25:00 grati elsapy.elsclient[2537748] INFO Sending GET request to https://api.elsevier.com/content/search/scopus?query=10.1016%2Fj.ajhg.2018.04.003\n",
      "2025-05-23 18:25:02 grati elsapy.utils[2537748] INFO Converting prism:coverDate\n",
      "2025-05-23 18:25:03 grati elsapy.elsclient[2537748] INFO Sending GET request to https://api.elsevier.com/content/search/scopus?query=10.1007%2Fs11033-018-4361-y\n",
      "2025-05-23 18:25:04 grati elsapy.utils[2537748] INFO Converting prism:coverDate\n",
      "2025-05-23 18:25:05 grati elsapy.elsclient[2537748] INFO Sending GET request to https://api.elsevier.com/content/search/scopus?query=10.2174%2F1389450117666151209114343\n",
      "2025-05-23 18:25:06 grati elsapy.utils[2537748] INFO Converting prism:coverDate\n",
      "2025-05-23 18:25:07 grati elsapy.elsclient[2537748] INFO Sending GET request to https://api.elsevier.com/content/search/scopus?query=10.1016%2Fj.jcf.2016.09.005\n",
      "2025-05-23 18:25:07 grati elsapy.utils[2537748] INFO Converting prism:coverDate\n",
      "2025-05-23 18:25:08 grati elsapy.elsclient[2537748] INFO Sending GET request to https://api.elsevier.com/content/search/scopus?query=10.1016%2Fj.jcf.2017.06.010\n",
      "2025-05-23 18:25:09 grati elsapy.utils[2537748] INFO Converting prism:coverDate\n",
      "2025-05-23 18:25:10 grati elsapy.elsclient[2537748] INFO Sending GET request to https://api.elsevier.com/content/search/scopus?query=10.1016%2Fj.jcf.2016.10.002\n",
      "2025-05-23 18:25:11 grati elsapy.utils[2537748] INFO Converting prism:coverDate\n",
      "2025-05-23 18:25:12 grati elsapy.elsclient[2537748] INFO Sending GET request to https://api.elsevier.com/content/search/scopus?query=10.1136%2Fbmjresp-2016-000141\n",
      "2025-05-23 18:25:12 grati elsapy.utils[2537748] INFO Converting prism:coverDate\n",
      "2025-05-23 18:25:13 grati elsapy.elsclient[2537748] INFO Sending GET request to https://api.elsevier.com/content/search/scopus?query=10.1097%2FMPA.0000000000000589\n",
      "2025-05-23 18:25:14 grati elsapy.utils[2537748] INFO Converting prism:coverDate\n",
      "2025-05-23 18:25:15 grati elsapy.elsclient[2537748] INFO Sending GET request to https://api.elsevier.com/content/search/scopus?query=10.1016%2Fj.jcf.2017.07.001\n",
      "2025-05-23 18:25:16 grati elsapy.utils[2537748] INFO Converting prism:coverDate\n",
      "2025-05-23 18:25:17 grati elsapy.elsclient[2537748] INFO Sending GET request to https://api.elsevier.com/content/search/scopus?query=10.1016%2Fj.jcf.2017.03.003\n",
      "2025-05-23 18:25:17 grati elsapy.utils[2537748] INFO Converting prism:coverDate\n",
      "2025-05-23 18:25:18 grati elsapy.elsclient[2537748] INFO Sending GET request to https://api.elsevier.com/content/search/scopus?query=10.1517%2F21678707.2016.1133282\n",
      "2025-05-23 18:25:19 grati elsapy.utils[2537748] INFO Converting prism:coverDate\n",
      "2025-05-23 18:25:20 grati elsapy.elsclient[2537748] INFO Sending GET request to https://api.elsevier.com/content/search/scopus?query=10.1016%2Fj.jcf.2015.11.003\n",
      "2025-05-23 18:25:21 grati elsapy.utils[2537748] INFO Converting prism:coverDate\n",
      "2025-05-23 18:25:22 grati elsapy.elsclient[2537748] INFO Sending GET request to https://api.elsevier.com/content/search/scopus?query=10.15275%2Frusomj.2017.0101\n",
      "2025-05-23 18:25:22 grati elsapy.utils[2537748] INFO Converting prism:coverDate\n",
      "2025-05-23 18:25:23 grati elsapy.elsclient[2537748] INFO Sending GET request to https://api.elsevier.com/content/search/scopus?query=10.1016%2Fj.jcf.2016.04.007\n",
      "2025-05-23 18:25:24 grati elsapy.utils[2537748] INFO Converting prism:coverDate\n",
      "2025-05-23 18:25:25 grati elsapy.elsclient[2537748] INFO Sending GET request to https://api.elsevier.com/content/search/scopus?query=10.1513%2FAnnalsATS.201701-058OC\n",
      "2025-05-23 18:25:26 grati elsapy.utils[2537748] INFO Converting prism:coverDate\n",
      "2025-05-23 18:25:27 grati elsapy.elsclient[2537748] INFO Sending GET request to https://api.elsevier.com/content/search/scopus?query=10.1172%2Fjci.insight.86581\n",
      "2025-05-23 18:25:28 grati elsapy.utils[2537748] INFO Converting prism:coverDate\n",
      "2025-05-23 18:25:29 grati elsapy.elsclient[2537748] INFO Sending GET request to https://api.elsevier.com/content/search/scopus?query=10.1016%2Fj.jmoldx.2017.06.002\n",
      "2025-05-23 18:25:30 grati elsapy.utils[2537748] INFO Converting prism:coverDate\n",
      "2025-05-23 18:25:31 grati elsapy.elsclient[2537748] INFO Sending GET request to https://api.elsevier.com/content/search/scopus?query=10.1183%2F13993003.01192-2015\n",
      "2025-05-23 18:25:31 grati elsapy.utils[2537748] INFO Converting prism:coverDate\n",
      "2025-05-23 18:25:32 grati elsapy.elsclient[2537748] INFO Sending GET request to https://api.elsevier.com/content/search/scopus?query=10.1126%2Fscitranslmed.aad8278\n",
      "2025-05-23 18:25:33 grati elsapy.utils[2537748] INFO Converting prism:coverDate\n",
      "2025-05-23 18:25:34 grati elsapy.elsclient[2537748] INFO Sending GET request to https://api.elsevier.com/content/search/scopus?query=10.1074%2Fjbc.M116.772335\n",
      "2025-05-23 18:25:35 grati elsapy.utils[2537748] INFO Converting prism:coverDate\n",
      "2025-05-23 18:25:36 grati elsapy.elsclient[2537748] INFO Sending GET request to https://api.elsevier.com/content/search/scopus?query=10.1183%2F1025448x.10009513\n",
      "2025-05-23 18:25:36 grati elsapy.utils[2537748] INFO Converting prism:coverDate\n",
      "2025-05-23 18:25:37 grati elsapy.elsclient[2537748] INFO Sending GET request to https://api.elsevier.com/content/search/scopus?query=10.1002%2Fcbin.10312\n",
      "2025-05-23 18:25:38 grati elsapy.utils[2537748] INFO Converting prism:coverDate\n",
      "2025-05-23 18:25:39 grati elsapy.elsclient[2537748] INFO Sending GET request to https://api.elsevier.com/content/search/scopus?query=10.1042%2FBST20150081\n",
      "2025-05-23 18:25:39 grati elsapy.utils[2537748] INFO Converting prism:coverDate\n",
      "2025-05-23 18:25:40 grati elsapy.elsclient[2537748] INFO Sending GET request to https://api.elsevier.com/content/search/scopus?query=10.1002%2Fpmic.201400218\n",
      "2025-05-23 18:25:41 grati elsapy.utils[2537748] INFO Converting prism:coverDate\n",
      "2025-05-23 18:25:42 grati elsapy.elsclient[2537748] INFO Sending GET request to https://api.elsevier.com/content/search/scopus?query=10.1097%2FMPG.0000000000000623\n",
      "2025-05-23 18:25:43 grati elsapy.utils[2537748] INFO Converting prism:coverDate\n",
      "2025-05-23 18:25:44 grati elsapy.elsclient[2537748] INFO Sending GET request to https://api.elsevier.com/content/search/scopus?query=10.1097%2FCPM.0000000000000121\n",
      "2025-05-23 18:25:44 grati elsapy.utils[2537748] INFO Converting prism:coverDate\n",
      "2025-05-23 18:25:45 grati elsapy.elsclient[2537748] INFO Sending GET request to https://api.elsevier.com/content/search/scopus?query=10.1517%2F21678707.2014.942220\n",
      "2025-05-23 18:25:46 grati elsapy.utils[2537748] INFO Converting prism:coverDate\n",
      "2025-05-23 18:25:47 grati elsapy.elsclient[2537748] INFO Sending GET request to https://api.elsevier.com/content/search/scopus?query=10.1378%2Fchest.14-1198\n",
      "2025-05-23 18:25:47 grati elsapy.utils[2537748] INFO Converting prism:coverDate\n",
      "2025-05-23 18:25:48 grati elsapy.elsclient[2537748] INFO Sending GET request to https://api.elsevier.com/content/search/scopus?query=10.1016%2Fj.jcf.2014.11.001\n",
      "2025-05-23 18:25:49 grati elsapy.utils[2537748] INFO Converting prism:coverDate\n",
      "2025-05-23 18:25:50 grati elsapy.elsclient[2537748] INFO Sending GET request to https://api.elsevier.com/content/search/scopus?query=10.1124%2Fjpet.114.214890\n",
      "2025-05-23 18:25:51 grati elsapy.utils[2537748] INFO Converting prism:coverDate\n",
      "2025-05-23 18:25:52 grati elsapy.elsclient[2537748] INFO Sending GET request to https://api.elsevier.com/content/search/scopus?query=10.1016%2Fj.stemcr.2015.02.005\n",
      "2025-05-23 18:25:52 grati elsapy.utils[2537748] INFO Converting prism:coverDate\n",
      "2025-05-23 18:25:53 grati elsapy.elsclient[2537748] INFO Sending GET request to https://api.elsevier.com/content/search/scopus?query=10.1016%2Fj.jcf.2015.01.010\n",
      "2025-05-23 18:25:54 grati elsapy.utils[2537748] INFO Converting prism:coverDate\n",
      "2025-05-23 18:25:55 grati elsapy.elsclient[2537748] INFO Sending GET request to https://api.elsevier.com/content/search/scopus?query=10.1016%2FB978-0-12-800167-7.00024-9\n",
      "2025-05-23 18:25:56 grati elsapy.utils[2537748] INFO Converting prism:coverDate\n",
      "2025-05-23 18:25:57 grati elsapy.elsclient[2537748] INFO Sending GET request to https://api.elsevier.com/content/search/scopus?query=10.1586%2F17476348.2016.1122527\n",
      "2025-05-23 18:25:57 grati elsapy.utils[2537748] INFO Converting prism:coverDate\n",
      "2025-05-23 18:25:58 grati elsapy.elsclient[2537748] INFO Sending GET request to https://api.elsevier.com/content/search/scopus?query=10.1016%2Fj.chembiol.2014.02.021\n",
      "2025-05-23 18:25:59 grati elsapy.utils[2537748] INFO Converting prism:coverDate\n",
      "2025-05-23 18:26:00 grati elsapy.elsclient[2537748] INFO Sending GET request to https://api.elsevier.com/content/search/scopus?query=10.1021%2Fjm5012808\n",
      "2025-05-23 18:26:01 grati elsapy.utils[2537748] INFO Converting prism:coverDate\n",
      "2025-05-23 18:26:02 grati elsapy.elsclient[2537748] INFO Sending GET request to https://api.elsevier.com/content/search/scopus?query=10.1038%2Fgim.2014.4\n",
      "2025-05-23 18:26:03 grati elsapy.utils[2537748] INFO Converting prism:coverDate\n",
      "2025-05-23 18:26:04 grati elsapy.elsclient[2537748] INFO Sending GET request to https://api.elsevier.com/content/search/scopus?query=10.1002%2Fhumu.22129\n",
      "2025-05-23 18:26:04 grati elsapy.utils[2537748] INFO Converting prism:coverDate\n",
      "2025-05-23 18:26:05 grati elsapy.elsclient[2537748] INFO Sending GET request to https://api.elsevier.com/content/search/scopus?query=10.1358%2Fdof.2012.037.010.1873440\n",
      "2025-05-23 18:26:06 grati elsapy.utils[2537748] INFO Converting prism:coverDate\n",
      "2025-05-23 18:26:07 grati elsapy.elsclient[2537748] INFO Sending GET request to https://api.elsevier.com/content/search/scopus?query=10.1152%2Fajprenal.00130.2012\n",
      "2025-05-23 18:26:08 grati elsapy.utils[2537748] INFO Converting prism:coverDate\n",
      "2025-05-23 18:26:09 grati elsapy.elsclient[2537748] INFO Sending GET request to https://api.elsevier.com/content/search/scopus?query=10.1177%2F1087057113488420\n",
      "2025-05-23 18:26:10 grati elsapy.utils[2537748] INFO Converting prism:coverDate\n",
      "2025-05-23 18:26:10 grati elsapy.elsclient[2537748] INFO Sending GET request to https://api.elsevier.com/content/search/scopus?query=10.1093%2Fhmg%2Fdds345\n",
      "2025-05-23 18:26:11 grati elsapy.utils[2537748] INFO Converting prism:coverDate\n",
      "2025-05-23 18:26:12 grati elsapy.elsclient[2537748] INFO Sending GET request to https://api.elsevier.com/content/search/scopus?query=10.1016%2Fj.jcf.2013.06.008\n",
      "2025-05-23 18:26:13 grati elsapy.utils[2537748] INFO Converting prism:coverDate\n",
      "2025-05-23 18:26:14 grati elsapy.elsclient[2537748] INFO Sending GET request to https://api.elsevier.com/content/search/scopus?query=10.5414%2FCNP69302\n",
      "2025-05-23 18:26:15 grati elsapy.utils[2537748] INFO Converting prism:coverDate\n",
      "2025-05-23 18:26:16 grati elsapy.elsclient[2537748] INFO Sending GET request to https://api.elsevier.com/content/search/scopus?query=10.1042%2FBJ20081424\n",
      "2025-05-23 18:26:16 grati elsapy.utils[2537748] INFO Converting prism:coverDate\n",
      "2025-05-23 18:26:17 grati elsapy.elsclient[2537748] INFO Sending GET request to https://api.elsevier.com/content/search/scopus?query=10.1074%2Fjbc.M110.120352\n",
      "2025-05-23 18:26:18 grati elsapy.utils[2537748] INFO Converting prism:coverDate\n",
      "2025-05-23 18:26:19 grati elsapy.elsclient[2537748] INFO Sending GET request to https://api.elsevier.com/content/search/scopus?query=10.1097%2FMCG.0b013e318156617c\n",
      "2025-05-23 18:26:20 grati elsapy.utils[2537748] INFO Converting prism:coverDate\n",
      "2025-05-23 18:26:21 grati elsapy.elsclient[2537748] INFO Sending GET request to https://api.elsevier.com/content/search/scopus?query=10.1016%2Fj.jcf.2009.05.003\n",
      "2025-05-23 18:26:21 grati elsapy.utils[2537748] INFO Converting prism:coverDate\n",
      "2025-05-23 18:26:22 grati elsapy.elsclient[2537748] INFO Sending GET request to https://api.elsevier.com/content/search/scopus?query=10.1016%2Fj.jcf.2011.03.009\n",
      "2025-05-23 18:26:23 grati elsapy.utils[2537748] INFO Converting prism:coverDate\n",
      "2025-05-23 18:26:24 grati elsapy.elsclient[2537748] INFO Sending GET request to https://api.elsevier.com/content/search/scopus?query=10.1016%2Fj.bbadis.2010.08.001\n",
      "2025-05-23 18:26:25 grati elsapy.utils[2537748] INFO Converting prism:coverDate\n",
      "2025-05-23 18:26:26 grati elsapy.elsclient[2537748] INFO Sending GET request to https://api.elsevier.com/content/search/scopus?query=10.1016%2Fj.jcf.2004.05.035\n",
      "2025-05-23 18:26:27 grati elsapy.utils[2537748] INFO Converting prism:coverDate\n",
      "2025-05-23 18:26:28 grati elsapy.elsclient[2537748] INFO Sending GET request to https://api.elsevier.com/content/search/scopus?query=10.1016%2Fj.jcf.2004.05.017\n",
      "2025-05-23 18:26:29 grati elsapy.utils[2537748] INFO Converting prism:coverDate\n",
      "2025-05-23 18:26:30 grati elsapy.elsclient[2537748] INFO Sending GET request to https://api.elsevier.com/content/search/scopus?query=10.1074%2Fjbc.M611411200\n",
      "2025-05-23 18:26:30 grati elsapy.utils[2537748] INFO Converting prism:coverDate\n",
      "2025-05-23 18:26:31 grati elsapy.elsclient[2537748] INFO Sending GET request to https://api.elsevier.com/content/search/scopus?query=10.1007%2Fs00439-004-1246-z\n",
      "2025-05-23 18:26:32 grati elsapy.utils[2537748] INFO Converting prism:coverDate\n",
      "2025-05-23 18:26:33 grati elsapy.elsclient[2537748] INFO Sending GET request to https://api.elsevier.com/content/search/scopus?query=10.1242%2Fjcs.03350\n",
      "2025-05-23 18:26:34 grati elsapy.utils[2537748] INFO Converting prism:coverDate\n",
      "2025-05-23 18:26:35 grati elsapy.elsclient[2537748] INFO Sending GET request to https://api.elsevier.com/content/search/scopus?query=10.1164%2Frccm.200412-1714OC\n",
      "2025-05-23 18:26:35 grati elsapy.utils[2537748] INFO Converting prism:coverDate\n",
      "2025-05-23 18:26:36 grati elsapy.elsclient[2537748] INFO Sending GET request to https://api.elsevier.com/content/search/scopus?query=10.1016%2Fj.jcf.2004.05.025\n",
      "2025-05-23 18:26:37 grati elsapy.utils[2537748] INFO Converting prism:coverDate\n",
      "2025-05-23 18:26:38 grati elsapy.elsclient[2537748] INFO Sending GET request to https://api.elsevier.com/content/search/scopus?query=10.1074%2Fjbc.M210621200\n",
      "2025-05-23 18:26:38 grati elsapy.utils[2537748] INFO Converting prism:coverDate\n",
      "2025-05-23 18:26:39 grati elsapy.elsclient[2537748] INFO Sending GET request to https://api.elsevier.com/content/search/scopus?query=10.1002%2Fhumu.20156\n",
      "2025-05-23 18:26:40 grati elsapy.utils[2537748] INFO Converting prism:coverDate\n",
      "2025-05-23 18:26:41 grati elsapy.elsclient[2537748] INFO Sending GET request to https://api.elsevier.com/content/search/scopus?query=10.1016%2Fj.jcf.2004.01.007\n",
      "2025-05-23 18:26:42 grati elsapy.utils[2537748] INFO Converting prism:coverDate\n",
      "2025-05-23 18:26:43 grati elsapy.elsclient[2537748] INFO Sending GET request to https://api.elsevier.com/content/search/scopus?query=10.1165%2Frcmb.2002-0108OC\n",
      "2025-05-23 18:26:44 grati elsapy.utils[2537748] INFO Converting prism:coverDate\n",
      "2025-05-23 18:26:45 grati elsapy.elsclient[2537748] INFO Sending GET request to https://api.elsevier.com/content/search/scopus?query=10.1074%2Fjbc.M301030200\n",
      "2025-05-23 18:26:45 grati elsapy.utils[2537748] INFO Converting prism:coverDate\n",
      "2025-05-23 18:26:46 grati elsapy.elsclient[2537748] INFO Sending GET request to https://api.elsevier.com/content/search/scopus?query=10.1093%2Fmolehr%2Fgal077\n",
      "2025-05-23 18:26:47 grati elsapy.utils[2537748] INFO Converting prism:coverDate\n",
      "2025-05-23 18:26:48 grati elsapy.elsclient[2537748] INFO Sending GET request to https://api.elsevier.com/content/search/scopus?query=10.1152%2Fajplung.00065.2005\n",
      "2025-05-23 18:26:49 grati elsapy.utils[2537748] INFO Converting prism:coverDate\n",
      "2025-05-23 18:26:50 grati elsapy.elsclient[2537748] INFO Sending GET request to https://api.elsevier.com/content/search/scopus?query=10.1002%2Fajmg.a.30518\n",
      "2025-05-23 18:26:51 grati elsapy.utils[2537748] INFO Converting prism:coverDate\n",
      "2025-05-23 18:26:52 grati elsapy.elsclient[2537748] INFO Sending GET request to https://api.elsevier.com/content/search/scopus?query=10.1038%2Fsj.ejhg.5200989\n",
      "2025-05-23 18:26:52 grati elsapy.utils[2537748] INFO Converting prism:coverDate\n",
      "2025-05-23 18:26:53 grati elsapy.elsclient[2537748] INFO Sending GET request to https://api.elsevier.com/content/search/scopus?query=10.1353%2Fhub.2005.0027\n",
      "2025-05-23 18:26:54 grati elsapy.utils[2537748] INFO Converting prism:coverDate\n",
      "2025-05-23 18:26:55 grati elsapy.elsclient[2537748] INFO Sending GET request to https://api.elsevier.com/content/search/scopus?query=10.1053%2Fj.gastro.2003.10.049\n",
      "2025-05-23 18:26:55 grati elsapy.utils[2537748] INFO Converting prism:coverDate\n",
      "2025-05-23 18:26:56 grati elsapy.elsclient[2537748] INFO Sending GET request to https://api.elsevier.com/content/search/scopus?query=10.1053%2Fbega.2002.0319\n",
      "2025-05-23 18:26:57 grati elsapy.utils[2537748] INFO Converting prism:coverDate\n",
      "2025-05-23 18:26:58 grati elsapy.elsclient[2537748] INFO Sending GET request to https://api.elsevier.com/content/search/scopus?query=10.1007%2Fs004390100467\n",
      "2025-05-23 18:26:59 grati elsapy.utils[2537748] INFO Converting prism:coverDate\n",
      "2025-05-23 18:27:00 grati elsapy.elsclient[2537748] INFO Sending GET request to https://api.elsevier.com/content/search/scopus?query=10.1074%2Fjbc.M205644200\n",
      "2025-05-23 18:27:01 grati elsapy.utils[2537748] INFO Converting prism:coverDate\n",
      "2025-05-23 18:27:02 grati elsapy.elsclient[2537748] INFO Sending GET request to https://api.elsevier.com/content/search/scopus?query=10.1034%2Fj.1399-0004.2002.620108.x\n",
      "2025-05-23 18:27:02 grati elsapy.utils[2537748] INFO Converting prism:coverDate\n",
      "2025-05-23 18:27:03 grati elsapy.elsclient[2537748] INFO Sending GET request to https://api.elsevier.com/content/search/scopus?query=10.1055%2Fs-2000-9650\n",
      "2025-05-23 18:27:04 grati elsapy.utils[2537748] INFO Converting prism:coverDate\n",
      "2025-05-23 18:27:05 grati elsapy.elsclient[2537748] INFO Sending GET request to https://api.elsevier.com/content/search/scopus?query=10.1002%2Fhumu.1380030209\n",
      "2025-05-23 18:27:06 grati elsapy.utils[2537748] INFO Converting prism:coverDate\n",
      "2025-05-23 18:27:07 grati elsapy.elsclient[2537748] INFO Sending GET request to https://api.elsevier.com/content/search/scopus?query=10.1074%2Fjbc.M008979200\n",
      "2025-05-23 18:27:07 grati elsapy.utils[2537748] INFO Converting prism:coverDate\n",
      "2025-05-23 18:27:08 grati elsapy.elsclient[2537748] INFO Sending GET request to https://api.elsevier.com/content/search/scopus?query=10.1016%2FS1569-1993%2824%2900343-6\n"
     ]
    },
    {
     "name": "stdout",
     "output_type": "stream",
     "text": [
      "Erro ao buscar DOI 10.1016/S1569-1993(24)00343-6: HTTP 400 Error from https://api.elsevier.com/content/search/scopus?query=10.1016%2FS1569-1993%2824%2900343-6\n",
      "and using headers {'X-ELS-APIKey': '18cea8004848f339d14dd509a16e753e', 'User-Agent': 'elsapy-v0.5.1', 'Accept': 'application/json', 'X-ELS-Insttoken': 'aa8087d5506a067fa3e1c2761628f450'}:\n",
      "{\"service-error\":{\"status\":{\"statusCode\":\"INVALID_INPUT\",\"statusText\":\"Error translating query\"}}}\n"
     ]
    },
    {
     "name": "stderr",
     "output_type": "stream",
     "text": [
      "2025-05-23 18:27:10 grati elsapy.elsclient[2537748] INFO Sending GET request to https://api.elsevier.com/content/search/scopus?query=10.1016%2FS1569-1993%2824%2900610-6\n"
     ]
    },
    {
     "name": "stdout",
     "output_type": "stream",
     "text": [
      "Erro ao buscar DOI 10.1016/S1569-1993(24)00610-6: HTTP 400 Error from https://api.elsevier.com/content/search/scopus?query=10.1016%2FS1569-1993%2824%2900610-6\n",
      "and using headers {'X-ELS-APIKey': '18cea8004848f339d14dd509a16e753e', 'User-Agent': 'elsapy-v0.5.1', 'Accept': 'application/json', 'X-ELS-Insttoken': 'aa8087d5506a067fa3e1c2761628f450'}:\n",
      "{\"service-error\":{\"status\":{\"statusCode\":\"INVALID_INPUT\",\"statusText\":\"Error translating query\"}}}\n"
     ]
    },
    {
     "name": "stderr",
     "output_type": "stream",
     "text": [
      "2025-05-23 18:27:11 grati elsapy.elsclient[2537748] INFO Sending GET request to https://api.elsevier.com/content/search/scopus?query=10.1016%2FS1569-1993%2824%2900384-9\n"
     ]
    },
    {
     "name": "stdout",
     "output_type": "stream",
     "text": [
      "Erro ao buscar DOI 10.1016/S1569-1993(24)00384-9: HTTP 400 Error from https://api.elsevier.com/content/search/scopus?query=10.1016%2FS1569-1993%2824%2900384-9\n",
      "and using headers {'X-ELS-APIKey': '18cea8004848f339d14dd509a16e753e', 'User-Agent': 'elsapy-v0.5.1', 'Accept': 'application/json', 'X-ELS-Insttoken': 'aa8087d5506a067fa3e1c2761628f450'}:\n",
      "{\"service-error\":{\"status\":{\"statusCode\":\"INVALID_INPUT\",\"statusText\":\"Error translating query\"}}}\n"
     ]
    },
    {
     "name": "stderr",
     "output_type": "stream",
     "text": [
      "2025-05-23 18:27:13 grati elsapy.elsclient[2537748] INFO Sending GET request to https://api.elsevier.com/content/search/scopus?query=10.1016%2FS1569-1993%2824%2900290-X\n"
     ]
    },
    {
     "name": "stdout",
     "output_type": "stream",
     "text": [
      "Erro ao buscar DOI 10.1016/S1569-1993(24)00290-X: HTTP 400 Error from https://api.elsevier.com/content/search/scopus?query=10.1016%2FS1569-1993%2824%2900290-X\n",
      "and using headers {'X-ELS-APIKey': '18cea8004848f339d14dd509a16e753e', 'User-Agent': 'elsapy-v0.5.1', 'Accept': 'application/json', 'X-ELS-Insttoken': 'aa8087d5506a067fa3e1c2761628f450'}:\n",
      "{\"service-error\":{\"status\":{\"statusCode\":\"INVALID_INPUT\",\"statusText\":\"Error translating query\"}}}\n"
     ]
    },
    {
     "name": "stderr",
     "output_type": "stream",
     "text": [
      "2025-05-23 18:27:14 grati elsapy.elsclient[2537748] INFO Sending GET request to https://api.elsevier.com/content/search/scopus?query=10.1016%2FS1569-1993%2824%2900131-0\n"
     ]
    },
    {
     "name": "stdout",
     "output_type": "stream",
     "text": [
      "Erro ao buscar DOI 10.1016/S1569-1993(24)00131-0: HTTP 400 Error from https://api.elsevier.com/content/search/scopus?query=10.1016%2FS1569-1993%2824%2900131-0\n",
      "and using headers {'X-ELS-APIKey': '18cea8004848f339d14dd509a16e753e', 'User-Agent': 'elsapy-v0.5.1', 'Accept': 'application/json', 'X-ELS-Insttoken': 'aa8087d5506a067fa3e1c2761628f450'}:\n",
      "{\"service-error\":{\"status\":{\"statusCode\":\"INVALID_INPUT\",\"statusText\":\"Error translating query\"}}}\n"
     ]
    },
    {
     "name": "stderr",
     "output_type": "stream",
     "text": [
      "2025-05-23 18:27:16 grati elsapy.elsclient[2537748] INFO Sending GET request to https://api.elsevier.com/content/search/scopus?query=10.1016%2FS1569-1993%2824%2900337-0\n"
     ]
    },
    {
     "name": "stdout",
     "output_type": "stream",
     "text": [
      "Erro ao buscar DOI 10.1016/S1569-1993(24)00337-0: HTTP 400 Error from https://api.elsevier.com/content/search/scopus?query=10.1016%2FS1569-1993%2824%2900337-0\n",
      "and using headers {'X-ELS-APIKey': '18cea8004848f339d14dd509a16e753e', 'User-Agent': 'elsapy-v0.5.1', 'Accept': 'application/json', 'X-ELS-Insttoken': 'aa8087d5506a067fa3e1c2761628f450'}:\n",
      "{\"service-error\":{\"status\":{\"statusCode\":\"INVALID_INPUT\",\"statusText\":\"Error translating query\"}}}\n"
     ]
    },
    {
     "name": "stderr",
     "output_type": "stream",
     "text": [
      "2025-05-23 18:27:18 grati elsapy.elsclient[2537748] INFO Sending GET request to https://api.elsevier.com/content/search/scopus?query=10.1016%2FS0016-5085%2824%2901368-4\n"
     ]
    },
    {
     "name": "stdout",
     "output_type": "stream",
     "text": [
      "Erro ao buscar DOI 10.1016/S0016-5085(24)01368-4: HTTP 400 Error from https://api.elsevier.com/content/search/scopus?query=10.1016%2FS0016-5085%2824%2901368-4\n",
      "and using headers {'X-ELS-APIKey': '18cea8004848f339d14dd509a16e753e', 'User-Agent': 'elsapy-v0.5.1', 'Accept': 'application/json', 'X-ELS-Insttoken': 'aa8087d5506a067fa3e1c2761628f450'}:\n",
      "{\"service-error\":{\"status\":{\"statusCode\":\"INVALID_INPUT\",\"statusText\":\"Error translating query\"}}}\n"
     ]
    },
    {
     "name": "stderr",
     "output_type": "stream",
     "text": [
      "2025-05-23 18:27:19 grati elsapy.elsclient[2537748] INFO Sending GET request to https://api.elsevier.com/content/search/scopus?query=10.1016%2FS1569-1993%2823%2901636-3\n"
     ]
    },
    {
     "name": "stdout",
     "output_type": "stream",
     "text": [
      "Erro ao buscar DOI 10.1016/S1569-1993(23)01636-3: HTTP 400 Error from https://api.elsevier.com/content/search/scopus?query=10.1016%2FS1569-1993%2823%2901636-3\n",
      "and using headers {'X-ELS-APIKey': '18cea8004848f339d14dd509a16e753e', 'User-Agent': 'elsapy-v0.5.1', 'Accept': 'application/json', 'X-ELS-Insttoken': 'aa8087d5506a067fa3e1c2761628f450'}:\n",
      "{\"service-error\":{\"status\":{\"statusCode\":\"INVALID_INPUT\",\"statusText\":\"Error translating query\"}}}\n"
     ]
    },
    {
     "name": "stderr",
     "output_type": "stream",
     "text": [
      "2025-05-23 18:27:21 grati elsapy.elsclient[2537748] INFO Sending GET request to https://api.elsevier.com/content/search/scopus?query=10.1016%2FS1569-1993%2823%2901177-3\n"
     ]
    },
    {
     "name": "stdout",
     "output_type": "stream",
     "text": [
      "Erro ao buscar DOI 10.1016/S1569-1993(23)01177-3: HTTP 400 Error from https://api.elsevier.com/content/search/scopus?query=10.1016%2FS1569-1993%2823%2901177-3\n",
      "and using headers {'X-ELS-APIKey': '18cea8004848f339d14dd509a16e753e', 'User-Agent': 'elsapy-v0.5.1', 'Accept': 'application/json', 'X-ELS-Insttoken': 'aa8087d5506a067fa3e1c2761628f450'}:\n",
      "{\"service-error\":{\"status\":{\"statusCode\":\"INVALID_INPUT\",\"statusText\":\"Error translating query\"}}}\n"
     ]
    },
    {
     "name": "stderr",
     "output_type": "stream",
     "text": [
      "2025-05-23 18:27:22 grati elsapy.elsclient[2537748] INFO Sending GET request to https://api.elsevier.com/content/search/scopus?query=10.1016%2FS1569-1993%2823%2901208-0\n"
     ]
    },
    {
     "name": "stdout",
     "output_type": "stream",
     "text": [
      "Erro ao buscar DOI 10.1016/S1569-1993(23)01208-0: HTTP 400 Error from https://api.elsevier.com/content/search/scopus?query=10.1016%2FS1569-1993%2823%2901208-0\n",
      "and using headers {'X-ELS-APIKey': '18cea8004848f339d14dd509a16e753e', 'User-Agent': 'elsapy-v0.5.1', 'Accept': 'application/json', 'X-ELS-Insttoken': 'aa8087d5506a067fa3e1c2761628f450'}:\n",
      "{\"service-error\":{\"status\":{\"statusCode\":\"INVALID_INPUT\",\"statusText\":\"Error translating query\"}}}\n"
     ]
    },
    {
     "name": "stderr",
     "output_type": "stream",
     "text": [
      "2025-05-23 18:27:23 grati elsapy.elsclient[2537748] INFO Sending GET request to https://api.elsevier.com/content/search/scopus?query=10.1016%2FS1569-1993%2823%2901260-2\n"
     ]
    },
    {
     "name": "stdout",
     "output_type": "stream",
     "text": [
      "Erro ao buscar DOI 10.1016/S1569-1993(23)01260-2: HTTP 400 Error from https://api.elsevier.com/content/search/scopus?query=10.1016%2FS1569-1993%2823%2901260-2\n",
      "and using headers {'X-ELS-APIKey': '18cea8004848f339d14dd509a16e753e', 'User-Agent': 'elsapy-v0.5.1', 'Accept': 'application/json', 'X-ELS-Insttoken': 'aa8087d5506a067fa3e1c2761628f450'}:\n",
      "{\"service-error\":{\"status\":{\"statusCode\":\"INVALID_INPUT\",\"statusText\":\"Error translating query\"}}}\n"
     ]
    },
    {
     "name": "stderr",
     "output_type": "stream",
     "text": [
      "2025-05-23 18:27:25 grati elsapy.elsclient[2537748] INFO Sending GET request to https://api.elsevier.com/content/search/scopus?query=10.1016%2FS1569-1993%2823%2901246-8\n"
     ]
    },
    {
     "name": "stdout",
     "output_type": "stream",
     "text": [
      "Erro ao buscar DOI 10.1016/S1569-1993(23)01246-8: HTTP 400 Error from https://api.elsevier.com/content/search/scopus?query=10.1016%2FS1569-1993%2823%2901246-8\n",
      "and using headers {'X-ELS-APIKey': '18cea8004848f339d14dd509a16e753e', 'User-Agent': 'elsapy-v0.5.1', 'Accept': 'application/json', 'X-ELS-Insttoken': 'aa8087d5506a067fa3e1c2761628f450'}:\n",
      "{\"service-error\":{\"status\":{\"statusCode\":\"INVALID_INPUT\",\"statusText\":\"Error translating query\"}}}\n"
     ]
    },
    {
     "name": "stderr",
     "output_type": "stream",
     "text": [
      "2025-05-23 18:27:26 grati elsapy.elsclient[2537748] INFO Sending GET request to https://api.elsevier.com/content/search/scopus?query=10.1016%2FS1569-1993%2823%2901168-2\n"
     ]
    },
    {
     "name": "stdout",
     "output_type": "stream",
     "text": [
      "Erro ao buscar DOI 10.1016/S1569-1993(23)01168-2: HTTP 400 Error from https://api.elsevier.com/content/search/scopus?query=10.1016%2FS1569-1993%2823%2901168-2\n",
      "and using headers {'X-ELS-APIKey': '18cea8004848f339d14dd509a16e753e', 'User-Agent': 'elsapy-v0.5.1', 'Accept': 'application/json', 'X-ELS-Insttoken': 'aa8087d5506a067fa3e1c2761628f450'}:\n",
      "{\"service-error\":{\"status\":{\"statusCode\":\"INVALID_INPUT\",\"statusText\":\"Error translating query\"}}}\n"
     ]
    },
    {
     "name": "stderr",
     "output_type": "stream",
     "text": [
      "2025-05-23 18:27:28 grati elsapy.elsclient[2537748] INFO Sending GET request to https://api.elsevier.com/content/search/scopus?query=10.1016%2Fj.jcf.2020.04.015\n",
      "2025-05-23 18:27:29 grati elsapy.utils[2537748] INFO Converting prism:coverDate\n",
      "2025-05-23 18:27:29 grati elsapy.elsclient[2537748] INFO Sending GET request to https://api.elsevier.com/content/search/scopus?query=10.1002%2Fppul.22898\n",
      "2025-05-23 18:27:30 grati elsapy.utils[2537748] INFO Converting prism:coverDate\n",
      "2025-05-23 18:27:31 grati elsapy.elsclient[2537748] INFO Sending GET request to https://api.elsevier.com/content/search/scopus?query=10.1186%2Fs13052-017-0430-4\n",
      "2025-05-23 18:27:33 grati elsapy.elsclient[2537748] INFO Sending GET request to https://api.elsevier.com/content/search/scopus?query=10.1002%2Fppul.23839\n",
      "2025-05-23 18:27:33 grati elsapy.utils[2537748] INFO Converting prism:coverDate\n",
      "2025-05-23 18:27:34 grati elsapy.elsclient[2537748] INFO Sending GET request to https://api.elsevier.com/content/search/scopus?query=10.1002%2Fppul.23297\n",
      "2025-05-23 18:27:35 grati elsapy.utils[2537748] INFO Converting prism:coverDate\n",
      "2025-05-23 18:27:36 grati elsapy.elsclient[2537748] INFO Sending GET request to https://api.elsevier.com/content/search/scopus?query=10.1002%2Fppul.23297\n",
      "2025-05-23 18:27:37 grati elsapy.utils[2537748] INFO Converting prism:coverDate\n",
      "2025-05-23 18:27:38 grati elsapy.elsclient[2537748] INFO Sending GET request to https://api.elsevier.com/content/search/scopus?query=10.1378%2Fchest.11-2672\n",
      "2025-05-23 18:27:38 grati elsapy.utils[2537748] INFO Converting prism:coverDate\n",
      "2025-05-23 18:27:39 grati elsapy.elsclient[2537748] INFO Sending GET request to https://api.elsevier.com/content/search/scopus?query=10.1002%2Fppul.22898\n",
      "2025-05-23 18:27:40 grati elsapy.utils[2537748] INFO Converting prism:coverDate\n",
      "2025-05-23 18:27:41 grati elsapy.elsclient[2537748] INFO Sending GET request to https://api.elsevier.com/content/search/scopus?query=10.1002%2Fppul.21583\n",
      "2025-05-23 18:27:42 grati elsapy.elsclient[2537748] INFO Sending GET request to https://api.elsevier.com/content/search/scopus?query=10.1016%2FS2213-2600%2814%2970132-8\n"
     ]
    },
    {
     "name": "stdout",
     "output_type": "stream",
     "text": [
      "Erro ao buscar DOI 10.1016/S2213-2600(14)70132-8: HTTP 400 Error from https://api.elsevier.com/content/search/scopus?query=10.1016%2FS2213-2600%2814%2970132-8\n",
      "and using headers {'X-ELS-APIKey': '18cea8004848f339d14dd509a16e753e', 'User-Agent': 'elsapy-v0.5.1', 'Accept': 'application/json', 'X-ELS-Insttoken': 'aa8087d5506a067fa3e1c2761628f450'}:\n",
      "{\"service-error\":{\"status\":{\"statusCode\":\"INVALID_INPUT\",\"statusText\":\"Error translating query\"}}}\n"
     ]
    },
    {
     "name": "stderr",
     "output_type": "stream",
     "text": [
      "2025-05-23 18:27:44 grati elsapy.elsclient[2537748] INFO Sending GET request to https://api.elsevier.com/content/search/scopus?query=10.1016%2FS1569-1993%2812%2960043-5\n"
     ]
    },
    {
     "name": "stdout",
     "output_type": "stream",
     "text": [
      "Erro ao buscar DOI 10.1016/S1569-1993(12)60043-5: HTTP 400 Error from https://api.elsevier.com/content/search/scopus?query=10.1016%2FS1569-1993%2812%2960043-5\n",
      "and using headers {'X-ELS-APIKey': '18cea8004848f339d14dd509a16e753e', 'User-Agent': 'elsapy-v0.5.1', 'Accept': 'application/json', 'X-ELS-Insttoken': 'aa8087d5506a067fa3e1c2761628f450'}:\n",
      "{\"service-error\":{\"status\":{\"statusCode\":\"INVALID_INPUT\",\"statusText\":\"Error translating query\"}}}\n"
     ]
    },
    {
     "name": "stderr",
     "output_type": "stream",
     "text": [
      "2025-05-23 18:27:45 grati elsapy.elsclient[2537748] INFO Sending GET request to https://api.elsevier.com/content/search/scopus?query=10.1002%2Fppul.23840\n",
      "2025-05-23 18:27:46 grati elsapy.utils[2537748] INFO Converting prism:coverDate\n",
      "2025-05-23 18:27:47 grati elsapy.elsclient[2537748] INFO Sending GET request to https://api.elsevier.com/content/search/scopus?query=10.1016%2FS1569-1993%2823%2901069-X\n"
     ]
    },
    {
     "name": "stdout",
     "output_type": "stream",
     "text": [
      "Erro ao buscar DOI 10.1016/S1569-1993(23)01069-X: HTTP 400 Error from https://api.elsevier.com/content/search/scopus?query=10.1016%2FS1569-1993%2823%2901069-X\n",
      "and using headers {'X-ELS-APIKey': '18cea8004848f339d14dd509a16e753e', 'User-Agent': 'elsapy-v0.5.1', 'Accept': 'application/json', 'X-ELS-Insttoken': 'aa8087d5506a067fa3e1c2761628f450'}:\n",
      "{\"service-error\":{\"status\":{\"statusCode\":\"INVALID_INPUT\",\"statusText\":\"Error translating query\"}}}\n"
     ]
    },
    {
     "name": "stderr",
     "output_type": "stream",
     "text": [
      "2025-05-23 18:27:49 grati elsapy.elsclient[2537748] INFO Sending GET request to https://api.elsevier.com/content/search/scopus?query=10.1016%2FS1569-1993%2823%2901225-0\n"
     ]
    },
    {
     "name": "stdout",
     "output_type": "stream",
     "text": [
      "Erro ao buscar DOI 10.1016/S1569-1993(23)01225-0: HTTP 400 Error from https://api.elsevier.com/content/search/scopus?query=10.1016%2FS1569-1993%2823%2901225-0\n",
      "and using headers {'X-ELS-APIKey': '18cea8004848f339d14dd509a16e753e', 'User-Agent': 'elsapy-v0.5.1', 'Accept': 'application/json', 'X-ELS-Insttoken': 'aa8087d5506a067fa3e1c2761628f450'}:\n",
      "{\"service-error\":{\"status\":{\"statusCode\":\"INVALID_INPUT\",\"statusText\":\"Error translating query\"}}}\n"
     ]
    },
    {
     "name": "stderr",
     "output_type": "stream",
     "text": [
      "2025-05-23 18:27:50 grati elsapy.elsclient[2537748] INFO Sending GET request to https://api.elsevier.com/content/search/scopus?query=10.1016%2FS1569-1993%2823%2901107-4\n"
     ]
    },
    {
     "name": "stdout",
     "output_type": "stream",
     "text": [
      "Erro ao buscar DOI 10.1016/S1569-1993(23)01107-4: HTTP 400 Error from https://api.elsevier.com/content/search/scopus?query=10.1016%2FS1569-1993%2823%2901107-4\n",
      "and using headers {'X-ELS-APIKey': '18cea8004848f339d14dd509a16e753e', 'User-Agent': 'elsapy-v0.5.1', 'Accept': 'application/json', 'X-ELS-Insttoken': 'aa8087d5506a067fa3e1c2761628f450'}:\n",
      "{\"service-error\":{\"status\":{\"statusCode\":\"INVALID_INPUT\",\"statusText\":\"Error translating query\"}}}\n"
     ]
    },
    {
     "name": "stderr",
     "output_type": "stream",
     "text": [
      "2025-05-23 18:27:52 grati elsapy.elsclient[2537748] INFO Sending GET request to https://api.elsevier.com/content/search/scopus?query=10.1016%2FS1569-1993%2823%2900404-6\n"
     ]
    },
    {
     "name": "stdout",
     "output_type": "stream",
     "text": [
      "Erro ao buscar DOI 10.1016/S1569-1993(23)00404-6: HTTP 400 Error from https://api.elsevier.com/content/search/scopus?query=10.1016%2FS1569-1993%2823%2900404-6\n",
      "and using headers {'X-ELS-APIKey': '18cea8004848f339d14dd509a16e753e', 'User-Agent': 'elsapy-v0.5.1', 'Accept': 'application/json', 'X-ELS-Insttoken': 'aa8087d5506a067fa3e1c2761628f450'}:\n",
      "{\"service-error\":{\"status\":{\"statusCode\":\"INVALID_INPUT\",\"statusText\":\"Error translating query\"}}}\n"
     ]
    },
    {
     "name": "stderr",
     "output_type": "stream",
     "text": [
      "2025-05-23 18:27:53 grati elsapy.elsclient[2537748] INFO Sending GET request to https://api.elsevier.com/content/search/scopus?query=10.1016%2FS1569-1993%2823%2900314-4\n"
     ]
    },
    {
     "name": "stdout",
     "output_type": "stream",
     "text": [
      "Erro ao buscar DOI 10.1016/S1569-1993(23)00314-4: HTTP 400 Error from https://api.elsevier.com/content/search/scopus?query=10.1016%2FS1569-1993%2823%2900314-4\n",
      "and using headers {'X-ELS-APIKey': '18cea8004848f339d14dd509a16e753e', 'User-Agent': 'elsapy-v0.5.1', 'Accept': 'application/json', 'X-ELS-Insttoken': 'aa8087d5506a067fa3e1c2761628f450'}:\n",
      "{\"service-error\":{\"status\":{\"statusCode\":\"INVALID_INPUT\",\"statusText\":\"Error translating query\"}}}\n"
     ]
    },
    {
     "name": "stderr",
     "output_type": "stream",
     "text": [
      "2025-05-23 18:27:54 grati elsapy.elsclient[2537748] INFO Sending GET request to https://api.elsevier.com/content/search/scopus?query=10.1016%2FS1569-1993%2823%2900320-X\n"
     ]
    },
    {
     "name": "stdout",
     "output_type": "stream",
     "text": [
      "Erro ao buscar DOI 10.1016/S1569-1993(23)00320-X: HTTP 400 Error from https://api.elsevier.com/content/search/scopus?query=10.1016%2FS1569-1993%2823%2900320-X\n",
      "and using headers {'X-ELS-APIKey': '18cea8004848f339d14dd509a16e753e', 'User-Agent': 'elsapy-v0.5.1', 'Accept': 'application/json', 'X-ELS-Insttoken': 'aa8087d5506a067fa3e1c2761628f450'}:\n",
      "{\"service-error\":{\"status\":{\"statusCode\":\"INVALID_INPUT\",\"statusText\":\"Error translating query\"}}}\n"
     ]
    },
    {
     "name": "stderr",
     "output_type": "stream",
     "text": [
      "2025-05-23 18:27:56 grati elsapy.elsclient[2537748] INFO Sending GET request to https://api.elsevier.com/content/search/scopus?query=10.1016%2FS1569-1993%2823%2900398-3\n"
     ]
    },
    {
     "name": "stdout",
     "output_type": "stream",
     "text": [
      "Erro ao buscar DOI 10.1016/S1569-1993(23)00398-3: HTTP 400 Error from https://api.elsevier.com/content/search/scopus?query=10.1016%2FS1569-1993%2823%2900398-3\n",
      "and using headers {'X-ELS-APIKey': '18cea8004848f339d14dd509a16e753e', 'User-Agent': 'elsapy-v0.5.1', 'Accept': 'application/json', 'X-ELS-Insttoken': 'aa8087d5506a067fa3e1c2761628f450'}:\n",
      "{\"service-error\":{\"status\":{\"statusCode\":\"INVALID_INPUT\",\"statusText\":\"Error translating query\"}}}\n"
     ]
    },
    {
     "name": "stderr",
     "output_type": "stream",
     "text": [
      "2025-05-23 18:27:58 grati elsapy.elsclient[2537748] INFO Sending GET request to https://api.elsevier.com/content/search/scopus?query=10.1016%2FS1569-1993%2823%2900454-X\n"
     ]
    },
    {
     "name": "stdout",
     "output_type": "stream",
     "text": [
      "Erro ao buscar DOI 10.1016/S1569-1993(23)00454-X: HTTP 400 Error from https://api.elsevier.com/content/search/scopus?query=10.1016%2FS1569-1993%2823%2900454-X\n",
      "and using headers {'X-ELS-APIKey': '18cea8004848f339d14dd509a16e753e', 'User-Agent': 'elsapy-v0.5.1', 'Accept': 'application/json', 'X-ELS-Insttoken': 'aa8087d5506a067fa3e1c2761628f450'}:\n",
      "{\"service-error\":{\"status\":{\"statusCode\":\"INVALID_INPUT\",\"statusText\":\"Error translating query\"}}}\n"
     ]
    },
    {
     "name": "stderr",
     "output_type": "stream",
     "text": [
      "2025-05-23 18:27:59 grati elsapy.elsclient[2537748] INFO Sending GET request to https://api.elsevier.com/content/search/scopus?query=10.1016%2FS1569-1993%2822%2901296-6\n"
     ]
    },
    {
     "name": "stdout",
     "output_type": "stream",
     "text": [
      "Erro ao buscar DOI 10.1016/S1569-1993(22)01296-6: HTTP 400 Error from https://api.elsevier.com/content/search/scopus?query=10.1016%2FS1569-1993%2822%2901296-6\n",
      "and using headers {'X-ELS-APIKey': '18cea8004848f339d14dd509a16e753e', 'User-Agent': 'elsapy-v0.5.1', 'Accept': 'application/json', 'X-ELS-Insttoken': 'aa8087d5506a067fa3e1c2761628f450'}:\n",
      "{\"service-error\":{\"status\":{\"statusCode\":\"INVALID_INPUT\",\"statusText\":\"Error translating query\"}}}\n"
     ]
    },
    {
     "name": "stderr",
     "output_type": "stream",
     "text": [
      "2025-05-23 18:28:00 grati elsapy.elsclient[2537748] INFO Sending GET request to https://api.elsevier.com/content/search/scopus?query=10.1016%2FS1569-1993%2822%2900709-3\n"
     ]
    },
    {
     "name": "stdout",
     "output_type": "stream",
     "text": [
      "Erro ao buscar DOI 10.1016/S1569-1993(22)00709-3: HTTP 400 Error from https://api.elsevier.com/content/search/scopus?query=10.1016%2FS1569-1993%2822%2900709-3\n",
      "and using headers {'X-ELS-APIKey': '18cea8004848f339d14dd509a16e753e', 'User-Agent': 'elsapy-v0.5.1', 'Accept': 'application/json', 'X-ELS-Insttoken': 'aa8087d5506a067fa3e1c2761628f450'}:\n",
      "{\"service-error\":{\"status\":{\"statusCode\":\"INVALID_INPUT\",\"statusText\":\"Error translating query\"}}}\n"
     ]
    },
    {
     "name": "stderr",
     "output_type": "stream",
     "text": [
      "2025-05-23 18:28:02 grati elsapy.elsclient[2537748] INFO Sending GET request to https://api.elsevier.com/content/search/scopus?query=10.1016%2FS1569-1993%2822%2900919-5\n"
     ]
    },
    {
     "name": "stdout",
     "output_type": "stream",
     "text": [
      "Erro ao buscar DOI 10.1016/S1569-1993(22)00919-5: HTTP 400 Error from https://api.elsevier.com/content/search/scopus?query=10.1016%2FS1569-1993%2822%2900919-5\n",
      "and using headers {'X-ELS-APIKey': '18cea8004848f339d14dd509a16e753e', 'User-Agent': 'elsapy-v0.5.1', 'Accept': 'application/json', 'X-ELS-Insttoken': 'aa8087d5506a067fa3e1c2761628f450'}:\n",
      "{\"service-error\":{\"status\":{\"statusCode\":\"INVALID_INPUT\",\"statusText\":\"Error translating query\"}}}\n"
     ]
    },
    {
     "name": "stderr",
     "output_type": "stream",
     "text": [
      "2025-05-23 18:28:03 grati elsapy.elsclient[2537748] INFO Sending GET request to https://api.elsevier.com/content/search/scopus?query=10.1016%2FS1569-1993%2822%2901321-2\n"
     ]
    },
    {
     "name": "stdout",
     "output_type": "stream",
     "text": [
      "Erro ao buscar DOI 10.1016/S1569-1993(22)01321-2: HTTP 400 Error from https://api.elsevier.com/content/search/scopus?query=10.1016%2FS1569-1993%2822%2901321-2\n",
      "and using headers {'X-ELS-APIKey': '18cea8004848f339d14dd509a16e753e', 'User-Agent': 'elsapy-v0.5.1', 'Accept': 'application/json', 'X-ELS-Insttoken': 'aa8087d5506a067fa3e1c2761628f450'}:\n",
      "{\"service-error\":{\"status\":{\"statusCode\":\"INVALID_INPUT\",\"statusText\":\"Error translating query\"}}}\n"
     ]
    },
    {
     "name": "stderr",
     "output_type": "stream",
     "text": [
      "2025-05-23 18:28:05 grati elsapy.elsclient[2537748] INFO Sending GET request to https://api.elsevier.com/content/search/scopus?query=10.1016%2FS1569-1993%2822%2900950-X\n"
     ]
    },
    {
     "name": "stdout",
     "output_type": "stream",
     "text": [
      "Erro ao buscar DOI 10.1016/S1569-1993(22)00950-X: HTTP 400 Error from https://api.elsevier.com/content/search/scopus?query=10.1016%2FS1569-1993%2822%2900950-X\n",
      "and using headers {'X-ELS-APIKey': '18cea8004848f339d14dd509a16e753e', 'User-Agent': 'elsapy-v0.5.1', 'Accept': 'application/json', 'X-ELS-Insttoken': 'aa8087d5506a067fa3e1c2761628f450'}:\n",
      "{\"service-error\":{\"status\":{\"statusCode\":\"INVALID_INPUT\",\"statusText\":\"Error translating query\"}}}\n"
     ]
    },
    {
     "name": "stderr",
     "output_type": "stream",
     "text": [
      "2025-05-23 18:28:06 grati elsapy.elsclient[2537748] INFO Sending GET request to https://api.elsevier.com/content/search/scopus?query=10.1016%2FS1569-1993%2822%2901376-5\n"
     ]
    },
    {
     "name": "stdout",
     "output_type": "stream",
     "text": [
      "Erro ao buscar DOI 10.1016/S1569-1993(22)01376-5: HTTP 400 Error from https://api.elsevier.com/content/search/scopus?query=10.1016%2FS1569-1993%2822%2901376-5\n",
      "and using headers {'X-ELS-APIKey': '18cea8004848f339d14dd509a16e753e', 'User-Agent': 'elsapy-v0.5.1', 'Accept': 'application/json', 'X-ELS-Insttoken': 'aa8087d5506a067fa3e1c2761628f450'}:\n",
      "{\"service-error\":{\"status\":{\"statusCode\":\"INVALID_INPUT\",\"statusText\":\"Error translating query\"}}}\n"
     ]
    },
    {
     "name": "stderr",
     "output_type": "stream",
     "text": [
      "2025-05-23 18:28:08 grati elsapy.elsclient[2537748] INFO Sending GET request to https://api.elsevier.com/content/search/scopus?query=10.1016%2FS1569-1993%2822%2901382-0\n"
     ]
    },
    {
     "name": "stdout",
     "output_type": "stream",
     "text": [
      "Erro ao buscar DOI 10.1016/S1569-1993(22)01382-0: HTTP 400 Error from https://api.elsevier.com/content/search/scopus?query=10.1016%2FS1569-1993%2822%2901382-0\n",
      "and using headers {'X-ELS-APIKey': '18cea8004848f339d14dd509a16e753e', 'User-Agent': 'elsapy-v0.5.1', 'Accept': 'application/json', 'X-ELS-Insttoken': 'aa8087d5506a067fa3e1c2761628f450'}:\n",
      "{\"service-error\":{\"status\":{\"statusCode\":\"INVALID_INPUT\",\"statusText\":\"Error translating query\"}}}\n"
     ]
    },
    {
     "name": "stderr",
     "output_type": "stream",
     "text": [
      "2025-05-23 18:28:09 grati elsapy.elsclient[2537748] INFO Sending GET request to https://api.elsevier.com/content/search/scopus?query=10.1016%2FS1569-1993%2822%2900743-3\n"
     ]
    },
    {
     "name": "stdout",
     "output_type": "stream",
     "text": [
      "Erro ao buscar DOI 10.1016/S1569-1993(22)00743-3: HTTP 400 Error from https://api.elsevier.com/content/search/scopus?query=10.1016%2FS1569-1993%2822%2900743-3\n",
      "and using headers {'X-ELS-APIKey': '18cea8004848f339d14dd509a16e753e', 'User-Agent': 'elsapy-v0.5.1', 'Accept': 'application/json', 'X-ELS-Insttoken': 'aa8087d5506a067fa3e1c2761628f450'}:\n",
      "{\"service-error\":{\"status\":{\"statusCode\":\"INVALID_INPUT\",\"statusText\":\"Error translating query\"}}}\n"
     ]
    },
    {
     "name": "stderr",
     "output_type": "stream",
     "text": [
      "2025-05-23 18:28:11 grati elsapy.elsclient[2537748] INFO Sending GET request to https://api.elsevier.com/content/search/scopus?query=10.1016%2FS1569-1993%2822%2901339-X\n"
     ]
    },
    {
     "name": "stdout",
     "output_type": "stream",
     "text": [
      "Erro ao buscar DOI 10.1016/S1569-1993(22)01339-X: HTTP 400 Error from https://api.elsevier.com/content/search/scopus?query=10.1016%2FS1569-1993%2822%2901339-X\n",
      "and using headers {'X-ELS-APIKey': '18cea8004848f339d14dd509a16e753e', 'User-Agent': 'elsapy-v0.5.1', 'Accept': 'application/json', 'X-ELS-Insttoken': 'aa8087d5506a067fa3e1c2761628f450'}:\n",
      "{\"service-error\":{\"status\":{\"statusCode\":\"INVALID_INPUT\",\"statusText\":\"Error translating query\"}}}\n"
     ]
    },
    {
     "name": "stderr",
     "output_type": "stream",
     "text": [
      "2025-05-23 18:28:13 grati elsapy.elsclient[2537748] INFO Sending GET request to https://api.elsevier.com/content/search/scopus?query=10.1016%2FS1569-1993%2822%2901375-3\n"
     ]
    },
    {
     "name": "stdout",
     "output_type": "stream",
     "text": [
      "Erro ao buscar DOI 10.1016/S1569-1993(22)01375-3: HTTP 400 Error from https://api.elsevier.com/content/search/scopus?query=10.1016%2FS1569-1993%2822%2901375-3\n",
      "and using headers {'X-ELS-APIKey': '18cea8004848f339d14dd509a16e753e', 'User-Agent': 'elsapy-v0.5.1', 'Accept': 'application/json', 'X-ELS-Insttoken': 'aa8087d5506a067fa3e1c2761628f450'}:\n",
      "{\"service-error\":{\"status\":{\"statusCode\":\"INVALID_INPUT\",\"statusText\":\"Error translating query\"}}}\n"
     ]
    },
    {
     "name": "stderr",
     "output_type": "stream",
     "text": [
      "2025-05-23 18:28:14 grati elsapy.elsclient[2537748] INFO Sending GET request to https://api.elsevier.com/content/search/scopus?query=10.1016%2FS1569-1993%2822%2901352-2\n"
     ]
    },
    {
     "name": "stdout",
     "output_type": "stream",
     "text": [
      "Erro ao buscar DOI 10.1016/S1569-1993(22)01352-2: HTTP 400 Error from https://api.elsevier.com/content/search/scopus?query=10.1016%2FS1569-1993%2822%2901352-2\n",
      "and using headers {'X-ELS-APIKey': '18cea8004848f339d14dd509a16e753e', 'User-Agent': 'elsapy-v0.5.1', 'Accept': 'application/json', 'X-ELS-Insttoken': 'aa8087d5506a067fa3e1c2761628f450'}:\n",
      "{\"service-error\":{\"status\":{\"statusCode\":\"INVALID_INPUT\",\"statusText\":\"Error translating query\"}}}\n"
     ]
    },
    {
     "name": "stderr",
     "output_type": "stream",
     "text": [
      "2025-05-23 18:28:15 grati elsapy.elsclient[2537748] INFO Sending GET request to https://api.elsevier.com/content/search/scopus?query=10.1002%2Fppul.22495\n",
      "2025-05-23 18:28:16 grati elsapy.utils[2537748] INFO Converting prism:coverDate\n",
      "2025-05-23 18:28:17 grati elsapy.elsclient[2537748] INFO Sending GET request to https://api.elsevier.com/content/search/scopus?query=10.1016%2FS2213-2600%2814%2970218-8\n"
     ]
    },
    {
     "name": "stdout",
     "output_type": "stream",
     "text": [
      "Erro ao buscar DOI 10.1016/S2213-2600(14)70218-8: HTTP 400 Error from https://api.elsevier.com/content/search/scopus?query=10.1016%2FS2213-2600%2814%2970218-8\n",
      "and using headers {'X-ELS-APIKey': '18cea8004848f339d14dd509a16e753e', 'User-Agent': 'elsapy-v0.5.1', 'Accept': 'application/json', 'X-ELS-Insttoken': 'aa8087d5506a067fa3e1c2761628f450'}:\n",
      "{\"service-error\":{\"status\":{\"statusCode\":\"INVALID_INPUT\",\"statusText\":\"Error translating query\"}}}\n"
     ]
    },
    {
     "name": "stderr",
     "output_type": "stream",
     "text": [
      "2025-05-23 18:28:19 grati elsapy.elsclient[2537748] INFO Sending GET request to https://api.elsevier.com/content/search/scopus?query=10.1136%2Fthoraxjnl-2012-202678.126\n",
      "2025-05-23 18:28:20 grati elsapy.elsclient[2537748] INFO Sending GET request to https://api.elsevier.com/content/search/scopus?query=10.1016%2FS2213-2600%2816%2930427-1\n"
     ]
    },
    {
     "name": "stdout",
     "output_type": "stream",
     "text": [
      "Erro ao buscar DOI 10.1016/S2213-2600(16)30427-1: HTTP 400 Error from https://api.elsevier.com/content/search/scopus?query=10.1016%2FS2213-2600%2816%2930427-1\n",
      "and using headers {'X-ELS-APIKey': '18cea8004848f339d14dd509a16e753e', 'User-Agent': 'elsapy-v0.5.1', 'Accept': 'application/json', 'X-ELS-Insttoken': 'aa8087d5506a067fa3e1c2761628f450'}:\n",
      "{\"service-error\":{\"status\":{\"statusCode\":\"INVALID_INPUT\",\"statusText\":\"Error translating query\"}}}\n"
     ]
    },
    {
     "name": "stderr",
     "output_type": "stream",
     "text": [
      "2025-05-23 18:28:22 grati elsapy.elsclient[2537748] INFO Sending GET request to https://api.elsevier.com/content/search/scopus?query=10.1016%2FS2213-2600%2820%2930517-8\n"
     ]
    },
    {
     "name": "stdout",
     "output_type": "stream",
     "text": [
      "Erro ao buscar DOI 10.1016/S2213-2600(20)30517-8: HTTP 400 Error from https://api.elsevier.com/content/search/scopus?query=10.1016%2FS2213-2600%2820%2930517-8\n",
      "and using headers {'X-ELS-APIKey': '18cea8004848f339d14dd509a16e753e', 'User-Agent': 'elsapy-v0.5.1', 'Accept': 'application/json', 'X-ELS-Insttoken': 'aa8087d5506a067fa3e1c2761628f450'}:\n",
      "{\"service-error\":{\"status\":{\"statusCode\":\"INVALID_INPUT\",\"statusText\":\"Error translating query\"}}}\n"
     ]
    },
    {
     "name": "stderr",
     "output_type": "stream",
     "text": [
      "2025-05-23 18:28:23 grati elsapy.elsclient[2537748] INFO Sending GET request to https://api.elsevier.com/content/search/scopus?query=10.1016%2FS1569-1993%2822%2900250-8\n"
     ]
    },
    {
     "name": "stdout",
     "output_type": "stream",
     "text": [
      "Erro ao buscar DOI 10.1016/S1569-1993(22)00250-8: HTTP 400 Error from https://api.elsevier.com/content/search/scopus?query=10.1016%2FS1569-1993%2822%2900250-8\n",
      "and using headers {'X-ELS-APIKey': '18cea8004848f339d14dd509a16e753e', 'User-Agent': 'elsapy-v0.5.1', 'Accept': 'application/json', 'X-ELS-Insttoken': 'aa8087d5506a067fa3e1c2761628f450'}:\n",
      "{\"service-error\":{\"status\":{\"statusCode\":\"INVALID_INPUT\",\"statusText\":\"Error translating query\"}}}\n"
     ]
    },
    {
     "name": "stderr",
     "output_type": "stream",
     "text": [
      "2025-05-23 18:28:25 grati elsapy.elsclient[2537748] INFO Sending GET request to https://api.elsevier.com/content/search/scopus?query=10.1016%2FS1569-1993%2820%2930226-5\n"
     ]
    },
    {
     "name": "stdout",
     "output_type": "stream",
     "text": [
      "Erro ao buscar DOI 10.1016/S1569-1993(20)30226-5: HTTP 400 Error from https://api.elsevier.com/content/search/scopus?query=10.1016%2FS1569-1993%2820%2930226-5\n",
      "and using headers {'X-ELS-APIKey': '18cea8004848f339d14dd509a16e753e', 'User-Agent': 'elsapy-v0.5.1', 'Accept': 'application/json', 'X-ELS-Insttoken': 'aa8087d5506a067fa3e1c2761628f450'}:\n",
      "{\"service-error\":{\"status\":{\"statusCode\":\"INVALID_INPUT\",\"statusText\":\"Error translating query\"}}}\n"
     ]
    },
    {
     "name": "stderr",
     "output_type": "stream",
     "text": [
      "2025-05-23 18:28:26 grati elsapy.elsclient[2537748] INFO Sending GET request to https://api.elsevier.com/content/search/scopus?query=10.1016%2Fj.jcf.2020.07.023\n",
      "2025-05-23 18:28:27 grati elsapy.utils[2537748] INFO Converting prism:coverDate\n",
      "2025-05-23 18:28:28 grati elsapy.elsclient[2537748] INFO Sending GET request to https://api.elsevier.com/content/search/scopus?query=10.1002%2Fppul.23108\n",
      "2025-05-23 18:28:28 grati elsapy.utils[2537748] INFO Converting prism:coverDate\n",
      "2025-05-23 18:28:29 grati elsapy.elsclient[2537748] INFO Sending GET request to https://api.elsevier.com/content/search/scopus?query=10.1016%2FS2213-2600%2816%2930121-7\n"
     ]
    },
    {
     "name": "stdout",
     "output_type": "stream",
     "text": [
      "Erro ao buscar DOI 10.1016/S2213-2600(16)30121-7: HTTP 400 Error from https://api.elsevier.com/content/search/scopus?query=10.1016%2FS2213-2600%2816%2930121-7\n",
      "and using headers {'X-ELS-APIKey': '18cea8004848f339d14dd509a16e753e', 'User-Agent': 'elsapy-v0.5.1', 'Accept': 'application/json', 'X-ELS-Insttoken': 'aa8087d5506a067fa3e1c2761628f450'}:\n",
      "{\"service-error\":{\"status\":{\"statusCode\":\"INVALID_INPUT\",\"statusText\":\"Error translating query\"}}}\n"
     ]
    },
    {
     "name": "stderr",
     "output_type": "stream",
     "text": [
      "2025-05-23 18:28:31 grati elsapy.elsclient[2537748] INFO Sending GET request to https://api.elsevier.com/content/search/scopus?query=10.1002%2Fppul.23108\n",
      "2025-05-23 18:28:32 grati elsapy.utils[2537748] INFO Converting prism:coverDate\n",
      "2025-05-23 18:28:33 grati elsapy.elsclient[2537748] INFO Sending GET request to https://api.elsevier.com/content/search/scopus?query=10.1002%2Fppul.23839\n",
      "2025-05-23 18:28:33 grati elsapy.utils[2537748] INFO Converting prism:coverDate\n",
      "2025-05-23 18:28:34 grati elsapy.elsclient[2537748] INFO Sending GET request to https://api.elsevier.com/content/search/scopus?query=10.1016%2Fj.jcf.2020.11.002\n",
      "2025-05-23 18:28:35 grati elsapy.utils[2537748] INFO Converting prism:coverDate\n",
      "2025-05-23 18:28:36 grati elsapy.elsclient[2537748] INFO Sending GET request to https://api.elsevier.com/content/search/scopus?query=10.1016%2FS1569-1993%2822%2901293-0\n"
     ]
    },
    {
     "name": "stdout",
     "output_type": "stream",
     "text": [
      "Erro ao buscar DOI 10.1016/S1569-1993(22)01293-0: HTTP 400 Error from https://api.elsevier.com/content/search/scopus?query=10.1016%2FS1569-1993%2822%2901293-0\n",
      "and using headers {'X-ELS-APIKey': '18cea8004848f339d14dd509a16e753e', 'User-Agent': 'elsapy-v0.5.1', 'Accept': 'application/json', 'X-ELS-Insttoken': 'aa8087d5506a067fa3e1c2761628f450'}:\n",
      "{\"service-error\":{\"status\":{\"statusCode\":\"INVALID_INPUT\",\"statusText\":\"Error translating query\"}}}\n"
     ]
    },
    {
     "name": "stderr",
     "output_type": "stream",
     "text": [
      "2025-05-23 18:28:37 grati elsapy.elsclient[2537748] INFO Sending GET request to https://api.elsevier.com/content/search/scopus?query=10.1016%2FS1569-1993%2822%2901332-7\n"
     ]
    },
    {
     "name": "stdout",
     "output_type": "stream",
     "text": [
      "Erro ao buscar DOI 10.1016/S1569-1993(22)01332-7: HTTP 400 Error from https://api.elsevier.com/content/search/scopus?query=10.1016%2FS1569-1993%2822%2901332-7\n",
      "and using headers {'X-ELS-APIKey': '18cea8004848f339d14dd509a16e753e', 'User-Agent': 'elsapy-v0.5.1', 'Accept': 'application/json', 'X-ELS-Insttoken': 'aa8087d5506a067fa3e1c2761628f450'}:\n",
      "{\"service-error\":{\"status\":{\"statusCode\":\"INVALID_INPUT\",\"statusText\":\"Error translating query\"}}}\n"
     ]
    },
    {
     "name": "stderr",
     "output_type": "stream",
     "text": [
      "2025-05-23 18:28:39 grati elsapy.elsclient[2537748] INFO Sending GET request to https://api.elsevier.com/content/search/scopus?query=10.1016%2FS1569-1993%2822%2900185-0\n"
     ]
    },
    {
     "name": "stdout",
     "output_type": "stream",
     "text": [
      "Erro ao buscar DOI 10.1016/S1569-1993(22)00185-0: HTTP 400 Error from https://api.elsevier.com/content/search/scopus?query=10.1016%2FS1569-1993%2822%2900185-0\n",
      "and using headers {'X-ELS-APIKey': '18cea8004848f339d14dd509a16e753e', 'User-Agent': 'elsapy-v0.5.1', 'Accept': 'application/json', 'X-ELS-Insttoken': 'aa8087d5506a067fa3e1c2761628f450'}:\n",
      "{\"service-error\":{\"status\":{\"statusCode\":\"INVALID_INPUT\",\"statusText\":\"Error translating query\"}}}\n"
     ]
    },
    {
     "name": "stderr",
     "output_type": "stream",
     "text": [
      "2025-05-23 18:28:40 grati elsapy.elsclient[2537748] INFO Sending GET request to https://api.elsevier.com/content/search/scopus?query=10.1016%2FS1569-1993%2822%2900390-3\n"
     ]
    },
    {
     "name": "stdout",
     "output_type": "stream",
     "text": [
      "Erro ao buscar DOI 10.1016/S1569-1993(22)00390-3: HTTP 400 Error from https://api.elsevier.com/content/search/scopus?query=10.1016%2FS1569-1993%2822%2900390-3\n",
      "and using headers {'X-ELS-APIKey': '18cea8004848f339d14dd509a16e753e', 'User-Agent': 'elsapy-v0.5.1', 'Accept': 'application/json', 'X-ELS-Insttoken': 'aa8087d5506a067fa3e1c2761628f450'}:\n",
      "{\"service-error\":{\"status\":{\"statusCode\":\"INVALID_INPUT\",\"statusText\":\"Error translating query\"}}}\n"
     ]
    },
    {
     "name": "stderr",
     "output_type": "stream",
     "text": [
      "2025-05-23 18:28:42 grati elsapy.elsclient[2537748] INFO Sending GET request to https://api.elsevier.com/content/search/scopus?query=10.1016%2FS1569-1993%2822%2900357-5\n"
     ]
    },
    {
     "name": "stdout",
     "output_type": "stream",
     "text": [
      "Erro ao buscar DOI 10.1016/S1569-1993(22)00357-5: HTTP 400 Error from https://api.elsevier.com/content/search/scopus?query=10.1016%2FS1569-1993%2822%2900357-5\n",
      "and using headers {'X-ELS-APIKey': '18cea8004848f339d14dd509a16e753e', 'User-Agent': 'elsapy-v0.5.1', 'Accept': 'application/json', 'X-ELS-Insttoken': 'aa8087d5506a067fa3e1c2761628f450'}:\n",
      "{\"service-error\":{\"status\":{\"statusCode\":\"INVALID_INPUT\",\"statusText\":\"Error translating query\"}}}\n"
     ]
    },
    {
     "name": "stderr",
     "output_type": "stream",
     "text": [
      "2025-05-23 18:28:43 grati elsapy.elsclient[2537748] INFO Sending GET request to https://api.elsevier.com/content/search/scopus?query=10.1016%2FS1569-1993%2821%2902042-7\n"
     ]
    },
    {
     "name": "stdout",
     "output_type": "stream",
     "text": [
      "Erro ao buscar DOI 10.1016/S1569-1993(21)02042-7: HTTP 400 Error from https://api.elsevier.com/content/search/scopus?query=10.1016%2FS1569-1993%2821%2902042-7\n",
      "and using headers {'X-ELS-APIKey': '18cea8004848f339d14dd509a16e753e', 'User-Agent': 'elsapy-v0.5.1', 'Accept': 'application/json', 'X-ELS-Insttoken': 'aa8087d5506a067fa3e1c2761628f450'}:\n",
      "{\"service-error\":{\"status\":{\"statusCode\":\"INVALID_INPUT\",\"statusText\":\"Error translating query\"}}}\n"
     ]
    },
    {
     "name": "stderr",
     "output_type": "stream",
     "text": [
      "2025-05-23 18:28:45 grati elsapy.elsclient[2537748] INFO Sending GET request to https://api.elsevier.com/content/search/scopus?query=10.1016%2FS1569-1993%2821%2901634-9\n"
     ]
    },
    {
     "name": "stdout",
     "output_type": "stream",
     "text": [
      "Erro ao buscar DOI 10.1016/S1569-1993(21)01634-9: HTTP 400 Error from https://api.elsevier.com/content/search/scopus?query=10.1016%2FS1569-1993%2821%2901634-9\n",
      "and using headers {'X-ELS-APIKey': '18cea8004848f339d14dd509a16e753e', 'User-Agent': 'elsapy-v0.5.1', 'Accept': 'application/json', 'X-ELS-Insttoken': 'aa8087d5506a067fa3e1c2761628f450'}:\n",
      "{\"service-error\":{\"status\":{\"statusCode\":\"INVALID_INPUT\",\"statusText\":\"Error translating query\"}}}\n"
     ]
    },
    {
     "name": "stderr",
     "output_type": "stream",
     "text": [
      "2025-05-23 18:28:46 grati elsapy.elsclient[2537748] INFO Sending GET request to https://api.elsevier.com/content/search/scopus?query=10.1016%2FS1569-1993%2821%2902056-7\n"
     ]
    },
    {
     "name": "stdout",
     "output_type": "stream",
     "text": [
      "Erro ao buscar DOI 10.1016/S1569-1993(21)02056-7: HTTP 400 Error from https://api.elsevier.com/content/search/scopus?query=10.1016%2FS1569-1993%2821%2902056-7\n",
      "and using headers {'X-ELS-APIKey': '18cea8004848f339d14dd509a16e753e', 'User-Agent': 'elsapy-v0.5.1', 'Accept': 'application/json', 'X-ELS-Insttoken': 'aa8087d5506a067fa3e1c2761628f450'}:\n",
      "{\"service-error\":{\"status\":{\"statusCode\":\"INVALID_INPUT\",\"statusText\":\"Error translating query\"}}}\n"
     ]
    },
    {
     "name": "stderr",
     "output_type": "stream",
     "text": [
      "2025-05-23 18:28:48 grati elsapy.elsclient[2537748] INFO Sending GET request to https://api.elsevier.com/content/search/scopus?query=10.1186%2Fs13052-017-0430-4\n",
      "2025-05-23 18:28:49 grati elsapy.elsclient[2537748] INFO Sending GET request to https://api.elsevier.com/content/search/scopus?query=10.1136%2Fthoraxjnl-2017-210983.99\n",
      "2025-05-23 18:28:51 grati elsapy.elsclient[2537748] INFO Sending GET request to https://api.elsevier.com/content/search/scopus?query=10.1002%2Fppul.23840\n",
      "2025-05-23 18:28:51 grati elsapy.utils[2537748] INFO Converting prism:coverDate\n",
      "2025-05-23 18:28:52 grati elsapy.elsclient[2537748] INFO Sending GET request to https://api.elsevier.com/content/search/scopus?query=10.1002%2Fppul.22495\n",
      "2025-05-23 18:28:53 grati elsapy.utils[2537748] INFO Converting prism:coverDate\n",
      "2025-05-23 18:28:54 grati elsapy.elsclient[2537748] INFO Sending GET request to https://api.elsevier.com/content/search/scopus?query=10.1002%2Fppul.23108\n",
      "2025-05-23 18:28:55 grati elsapy.utils[2537748] INFO Converting prism:coverDate\n",
      "2025-05-23 18:28:56 grati elsapy.elsclient[2537748] INFO Sending GET request to https://api.elsevier.com/content/search/scopus?query=10.1016%2Fj.jcf.2020.11.003\n",
      "2025-05-23 18:28:56 grati elsapy.utils[2537748] INFO Converting prism:coverDate\n",
      "2025-05-23 18:28:57 grati elsapy.elsclient[2537748] INFO Sending GET request to https://api.elsevier.com/content/search/scopus?query=10.1002%2Fppul.22898\n",
      "2025-05-23 18:28:58 grati elsapy.utils[2537748] INFO Converting prism:coverDate\n",
      "2025-05-23 18:28:59 grati elsapy.elsclient[2537748] INFO Sending GET request to https://api.elsevier.com/content/search/scopus?query=10.1183%2F13993003.congress2015.PA2047\n",
      "2025-05-23 18:29:01 grati elsapy.elsclient[2537748] INFO Sending GET request to https://api.elsevier.com/content/search/scopus?query=10.1186%2Fs13052-019-0631-0\n",
      "2025-05-23 18:29:02 grati elsapy.elsclient[2537748] INFO Sending GET request to https://api.elsevier.com/content/search/scopus?query=10.1038%2Fclpt.2012.256\n",
      "2025-05-23 18:29:04 grati elsapy.elsclient[2537748] INFO Sending GET request to https://api.elsevier.com/content/search/scopus?query=10.1002%2Fppul.22898\n",
      "2025-05-23 18:29:05 grati elsapy.utils[2537748] INFO Converting prism:coverDate\n",
      "2025-05-23 18:29:06 grati elsapy.elsclient[2537748] INFO Sending GET request to https://api.elsevier.com/content/search/scopus?query=10.1055%2Fs-0037-1619210\n",
      "2025-05-23 18:29:07 grati elsapy.elsclient[2537748] INFO Sending GET request to https://api.elsevier.com/content/search/scopus?query=10.1136%2Fthorax-2018-212555.75\n",
      "2025-05-23 18:29:09 grati elsapy.elsclient[2537748] INFO Sending GET request to https://api.elsevier.com/content/search/scopus?query=10.1016%2FS2213-2600%2821%2900454-9\n"
     ]
    },
    {
     "name": "stdout",
     "output_type": "stream",
     "text": [
      "Erro ao buscar DOI 10.1016/S2213-2600(21)00454-9: HTTP 400 Error from https://api.elsevier.com/content/search/scopus?query=10.1016%2FS2213-2600%2821%2900454-9\n",
      "and using headers {'X-ELS-APIKey': '18cea8004848f339d14dd509a16e753e', 'User-Agent': 'elsapy-v0.5.1', 'Accept': 'application/json', 'X-ELS-Insttoken': 'aa8087d5506a067fa3e1c2761628f450'}:\n",
      "{\"service-error\":{\"status\":{\"statusCode\":\"INVALID_INPUT\",\"statusText\":\"Error translating query\"}}}\n"
     ]
    },
    {
     "name": "stderr",
     "output_type": "stream",
     "text": [
      "2025-05-23 18:29:10 grati elsapy.elsclient[2537748] INFO Sending GET request to https://api.elsevier.com/content/search/scopus?query=10.1016%2FS1569-1993%2821%2902087-7\n"
     ]
    },
    {
     "name": "stdout",
     "output_type": "stream",
     "text": [
      "Erro ao buscar DOI 10.1016/S1569-1993(21)02087-7: HTTP 400 Error from https://api.elsevier.com/content/search/scopus?query=10.1016%2FS1569-1993%2821%2902087-7\n",
      "and using headers {'X-ELS-APIKey': '18cea8004848f339d14dd509a16e753e', 'User-Agent': 'elsapy-v0.5.1', 'Accept': 'application/json', 'X-ELS-Insttoken': 'aa8087d5506a067fa3e1c2761628f450'}:\n",
      "{\"service-error\":{\"status\":{\"statusCode\":\"INVALID_INPUT\",\"statusText\":\"Error translating query\"}}}\n"
     ]
    },
    {
     "name": "stderr",
     "output_type": "stream",
     "text": [
      "2025-05-23 18:29:12 grati elsapy.elsclient[2537748] INFO Sending GET request to https://api.elsevier.com/content/search/scopus?query=10.1016%2FS1569-1993%2821%2902032-4\n"
     ]
    },
    {
     "name": "stdout",
     "output_type": "stream",
     "text": [
      "Erro ao buscar DOI 10.1016/S1569-1993(21)02032-4: HTTP 400 Error from https://api.elsevier.com/content/search/scopus?query=10.1016%2FS1569-1993%2821%2902032-4\n",
      "and using headers {'X-ELS-APIKey': '18cea8004848f339d14dd509a16e753e', 'User-Agent': 'elsapy-v0.5.1', 'Accept': 'application/json', 'X-ELS-Insttoken': 'aa8087d5506a067fa3e1c2761628f450'}:\n",
      "{\"service-error\":{\"status\":{\"statusCode\":\"INVALID_INPUT\",\"statusText\":\"Error translating query\"}}}\n"
     ]
    },
    {
     "name": "stderr",
     "output_type": "stream",
     "text": [
      "2025-05-23 18:29:13 grati elsapy.elsclient[2537748] INFO Sending GET request to https://api.elsevier.com/content/search/scopus?query=10.1016%2FS1569-1993%2821%2902003-8\n"
     ]
    },
    {
     "name": "stdout",
     "output_type": "stream",
     "text": [
      "Erro ao buscar DOI 10.1016/S1569-1993(21)02003-8: HTTP 400 Error from https://api.elsevier.com/content/search/scopus?query=10.1016%2FS1569-1993%2821%2902003-8\n",
      "and using headers {'X-ELS-APIKey': '18cea8004848f339d14dd509a16e753e', 'User-Agent': 'elsapy-v0.5.1', 'Accept': 'application/json', 'X-ELS-Insttoken': 'aa8087d5506a067fa3e1c2761628f450'}:\n",
      "{\"service-error\":{\"status\":{\"statusCode\":\"INVALID_INPUT\",\"statusText\":\"Error translating query\"}}}\n"
     ]
    },
    {
     "name": "stderr",
     "output_type": "stream",
     "text": [
      "2025-05-23 18:29:15 grati elsapy.elsclient[2537748] INFO Sending GET request to https://api.elsevier.com/content/search/scopus?query=10.18093%2F0869-0189-2021-31-2-167-177\n",
      "2025-05-23 18:29:15 grati elsapy.utils[2537748] INFO Converting prism:coverDate\n",
      "2025-05-23 18:29:16 grati elsapy.elsclient[2537748] INFO Sending GET request to https://api.elsevier.com/content/search/scopus?query=10.1016%2FS1569-1993%2821%2901030-4\n"
     ]
    },
    {
     "name": "stdout",
     "output_type": "stream",
     "text": [
      "Erro ao buscar DOI 10.1016/S1569-1993(21)01030-4: HTTP 400 Error from https://api.elsevier.com/content/search/scopus?query=10.1016%2FS1569-1993%2821%2901030-4\n",
      "and using headers {'X-ELS-APIKey': '18cea8004848f339d14dd509a16e753e', 'User-Agent': 'elsapy-v0.5.1', 'Accept': 'application/json', 'X-ELS-Insttoken': 'aa8087d5506a067fa3e1c2761628f450'}:\n",
      "{\"service-error\":{\"status\":{\"statusCode\":\"INVALID_INPUT\",\"statusText\":\"Error translating query\"}}}\n"
     ]
    },
    {
     "name": "stderr",
     "output_type": "stream",
     "text": [
      "2025-05-23 18:29:18 grati elsapy.elsclient[2537748] INFO Sending GET request to https://api.elsevier.com/content/search/scopus?query=10.1016%2FS1569-1993%2821%2901058-4\n"
     ]
    },
    {
     "name": "stdout",
     "output_type": "stream",
     "text": [
      "Erro ao buscar DOI 10.1016/S1569-1993(21)01058-4: HTTP 400 Error from https://api.elsevier.com/content/search/scopus?query=10.1016%2FS1569-1993%2821%2901058-4\n",
      "and using headers {'X-ELS-APIKey': '18cea8004848f339d14dd509a16e753e', 'User-Agent': 'elsapy-v0.5.1', 'Accept': 'application/json', 'X-ELS-Insttoken': 'aa8087d5506a067fa3e1c2761628f450'}:\n",
      "{\"service-error\":{\"status\":{\"statusCode\":\"INVALID_INPUT\",\"statusText\":\"Error translating query\"}}}\n"
     ]
    },
    {
     "name": "stderr",
     "output_type": "stream",
     "text": [
      "2025-05-23 18:29:20 grati elsapy.elsclient[2537748] INFO Sending GET request to https://api.elsevier.com/content/search/scopus?query=10.1016%2FS1569-1993%2821%2901074-2\n"
     ]
    },
    {
     "name": "stdout",
     "output_type": "stream",
     "text": [
      "Erro ao buscar DOI 10.1016/S1569-1993(21)01074-2: HTTP 400 Error from https://api.elsevier.com/content/search/scopus?query=10.1016%2FS1569-1993%2821%2901074-2\n",
      "and using headers {'X-ELS-APIKey': '18cea8004848f339d14dd509a16e753e', 'User-Agent': 'elsapy-v0.5.1', 'Accept': 'application/json', 'X-ELS-Insttoken': 'aa8087d5506a067fa3e1c2761628f450'}:\n",
      "{\"service-error\":{\"status\":{\"statusCode\":\"INVALID_INPUT\",\"statusText\":\"Error translating query\"}}}\n"
     ]
    },
    {
     "name": "stderr",
     "output_type": "stream",
     "text": [
      "2025-05-23 18:29:21 grati elsapy.elsclient[2537748] INFO Sending GET request to https://api.elsevier.com/content/search/scopus?query=10.1016%2FS1569-1993%2821%2901064-X\n"
     ]
    },
    {
     "name": "stdout",
     "output_type": "stream",
     "text": [
      "Erro ao buscar DOI 10.1016/S1569-1993(21)01064-X: HTTP 400 Error from https://api.elsevier.com/content/search/scopus?query=10.1016%2FS1569-1993%2821%2901064-X\n",
      "and using headers {'X-ELS-APIKey': '18cea8004848f339d14dd509a16e753e', 'User-Agent': 'elsapy-v0.5.1', 'Accept': 'application/json', 'X-ELS-Insttoken': 'aa8087d5506a067fa3e1c2761628f450'}:\n",
      "{\"service-error\":{\"status\":{\"statusCode\":\"INVALID_INPUT\",\"statusText\":\"Error translating query\"}}}\n"
     ]
    },
    {
     "name": "stderr",
     "output_type": "stream",
     "text": [
      "2025-05-23 18:29:23 grati elsapy.elsclient[2537748] INFO Sending GET request to https://api.elsevier.com/content/search/scopus?query=10.1016%2FS1569-1993%2821%2900964-4\n"
     ]
    },
    {
     "name": "stdout",
     "output_type": "stream",
     "text": [
      "Erro ao buscar DOI 10.1016/S1569-1993(21)00964-4: HTTP 400 Error from https://api.elsevier.com/content/search/scopus?query=10.1016%2FS1569-1993%2821%2900964-4\n",
      "and using headers {'X-ELS-APIKey': '18cea8004848f339d14dd509a16e753e', 'User-Agent': 'elsapy-v0.5.1', 'Accept': 'application/json', 'X-ELS-Insttoken': 'aa8087d5506a067fa3e1c2761628f450'}:\n",
      "{\"service-error\":{\"status\":{\"statusCode\":\"INVALID_INPUT\",\"statusText\":\"Error translating query\"}}}\n"
     ]
    },
    {
     "name": "stderr",
     "output_type": "stream",
     "text": [
      "2025-05-23 18:29:24 grati elsapy.elsclient[2537748] INFO Sending GET request to https://api.elsevier.com/content/search/scopus?query=10.1002%2Fppul.23840\n",
      "2025-05-23 18:29:25 grati elsapy.utils[2537748] INFO Converting prism:coverDate\n",
      "2025-05-23 18:29:26 grati elsapy.elsclient[2537748] INFO Sending GET request to https://api.elsevier.com/content/search/scopus?query=10.1016%2FS1569-1993%2820%2930223-X\n"
     ]
    },
    {
     "name": "stdout",
     "output_type": "stream",
     "text": [
      "Erro ao buscar DOI 10.1016/S1569-1993(20)30223-X: HTTP 400 Error from https://api.elsevier.com/content/search/scopus?query=10.1016%2FS1569-1993%2820%2930223-X\n",
      "and using headers {'X-ELS-APIKey': '18cea8004848f339d14dd509a16e753e', 'User-Agent': 'elsapy-v0.5.1', 'Accept': 'application/json', 'X-ELS-Insttoken': 'aa8087d5506a067fa3e1c2761628f450'}:\n",
      "{\"service-error\":{\"status\":{\"statusCode\":\"INVALID_INPUT\",\"statusText\":\"Error translating query\"}}}\n"
     ]
    },
    {
     "name": "stderr",
     "output_type": "stream",
     "text": [
      "2025-05-23 18:29:27 grati elsapy.elsclient[2537748] INFO Sending GET request to https://api.elsevier.com/content/search/scopus?query=10.1016%2FS1569-1993%2820%2930346-5\n"
     ]
    },
    {
     "name": "stdout",
     "output_type": "stream",
     "text": [
      "Erro ao buscar DOI 10.1016/S1569-1993(20)30346-5: HTTP 400 Error from https://api.elsevier.com/content/search/scopus?query=10.1016%2FS1569-1993%2820%2930346-5\n",
      "and using headers {'X-ELS-APIKey': '18cea8004848f339d14dd509a16e753e', 'User-Agent': 'elsapy-v0.5.1', 'Accept': 'application/json', 'X-ELS-Insttoken': 'aa8087d5506a067fa3e1c2761628f450'}:\n",
      "{\"service-error\":{\"status\":{\"statusCode\":\"INVALID_INPUT\",\"statusText\":\"Error translating query\"}}}\n"
     ]
    },
    {
     "name": "stderr",
     "output_type": "stream",
     "text": [
      "2025-05-23 18:29:29 grati elsapy.elsclient[2537748] INFO Sending GET request to https://api.elsevier.com/content/search/scopus?query=10.1016%2FS1569-1993%2820%2930369-6\n"
     ]
    },
    {
     "name": "stdout",
     "output_type": "stream",
     "text": [
      "Erro ao buscar DOI 10.1016/S1569-1993(20)30369-6: HTTP 400 Error from https://api.elsevier.com/content/search/scopus?query=10.1016%2FS1569-1993%2820%2930369-6\n",
      "and using headers {'X-ELS-APIKey': '18cea8004848f339d14dd509a16e753e', 'User-Agent': 'elsapy-v0.5.1', 'Accept': 'application/json', 'X-ELS-Insttoken': 'aa8087d5506a067fa3e1c2761628f450'}:\n",
      "{\"service-error\":{\"status\":{\"statusCode\":\"INVALID_INPUT\",\"statusText\":\"Error translating query\"}}}\n"
     ]
    },
    {
     "name": "stderr",
     "output_type": "stream",
     "text": [
      "2025-05-23 18:29:30 grati elsapy.elsclient[2537748] INFO Sending GET request to https://api.elsevier.com/content/search/scopus?query=10.1021%2Fbi702209s\n",
      "2025-05-23 18:29:31 grati elsapy.utils[2537748] INFO Converting prism:coverDate\n"
     ]
    }
   ],
   "source": [
    "# Lista para armazenar os resultados\n",
    "rows = []\n",
    "\n",
    "# Itera sobre os DOIs onde location está ausente\n",
    "for doi in data_null['doi']:\n",
    "    try:\n",
    "        doc_srch = ElsSearch(doi, \"scopus\")\n",
    "        doc_srch.execute(client)\n",
    "\n",
    "        if doc_srch.results:\n",
    "            item = doc_srch.results[0]  # Apenas o primeiro resultado\n",
    "            affs = item.get(\"affiliation\", [])\n",
    "            country = affs[0].get(\"affiliation-country\") if affs else None\n",
    "            rows.append({\"doi\": doi, \"country\": country})\n",
    "        else:\n",
    "            rows.append({\"doi\": doi, \"country\": None})\n",
    "    except Exception as e:\n",
    "        print(f\"Erro ao buscar DOI {doi}: {e}\")\n",
    "        rows.append({\"doi\": doi, \"country\": None})\n",
    "\n",
    "# Cria o DataFrame com os resultados\n",
    "data_scopus = pd.DataFrame(rows)"
   ]
  },
  {
   "cell_type": "code",
   "execution_count": 83,
   "id": "2ef40ff2-f8e9-4002-b9db-dd8bd80a05d4",
   "metadata": {},
   "outputs": [],
   "source": [
    "data_scopus = data_scopus.rename(columns={'country': 'affiliation_country'})"
   ]
  },
  {
   "cell_type": "code",
   "execution_count": 84,
   "id": "cbca02ec-7f0f-4cbc-b90d-a18629fceaad",
   "metadata": {},
   "outputs": [
    {
     "data": {
      "text/plain": [
       "(243, 2)"
      ]
     },
     "execution_count": 84,
     "metadata": {},
     "output_type": "execute_result"
    }
   ],
   "source": [
    "data_scopus.shape"
   ]
  },
  {
   "cell_type": "code",
   "execution_count": 85,
   "id": "0e8e2de4-4b3c-4b3d-844e-87f7d8b766aa",
   "metadata": {},
   "outputs": [
    {
     "name": "stdout",
     "output_type": "stream",
     "text": [
      "<class 'pandas.core.frame.DataFrame'>\n",
      "RangeIndex: 679 entries, 0 to 678\n",
      "Data columns (total 10 columns):\n",
      " #   Column               Non-Null Count  Dtype  \n",
      "---  ------               --------------  -----  \n",
      " 0   title                679 non-null    object \n",
      " 1   doi                  608 non-null    object \n",
      " 2   year                 658 non-null    float64\n",
      " 3   month                29 non-null     float64\n",
      " 4   journal              549 non-null    object \n",
      " 5   url                  678 non-null    object \n",
      " 6   location             360 non-null    object \n",
      " 7   pmid                 196 non-null    object \n",
      " 8   country              196 non-null    object \n",
      " 9   affiliation_country  229 non-null    object \n",
      "dtypes: float64(2), object(8)\n",
      "memory usage: 53.2+ KB\n"
     ]
    }
   ],
   "source": [
    "data_affiliation_scopus = pd.merge(data, data_scopus, how='left',on=['doi'])\n",
    "data_affiliation_scopus.info()"
   ]
  },
  {
   "cell_type": "code",
   "execution_count": 86,
   "id": "a1351550-ed6e-4ecd-ac6b-e781c16e44d3",
   "metadata": {},
   "outputs": [
    {
     "name": "stdout",
     "output_type": "stream",
     "text": [
      "<class 'pandas.core.frame.DataFrame'>\n",
      "Index: 607 entries, 0 to 678\n",
      "Data columns (total 10 columns):\n",
      " #   Column               Non-Null Count  Dtype  \n",
      "---  ------               --------------  -----  \n",
      " 0   title                607 non-null    object \n",
      " 1   doi                  536 non-null    object \n",
      " 2   year                 586 non-null    float64\n",
      " 3   month                29 non-null     float64\n",
      " 4   journal              509 non-null    object \n",
      " 5   url                  606 non-null    object \n",
      " 6   location             320 non-null    object \n",
      " 7   pmid                 196 non-null    object \n",
      " 8   country              196 non-null    object \n",
      " 9   affiliation_country  178 non-null    object \n",
      "dtypes: float64(2), object(8)\n",
      "memory usage: 52.2+ KB\n"
     ]
    }
   ],
   "source": [
    "data_affiliation_scopus = data_affiliation_scopus.drop_duplicates('title')\n",
    "data_affiliation_scopus = data_affiliation_scopus[['title', 'doi', 'year', 'month','journal', 'url', 'location', 'pmid', 'country', 'affiliation_country']]\n",
    "\n",
    "data_affiliation_scopus.info()"
   ]
  },
  {
   "cell_type": "code",
   "execution_count": 87,
   "id": "24c38263-708b-47a7-972c-9e850f5a389b",
   "metadata": {},
   "outputs": [
    {
     "name": "stdout",
     "output_type": "stream",
     "text": [
      "<class 'pandas.core.frame.DataFrame'>\n",
      "Index: 607 entries, 0 to 678\n",
      "Data columns (total 10 columns):\n",
      " #   Column               Non-Null Count  Dtype  \n",
      "---  ------               --------------  -----  \n",
      " 0   title                607 non-null    object \n",
      " 1   doi                  536 non-null    object \n",
      " 2   year                 586 non-null    float64\n",
      " 3   month                29 non-null     float64\n",
      " 4   journal              509 non-null    object \n",
      " 5   url                  606 non-null    object \n",
      " 6   location             483 non-null    object \n",
      " 7   pmid                 196 non-null    object \n",
      " 8   country              196 non-null    object \n",
      " 9   affiliation_country  178 non-null    object \n",
      "dtypes: float64(2), object(8)\n",
      "memory usage: 52.2+ KB\n"
     ]
    }
   ],
   "source": [
    "data_affiliation_scopus['location'] = data_affiliation_scopus['location'].fillna(data_affiliation_scopus['affiliation_country'])\n",
    "data_affiliation_scopus.info()"
   ]
  },
  {
   "cell_type": "code",
   "execution_count": 88,
   "id": "f514449c-9dfa-41eb-b571-9accb7b9a299",
   "metadata": {},
   "outputs": [
    {
     "data": {
      "text/html": [
       "<div>\n",
       "<style scoped>\n",
       "    .dataframe tbody tr th:only-of-type {\n",
       "        vertical-align: middle;\n",
       "    }\n",
       "\n",
       "    .dataframe tbody tr th {\n",
       "        vertical-align: top;\n",
       "    }\n",
       "\n",
       "    .dataframe thead th {\n",
       "        text-align: right;\n",
       "    }\n",
       "</style>\n",
       "<table border=\"1\" class=\"dataframe\">\n",
       "  <thead>\n",
       "    <tr style=\"text-align: right;\">\n",
       "      <th></th>\n",
       "      <th>title</th>\n",
       "      <th>doi</th>\n",
       "      <th>year</th>\n",
       "      <th>month</th>\n",
       "      <th>journal</th>\n",
       "      <th>url</th>\n",
       "      <th>location</th>\n",
       "      <th>pmid</th>\n",
       "      <th>country</th>\n",
       "      <th>affiliation_country</th>\n",
       "    </tr>\n",
       "  </thead>\n",
       "  <tbody>\n",
       "    <tr>\n",
       "      <th>0</th>\n",
       "      <td>Localization and function of humanized F508del-CFTR in mouse intestine following activation of serum glucocorticoid kinase 1 and Trikafta</td>\n",
       "      <td>10.1016/j.ejphar.2024.176771</td>\n",
       "      <td>2024.0</td>\n",
       "      <td>NaN</td>\n",
       "      <td>European Journal of Pharmacology</td>\n",
       "      <td>https://www.scopus.com/inward/record.uri?eid=2-s2.0-85197319328&amp;doi=10.1016%2fj.ejphar.2024.176771&amp;partnerID=40&amp;md5=1c76818fdd0b3a61215c9dfed67ebadf</td>\n",
       "      <td>United States</td>\n",
       "      <td>NaN</td>\n",
       "      <td>NaN</td>\n",
       "      <td>United States</td>\n",
       "    </tr>\n",
       "    <tr>\n",
       "      <th>1</th>\n",
       "      <td>L1077P CFTR pathogenic variant function rescue by Elexacaftor–Tezacaftor–Ivacaftor in cystic fibrosis patient-derived air–liquid interface (ALI) cultures and organoids: in vitro guided personalized therapy of non-F508del patients</td>\n",
       "      <td>10.1186/s12931-023-02516-0</td>\n",
       "      <td>2023.0</td>\n",
       "      <td>NaN</td>\n",
       "      <td>Respiratory Research</td>\n",
       "      <td>https://www.scopus.com/inward/record.uri?eid=2-s2.0-85172256705&amp;doi=10.1186%2fs12931-023-02516-0&amp;partnerID=40&amp;md5=ac29de89df9cf5cd0f2ec1cb77dc2a91</td>\n",
       "      <td>Department of Oncology and Molecular Medicine, Istituto Superiore di Sanità, Rome, Italy.;Department of Oncology and Molecular Medicine, Istituto Superiore di Sanità, Rome, Italy.;Department of Experimental Medicine, Sapienza University of Rome, Rome, Italy.;Department of Experimental Medicine, Sapienza University of Rome, Rome, Italy.;Department of Oncology and Molecular Medicine, Istituto Superiore di Sanità, Rome, Italy.;Department of Oncology and Molecular Medicine, Istituto Superiore di Sanità, Rome, Italy.;Department of Molecular Medicine and Medical Biotechnologies, University of Naples Federico II, Naples, Italy.;Department of Molecular Medicine and Medical Biotechnologies, University of Naples Federico II, Naples, Italy.;Department of Molecular Medicine and Medical Biotechnologies, University of Naples Federico II, Naples, Italy.;Confocal Microscopy Unit, Core Facilities, Istituto Superiore di Sanità, Rome, Italy.;Dipartimento di Medicina e Chirurgia Traslazionale, Università Cattolica del Sacro Cuore, Rome, Italy.;Department of Oncology and Molecular Medicine, Istituto Superiore di Sanità, Rome, Italy.;Cystic Fibrosis Reference Center of Lazio Region, AOU Policlinico Umberto I, Rome, Italy.;Department of Molecular Medicine and Medical Biotechnologies, University of Naples Federico II, Naples, Italy.;Department of Experimental Medicine, Sapienza University of Rome, Rome, Italy.;Department of Oncology and Molecular Medicine, Istituto Superiore di Sanità, Rome, Italy. adriana.eramo@iss.it.</td>\n",
       "      <td>37674160</td>\n",
       "      <td>England</td>\n",
       "      <td>NaN</td>\n",
       "    </tr>\n",
       "    <tr>\n",
       "      <th>2</th>\n",
       "      <td>Long-Term Safety and Efficacy of Elexacaftor/Tezacaftor/Ivacaftor in Children Aged &gt;6 Years with Cystic Fibrosis and at Least One F508del Allele A Phase 3, Open-Label Clinical Trial</td>\n",
       "      <td>10.1164/rccm.202301-0021OC</td>\n",
       "      <td>2023.0</td>\n",
       "      <td>NaN</td>\n",
       "      <td>American Journal of Respiratory and Critical Care Medicine</td>\n",
       "      <td>https://www.scopus.com/inward/record.uri?eid=2-s2.0-85164233720&amp;doi=10.1164%2frccm.202301-0021OC&amp;partnerID=40&amp;md5=fb1946b9e74c8d01c4fd7c205be7ed58</td>\n",
       "      <td>Queensland Children's Hospital, South Brisbane, Queensland, Australia.;Ann &amp; Robert H. Lurie Children's Hospital of Chicago, Chicago, Illinois.;Children's Health Ireland, Dublin, Ireland.;Oregon Health &amp; Sciences University, Portland, Oregon.;University of Toronto, Toronto, Ontario, Canada.;University of British Columbia, Vancouver, British Columbia, Canada.;University of North Carolina at Chapel Hill, Chapel Hill, North Carolina.;University Hospitals Cleveland Medical Center, Cleveland, Ohio.;Vertex Pharmaceuticals Incorporated, Boston, Massachusetts.;Vertex Pharmaceuticals Incorporated, Boston, Massachusetts.;Vertex Pharmaceuticals Incorporated, Boston, Massachusetts.;Vertex Pharmaceuticals Incorporated, Boston, Massachusetts.;Vertex Pharmaceuticals Incorporated, Boston, Massachusetts.;Vertex Pharmaceuticals Incorporated, Boston, Massachusetts.;Vertex Pharmaceuticals Incorporated, Boston, Massachusetts.;Vertex Pharmaceuticals Incorporated, Boston, Massachusetts.;National Heart and Lung Institute, Imperial College London, London, United Kingdom; and.</td>\n",
       "      <td>37154609</td>\n",
       "      <td>United States</td>\n",
       "      <td>NaN</td>\n",
       "    </tr>\n",
       "    <tr>\n",
       "      <th>3</th>\n",
       "      <td>Reply to: Cystic fibrosis transmembrane conductance regulator (CFTR) variants and CFTR function in patients with pancreatitis</td>\n",
       "      <td>10.1016/j.pan.2024.07.015</td>\n",
       "      <td>2024.0</td>\n",
       "      <td>NaN</td>\n",
       "      <td>Pancreatology</td>\n",
       "      <td>https://www.scopus.com/inward/record.uri?eid=2-s2.0-85201602423&amp;doi=10.1016%2fj.pan.2024.07.015&amp;partnerID=40&amp;md5=124e33062766eba098c6ed5311efb420</td>\n",
       "      <td>Italy</td>\n",
       "      <td>NaN</td>\n",
       "      <td>NaN</td>\n",
       "      <td>Italy</td>\n",
       "    </tr>\n",
       "    <tr>\n",
       "      <th>4</th>\n",
       "      <td>Response to Elexacaftor/Tezacaftor/Ivacaftor in people with cystic fibrosis with the N1303K mutation: Case report and review of the literature</td>\n",
       "      <td>10.1016/j.heliyon.2024.e26955</td>\n",
       "      <td>2024.0</td>\n",
       "      <td>NaN</td>\n",
       "      <td>Heliyon</td>\n",
       "      <td>https://www.scopus.com/inward/record.uri?eid=2-s2.0-85186548221&amp;doi=10.1016%2fj.heliyon.2024.e26955&amp;partnerID=40&amp;md5=76aaa0fae3f99771de9224e9dbdb893f</td>\n",
       "      <td>Division of Pulmonary and Critical Care Medicine, University of Miami Miller School of Medicine, 1951 NW 7th Ave, Suite 2278, Miami, FL, 33136, United States.;Department of Internal Medicine, University of Kansas Medical Center, 3901 Rainbow Blvd, Kansas City, KS, 66160, United States.;Department of Internal Medicine, University of Kansas Medical Center, 3901 Rainbow Blvd, Kansas City, KS, 66160, United States.;Department of Internal Medicine, University of Kansas Medical Center, 3901 Rainbow Blvd, Kansas City, KS, 66160, United States.</td>\n",
       "      <td>38463894</td>\n",
       "      <td>England</td>\n",
       "      <td>NaN</td>\n",
       "    </tr>\n",
       "  </tbody>\n",
       "</table>\n",
       "</div>"
      ],
      "text/plain": [
       "                                                                                                                                                                                                                                   title  \\\n",
       "0                                                                                              Localization and function of humanized F508del-CFTR in mouse intestine following activation of serum glucocorticoid kinase 1 and Trikafta   \n",
       "1  L1077P CFTR pathogenic variant function rescue by Elexacaftor–Tezacaftor–Ivacaftor in cystic fibrosis patient-derived air–liquid interface (ALI) cultures and organoids: in vitro guided personalized therapy of non-F508del patients   \n",
       "2                                                  Long-Term Safety and Efficacy of Elexacaftor/Tezacaftor/Ivacaftor in Children Aged >6 Years with Cystic Fibrosis and at Least One F508del Allele A Phase 3, Open-Label Clinical Trial   \n",
       "3                                                                                                          Reply to: Cystic fibrosis transmembrane conductance regulator (CFTR) variants and CFTR function in patients with pancreatitis   \n",
       "4                                                                                         Response to Elexacaftor/Tezacaftor/Ivacaftor in people with cystic fibrosis with the N1303K mutation: Case report and review of the literature   \n",
       "\n",
       "                             doi    year  month  \\\n",
       "0   10.1016/j.ejphar.2024.176771  2024.0    NaN   \n",
       "1     10.1186/s12931-023-02516-0  2023.0    NaN   \n",
       "2     10.1164/rccm.202301-0021OC  2023.0    NaN   \n",
       "3      10.1016/j.pan.2024.07.015  2024.0    NaN   \n",
       "4  10.1016/j.heliyon.2024.e26955  2024.0    NaN   \n",
       "\n",
       "                                                      journal  \\\n",
       "0                            European Journal of Pharmacology   \n",
       "1                                        Respiratory Research   \n",
       "2  American Journal of Respiratory and Critical Care Medicine   \n",
       "3                                               Pancreatology   \n",
       "4                                                     Heliyon   \n",
       "\n",
       "                                                                                                                                                     url  \\\n",
       "0   https://www.scopus.com/inward/record.uri?eid=2-s2.0-85197319328&doi=10.1016%2fj.ejphar.2024.176771&partnerID=40&md5=1c76818fdd0b3a61215c9dfed67ebadf   \n",
       "1     https://www.scopus.com/inward/record.uri?eid=2-s2.0-85172256705&doi=10.1186%2fs12931-023-02516-0&partnerID=40&md5=ac29de89df9cf5cd0f2ec1cb77dc2a91   \n",
       "2     https://www.scopus.com/inward/record.uri?eid=2-s2.0-85164233720&doi=10.1164%2frccm.202301-0021OC&partnerID=40&md5=fb1946b9e74c8d01c4fd7c205be7ed58   \n",
       "3      https://www.scopus.com/inward/record.uri?eid=2-s2.0-85201602423&doi=10.1016%2fj.pan.2024.07.015&partnerID=40&md5=124e33062766eba098c6ed5311efb420   \n",
       "4  https://www.scopus.com/inward/record.uri?eid=2-s2.0-85186548221&doi=10.1016%2fj.heliyon.2024.e26955&partnerID=40&md5=76aaa0fae3f99771de9224e9dbdb893f   \n",
       "\n",
       "                                                                                                                                                                                                                                                                                                                                                                                                                                                                                                                                                                                                                                                                                                                                                                                                                                                                                                                                                                                                                                                                                                                                                                                                                                                                                                                                                                                                                                                                                                                                                                            location  \\\n",
       "0                                                                                                                                                                                                                                                                                                                                                                                                                                                                                                                                                                                                                                                                                                                                                                                                                                                                                                                                                                                                                                                                                                                                                                                                                                                                                                                                                                                                                                                                                                                                                                      United States   \n",
       "1  Department of Oncology and Molecular Medicine, Istituto Superiore di Sanità, Rome, Italy.;Department of Oncology and Molecular Medicine, Istituto Superiore di Sanità, Rome, Italy.;Department of Experimental Medicine, Sapienza University of Rome, Rome, Italy.;Department of Experimental Medicine, Sapienza University of Rome, Rome, Italy.;Department of Oncology and Molecular Medicine, Istituto Superiore di Sanità, Rome, Italy.;Department of Oncology and Molecular Medicine, Istituto Superiore di Sanità, Rome, Italy.;Department of Molecular Medicine and Medical Biotechnologies, University of Naples Federico II, Naples, Italy.;Department of Molecular Medicine and Medical Biotechnologies, University of Naples Federico II, Naples, Italy.;Department of Molecular Medicine and Medical Biotechnologies, University of Naples Federico II, Naples, Italy.;Confocal Microscopy Unit, Core Facilities, Istituto Superiore di Sanità, Rome, Italy.;Dipartimento di Medicina e Chirurgia Traslazionale, Università Cattolica del Sacro Cuore, Rome, Italy.;Department of Oncology and Molecular Medicine, Istituto Superiore di Sanità, Rome, Italy.;Cystic Fibrosis Reference Center of Lazio Region, AOU Policlinico Umberto I, Rome, Italy.;Department of Molecular Medicine and Medical Biotechnologies, University of Naples Federico II, Naples, Italy.;Department of Experimental Medicine, Sapienza University of Rome, Rome, Italy.;Department of Oncology and Molecular Medicine, Istituto Superiore di Sanità, Rome, Italy. adriana.eramo@iss.it.   \n",
       "2                                                                                                                                                                                                                                                                                                                                                                                                                                                                        Queensland Children's Hospital, South Brisbane, Queensland, Australia.;Ann & Robert H. Lurie Children's Hospital of Chicago, Chicago, Illinois.;Children's Health Ireland, Dublin, Ireland.;Oregon Health & Sciences University, Portland, Oregon.;University of Toronto, Toronto, Ontario, Canada.;University of British Columbia, Vancouver, British Columbia, Canada.;University of North Carolina at Chapel Hill, Chapel Hill, North Carolina.;University Hospitals Cleveland Medical Center, Cleveland, Ohio.;Vertex Pharmaceuticals Incorporated, Boston, Massachusetts.;Vertex Pharmaceuticals Incorporated, Boston, Massachusetts.;Vertex Pharmaceuticals Incorporated, Boston, Massachusetts.;Vertex Pharmaceuticals Incorporated, Boston, Massachusetts.;Vertex Pharmaceuticals Incorporated, Boston, Massachusetts.;Vertex Pharmaceuticals Incorporated, Boston, Massachusetts.;Vertex Pharmaceuticals Incorporated, Boston, Massachusetts.;Vertex Pharmaceuticals Incorporated, Boston, Massachusetts.;National Heart and Lung Institute, Imperial College London, London, United Kingdom; and.   \n",
       "3                                                                                                                                                                                                                                                                                                                                                                                                                                                                                                                                                                                                                                                                                                                                                                                                                                                                                                                                                                                                                                                                                                                                                                                                                                                                                                                                                                                                                                                                                                                                                                              Italy   \n",
       "4                                                                                                                                                                                                                                                                                                                                                                                                                                                                                                                                                                                                                                                                                                                                                                                                                                                                                                                                                                                                                     Division of Pulmonary and Critical Care Medicine, University of Miami Miller School of Medicine, 1951 NW 7th Ave, Suite 2278, Miami, FL, 33136, United States.;Department of Internal Medicine, University of Kansas Medical Center, 3901 Rainbow Blvd, Kansas City, KS, 66160, United States.;Department of Internal Medicine, University of Kansas Medical Center, 3901 Rainbow Blvd, Kansas City, KS, 66160, United States.;Department of Internal Medicine, University of Kansas Medical Center, 3901 Rainbow Blvd, Kansas City, KS, 66160, United States.   \n",
       "\n",
       "       pmid        country affiliation_country  \n",
       "0       NaN            NaN       United States  \n",
       "1  37674160        England                 NaN  \n",
       "2  37154609  United States                 NaN  \n",
       "3       NaN            NaN               Italy  \n",
       "4  38463894        England                 NaN  "
      ]
     },
     "execution_count": 88,
     "metadata": {},
     "output_type": "execute_result"
    }
   ],
   "source": [
    "data_affiliation_scopus.head()"
   ]
  },
  {
   "cell_type": "code",
   "execution_count": 89,
   "id": "deca48eb-cb00-4e23-87f4-e91999631e58",
   "metadata": {},
   "outputs": [],
   "source": [
    "from geotext import GeoText\n",
    "\n",
    "def extract_first_country_from_list_or_str(entry):\n",
    "    if pd.isnull(entry):\n",
    "        return None\n",
    "    if isinstance(entry, str):\n",
    "        entry = [entry]\n",
    "    for item in entry:\n",
    "        places = GeoText(item)\n",
    "        if places.countries:\n",
    "            return places.countries[0]\n",
    "    return None"
   ]
  },
  {
   "cell_type": "code",
   "execution_count": 90,
   "id": "9eaf6a0a-0e0c-4e8c-b132-3153c4b4f13b",
   "metadata": {},
   "outputs": [
    {
     "data": {
      "text/html": [
       "<div>\n",
       "<style scoped>\n",
       "    .dataframe tbody tr th:only-of-type {\n",
       "        vertical-align: middle;\n",
       "    }\n",
       "\n",
       "    .dataframe tbody tr th {\n",
       "        vertical-align: top;\n",
       "    }\n",
       "\n",
       "    .dataframe thead th {\n",
       "        text-align: right;\n",
       "    }\n",
       "</style>\n",
       "<table border=\"1\" class=\"dataframe\">\n",
       "  <thead>\n",
       "    <tr style=\"text-align: right;\">\n",
       "      <th></th>\n",
       "      <th>title</th>\n",
       "      <th>doi</th>\n",
       "      <th>year</th>\n",
       "      <th>month</th>\n",
       "      <th>journal</th>\n",
       "      <th>url</th>\n",
       "      <th>location</th>\n",
       "      <th>pmid</th>\n",
       "      <th>country</th>\n",
       "      <th>affiliation_country</th>\n",
       "      <th>country_from_location</th>\n",
       "    </tr>\n",
       "  </thead>\n",
       "  <tbody>\n",
       "    <tr>\n",
       "      <th>0</th>\n",
       "      <td>Localization and function of humanized F508del-CFTR in mouse intestine following activation of serum glucocorticoid kinase 1 and Trikafta</td>\n",
       "      <td>10.1016/j.ejphar.2024.176771</td>\n",
       "      <td>2024.0</td>\n",
       "      <td>NaN</td>\n",
       "      <td>European Journal of Pharmacology</td>\n",
       "      <td>https://www.scopus.com/inward/record.uri?eid=2-s2.0-85197319328&amp;doi=10.1016%2fj.ejphar.2024.176771&amp;partnerID=40&amp;md5=1c76818fdd0b3a61215c9dfed67ebadf</td>\n",
       "      <td>United States</td>\n",
       "      <td>NaN</td>\n",
       "      <td>NaN</td>\n",
       "      <td>United States</td>\n",
       "      <td>United States</td>\n",
       "    </tr>\n",
       "    <tr>\n",
       "      <th>1</th>\n",
       "      <td>L1077P CFTR pathogenic variant function rescue by Elexacaftor–Tezacaftor–Ivacaftor in cystic fibrosis patient-derived air–liquid interface (ALI) cultures and organoids: in vitro guided personalized therapy of non-F508del patients</td>\n",
       "      <td>10.1186/s12931-023-02516-0</td>\n",
       "      <td>2023.0</td>\n",
       "      <td>NaN</td>\n",
       "      <td>Respiratory Research</td>\n",
       "      <td>https://www.scopus.com/inward/record.uri?eid=2-s2.0-85172256705&amp;doi=10.1186%2fs12931-023-02516-0&amp;partnerID=40&amp;md5=ac29de89df9cf5cd0f2ec1cb77dc2a91</td>\n",
       "      <td>Department of Oncology and Molecular Medicine, Istituto Superiore di Sanità, Rome, Italy.;Department of Oncology and Molecular Medicine, Istituto Superiore di Sanità, Rome, Italy.;Department of Experimental Medicine, Sapienza University of Rome, Rome, Italy.;Department of Experimental Medicine, Sapienza University of Rome, Rome, Italy.;Department of Oncology and Molecular Medicine, Istituto Superiore di Sanità, Rome, Italy.;Department of Oncology and Molecular Medicine, Istituto Superiore di Sanità, Rome, Italy.;Department of Molecular Medicine and Medical Biotechnologies, University of Naples Federico II, Naples, Italy.;Department of Molecular Medicine and Medical Biotechnologies, University of Naples Federico II, Naples, Italy.;Department of Molecular Medicine and Medical Biotechnologies, University of Naples Federico II, Naples, Italy.;Confocal Microscopy Unit, Core Facilities, Istituto Superiore di Sanità, Rome, Italy.;Dipartimento di Medicina e Chirurgia Traslazionale, Università Cattolica del Sacro Cuore, Rome, Italy.;Department of Oncology and Molecular Medicine, Istituto Superiore di Sanità, Rome, Italy.;Cystic Fibrosis Reference Center of Lazio Region, AOU Policlinico Umberto I, Rome, Italy.;Department of Molecular Medicine and Medical Biotechnologies, University of Naples Federico II, Naples, Italy.;Department of Experimental Medicine, Sapienza University of Rome, Rome, Italy.;Department of Oncology and Molecular Medicine, Istituto Superiore di Sanità, Rome, Italy. adriana.eramo@iss.it.</td>\n",
       "      <td>37674160</td>\n",
       "      <td>England</td>\n",
       "      <td>NaN</td>\n",
       "      <td>Italy</td>\n",
       "    </tr>\n",
       "    <tr>\n",
       "      <th>2</th>\n",
       "      <td>Long-Term Safety and Efficacy of Elexacaftor/Tezacaftor/Ivacaftor in Children Aged &gt;6 Years with Cystic Fibrosis and at Least One F508del Allele A Phase 3, Open-Label Clinical Trial</td>\n",
       "      <td>10.1164/rccm.202301-0021OC</td>\n",
       "      <td>2023.0</td>\n",
       "      <td>NaN</td>\n",
       "      <td>American Journal of Respiratory and Critical Care Medicine</td>\n",
       "      <td>https://www.scopus.com/inward/record.uri?eid=2-s2.0-85164233720&amp;doi=10.1164%2frccm.202301-0021OC&amp;partnerID=40&amp;md5=fb1946b9e74c8d01c4fd7c205be7ed58</td>\n",
       "      <td>Queensland Children's Hospital, South Brisbane, Queensland, Australia.;Ann &amp; Robert H. Lurie Children's Hospital of Chicago, Chicago, Illinois.;Children's Health Ireland, Dublin, Ireland.;Oregon Health &amp; Sciences University, Portland, Oregon.;University of Toronto, Toronto, Ontario, Canada.;University of British Columbia, Vancouver, British Columbia, Canada.;University of North Carolina at Chapel Hill, Chapel Hill, North Carolina.;University Hospitals Cleveland Medical Center, Cleveland, Ohio.;Vertex Pharmaceuticals Incorporated, Boston, Massachusetts.;Vertex Pharmaceuticals Incorporated, Boston, Massachusetts.;Vertex Pharmaceuticals Incorporated, Boston, Massachusetts.;Vertex Pharmaceuticals Incorporated, Boston, Massachusetts.;Vertex Pharmaceuticals Incorporated, Boston, Massachusetts.;Vertex Pharmaceuticals Incorporated, Boston, Massachusetts.;Vertex Pharmaceuticals Incorporated, Boston, Massachusetts.;Vertex Pharmaceuticals Incorporated, Boston, Massachusetts.;National Heart and Lung Institute, Imperial College London, London, United Kingdom; and.</td>\n",
       "      <td>37154609</td>\n",
       "      <td>United States</td>\n",
       "      <td>NaN</td>\n",
       "      <td>Australia</td>\n",
       "    </tr>\n",
       "    <tr>\n",
       "      <th>3</th>\n",
       "      <td>Reply to: Cystic fibrosis transmembrane conductance regulator (CFTR) variants and CFTR function in patients with pancreatitis</td>\n",
       "      <td>10.1016/j.pan.2024.07.015</td>\n",
       "      <td>2024.0</td>\n",
       "      <td>NaN</td>\n",
       "      <td>Pancreatology</td>\n",
       "      <td>https://www.scopus.com/inward/record.uri?eid=2-s2.0-85201602423&amp;doi=10.1016%2fj.pan.2024.07.015&amp;partnerID=40&amp;md5=124e33062766eba098c6ed5311efb420</td>\n",
       "      <td>Italy</td>\n",
       "      <td>NaN</td>\n",
       "      <td>NaN</td>\n",
       "      <td>Italy</td>\n",
       "      <td>Italy</td>\n",
       "    </tr>\n",
       "    <tr>\n",
       "      <th>4</th>\n",
       "      <td>Response to Elexacaftor/Tezacaftor/Ivacaftor in people with cystic fibrosis with the N1303K mutation: Case report and review of the literature</td>\n",
       "      <td>10.1016/j.heliyon.2024.e26955</td>\n",
       "      <td>2024.0</td>\n",
       "      <td>NaN</td>\n",
       "      <td>Heliyon</td>\n",
       "      <td>https://www.scopus.com/inward/record.uri?eid=2-s2.0-85186548221&amp;doi=10.1016%2fj.heliyon.2024.e26955&amp;partnerID=40&amp;md5=76aaa0fae3f99771de9224e9dbdb893f</td>\n",
       "      <td>Division of Pulmonary and Critical Care Medicine, University of Miami Miller School of Medicine, 1951 NW 7th Ave, Suite 2278, Miami, FL, 33136, United States.;Department of Internal Medicine, University of Kansas Medical Center, 3901 Rainbow Blvd, Kansas City, KS, 66160, United States.;Department of Internal Medicine, University of Kansas Medical Center, 3901 Rainbow Blvd, Kansas City, KS, 66160, United States.;Department of Internal Medicine, University of Kansas Medical Center, 3901 Rainbow Blvd, Kansas City, KS, 66160, United States.</td>\n",
       "      <td>38463894</td>\n",
       "      <td>England</td>\n",
       "      <td>NaN</td>\n",
       "      <td>United States</td>\n",
       "    </tr>\n",
       "  </tbody>\n",
       "</table>\n",
       "</div>"
      ],
      "text/plain": [
       "                                                                                                                                                                                                                                   title  \\\n",
       "0                                                                                              Localization and function of humanized F508del-CFTR in mouse intestine following activation of serum glucocorticoid kinase 1 and Trikafta   \n",
       "1  L1077P CFTR pathogenic variant function rescue by Elexacaftor–Tezacaftor–Ivacaftor in cystic fibrosis patient-derived air–liquid interface (ALI) cultures and organoids: in vitro guided personalized therapy of non-F508del patients   \n",
       "2                                                  Long-Term Safety and Efficacy of Elexacaftor/Tezacaftor/Ivacaftor in Children Aged >6 Years with Cystic Fibrosis and at Least One F508del Allele A Phase 3, Open-Label Clinical Trial   \n",
       "3                                                                                                          Reply to: Cystic fibrosis transmembrane conductance regulator (CFTR) variants and CFTR function in patients with pancreatitis   \n",
       "4                                                                                         Response to Elexacaftor/Tezacaftor/Ivacaftor in people with cystic fibrosis with the N1303K mutation: Case report and review of the literature   \n",
       "\n",
       "                             doi    year  month  \\\n",
       "0   10.1016/j.ejphar.2024.176771  2024.0    NaN   \n",
       "1     10.1186/s12931-023-02516-0  2023.0    NaN   \n",
       "2     10.1164/rccm.202301-0021OC  2023.0    NaN   \n",
       "3      10.1016/j.pan.2024.07.015  2024.0    NaN   \n",
       "4  10.1016/j.heliyon.2024.e26955  2024.0    NaN   \n",
       "\n",
       "                                                      journal  \\\n",
       "0                            European Journal of Pharmacology   \n",
       "1                                        Respiratory Research   \n",
       "2  American Journal of Respiratory and Critical Care Medicine   \n",
       "3                                               Pancreatology   \n",
       "4                                                     Heliyon   \n",
       "\n",
       "                                                                                                                                                     url  \\\n",
       "0   https://www.scopus.com/inward/record.uri?eid=2-s2.0-85197319328&doi=10.1016%2fj.ejphar.2024.176771&partnerID=40&md5=1c76818fdd0b3a61215c9dfed67ebadf   \n",
       "1     https://www.scopus.com/inward/record.uri?eid=2-s2.0-85172256705&doi=10.1186%2fs12931-023-02516-0&partnerID=40&md5=ac29de89df9cf5cd0f2ec1cb77dc2a91   \n",
       "2     https://www.scopus.com/inward/record.uri?eid=2-s2.0-85164233720&doi=10.1164%2frccm.202301-0021OC&partnerID=40&md5=fb1946b9e74c8d01c4fd7c205be7ed58   \n",
       "3      https://www.scopus.com/inward/record.uri?eid=2-s2.0-85201602423&doi=10.1016%2fj.pan.2024.07.015&partnerID=40&md5=124e33062766eba098c6ed5311efb420   \n",
       "4  https://www.scopus.com/inward/record.uri?eid=2-s2.0-85186548221&doi=10.1016%2fj.heliyon.2024.e26955&partnerID=40&md5=76aaa0fae3f99771de9224e9dbdb893f   \n",
       "\n",
       "                                                                                                                                                                                                                                                                                                                                                                                                                                                                                                                                                                                                                                                                                                                                                                                                                                                                                                                                                                                                                                                                                                                                                                                                                                                                                                                                                                                                                                                                                                                                                                            location  \\\n",
       "0                                                                                                                                                                                                                                                                                                                                                                                                                                                                                                                                                                                                                                                                                                                                                                                                                                                                                                                                                                                                                                                                                                                                                                                                                                                                                                                                                                                                                                                                                                                                                                      United States   \n",
       "1  Department of Oncology and Molecular Medicine, Istituto Superiore di Sanità, Rome, Italy.;Department of Oncology and Molecular Medicine, Istituto Superiore di Sanità, Rome, Italy.;Department of Experimental Medicine, Sapienza University of Rome, Rome, Italy.;Department of Experimental Medicine, Sapienza University of Rome, Rome, Italy.;Department of Oncology and Molecular Medicine, Istituto Superiore di Sanità, Rome, Italy.;Department of Oncology and Molecular Medicine, Istituto Superiore di Sanità, Rome, Italy.;Department of Molecular Medicine and Medical Biotechnologies, University of Naples Federico II, Naples, Italy.;Department of Molecular Medicine and Medical Biotechnologies, University of Naples Federico II, Naples, Italy.;Department of Molecular Medicine and Medical Biotechnologies, University of Naples Federico II, Naples, Italy.;Confocal Microscopy Unit, Core Facilities, Istituto Superiore di Sanità, Rome, Italy.;Dipartimento di Medicina e Chirurgia Traslazionale, Università Cattolica del Sacro Cuore, Rome, Italy.;Department of Oncology and Molecular Medicine, Istituto Superiore di Sanità, Rome, Italy.;Cystic Fibrosis Reference Center of Lazio Region, AOU Policlinico Umberto I, Rome, Italy.;Department of Molecular Medicine and Medical Biotechnologies, University of Naples Federico II, Naples, Italy.;Department of Experimental Medicine, Sapienza University of Rome, Rome, Italy.;Department of Oncology and Molecular Medicine, Istituto Superiore di Sanità, Rome, Italy. adriana.eramo@iss.it.   \n",
       "2                                                                                                                                                                                                                                                                                                                                                                                                                                                                        Queensland Children's Hospital, South Brisbane, Queensland, Australia.;Ann & Robert H. Lurie Children's Hospital of Chicago, Chicago, Illinois.;Children's Health Ireland, Dublin, Ireland.;Oregon Health & Sciences University, Portland, Oregon.;University of Toronto, Toronto, Ontario, Canada.;University of British Columbia, Vancouver, British Columbia, Canada.;University of North Carolina at Chapel Hill, Chapel Hill, North Carolina.;University Hospitals Cleveland Medical Center, Cleveland, Ohio.;Vertex Pharmaceuticals Incorporated, Boston, Massachusetts.;Vertex Pharmaceuticals Incorporated, Boston, Massachusetts.;Vertex Pharmaceuticals Incorporated, Boston, Massachusetts.;Vertex Pharmaceuticals Incorporated, Boston, Massachusetts.;Vertex Pharmaceuticals Incorporated, Boston, Massachusetts.;Vertex Pharmaceuticals Incorporated, Boston, Massachusetts.;Vertex Pharmaceuticals Incorporated, Boston, Massachusetts.;Vertex Pharmaceuticals Incorporated, Boston, Massachusetts.;National Heart and Lung Institute, Imperial College London, London, United Kingdom; and.   \n",
       "3                                                                                                                                                                                                                                                                                                                                                                                                                                                                                                                                                                                                                                                                                                                                                                                                                                                                                                                                                                                                                                                                                                                                                                                                                                                                                                                                                                                                                                                                                                                                                                              Italy   \n",
       "4                                                                                                                                                                                                                                                                                                                                                                                                                                                                                                                                                                                                                                                                                                                                                                                                                                                                                                                                                                                                                     Division of Pulmonary and Critical Care Medicine, University of Miami Miller School of Medicine, 1951 NW 7th Ave, Suite 2278, Miami, FL, 33136, United States.;Department of Internal Medicine, University of Kansas Medical Center, 3901 Rainbow Blvd, Kansas City, KS, 66160, United States.;Department of Internal Medicine, University of Kansas Medical Center, 3901 Rainbow Blvd, Kansas City, KS, 66160, United States.;Department of Internal Medicine, University of Kansas Medical Center, 3901 Rainbow Blvd, Kansas City, KS, 66160, United States.   \n",
       "\n",
       "       pmid        country affiliation_country country_from_location  \n",
       "0       NaN            NaN       United States         United States  \n",
       "1  37674160        England                 NaN                 Italy  \n",
       "2  37154609  United States                 NaN             Australia  \n",
       "3       NaN            NaN               Italy                 Italy  \n",
       "4  38463894        England                 NaN         United States  "
      ]
     },
     "execution_count": 90,
     "metadata": {},
     "output_type": "execute_result"
    }
   ],
   "source": [
    "data_affiliation_scopus['country_from_location'] = data_affiliation_scopus['location'].apply(extract_first_country_from_list_or_str)\n",
    "data_affiliation_scopus.head()"
   ]
  }
 ],
 "metadata": {
  "kernelspec": {
   "display_name": "Python 3 (ipykernel)",
   "language": "python",
   "name": "python3"
  },
  "language_info": {
   "codemirror_mode": {
    "name": "ipython",
    "version": 3
   },
   "file_extension": ".py",
   "mimetype": "text/x-python",
   "name": "python",
   "nbconvert_exporter": "python",
   "pygments_lexer": "ipython3",
   "version": "3.12.11"
  }
 },
 "nbformat": 4,
 "nbformat_minor": 5
}
