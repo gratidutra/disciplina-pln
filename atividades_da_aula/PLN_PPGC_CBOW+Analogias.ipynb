{
 "cells": [
  {
   "cell_type": "code",
   "execution_count": 2,
   "metadata": {
    "id": "OYmUK3G8ynDO"
   },
   "outputs": [],
   "source": [
    "from gensim import corpora\n",
    "from gensim.models import Word2Vec\n",
    "from gensim.models import KeyedVectors"
   ]
  },
  {
   "cell_type": "markdown",
   "metadata": {
    "jp-MarkdownHeadingCollapsed": true
   },
   "source": [
    "## Download modelo"
   ]
  },
  {
   "cell_type": "code",
   "execution_count": null,
   "metadata": {
    "id": "nO3tnaH12LDK"
   },
   "outputs": [],
   "source": [
    "# URL do arquivo a ser baixado\n",
    "url=\"http://143.107.183.175:22980/download.php?file=embeddings/word2vec/cbow_s50.zip\"\n",
    "\n",
    "# Nome do arquivo de destino\n",
    "output_file=\"cbow_s50_word2vec.zip\"\n",
    "\n",
    "# Baixar o arquivo usando wget\n",
    "!wget \"$url\" -O \"$output_file\""
   ]
  },
  {
   "cell_type": "code",
   "execution_count": null,
   "metadata": {
    "id": "SboIqE-73gv-"
   },
   "outputs": [],
   "source": [
    "!unzip cbow_s50_word2vec.zip"
   ]
  },
  {
   "cell_type": "markdown",
   "metadata": {},
   "source": [
    "## Vendo analogias"
   ]
  },
  {
   "cell_type": "code",
   "execution_count": 9,
   "metadata": {
    "id": "vyxGrMhAyoP1"
   },
   "outputs": [],
   "source": [
    "model_cbow = KeyedVectors.load_word2vec_format(\"model/cbow_s50.txt\", binary=False, unicode_errors=\"ignore\")\n",
    "model_skip = KeyedVectors.load_word2vec_format(\"model/skip_s50.txt\", binary=False, unicode_errors=\"ignore\")"
   ]
  },
  {
   "cell_type": "markdown",
   "metadata": {},
   "source": [
    "### Exemplos"
   ]
  },
  {
   "cell_type": "code",
   "execution_count": 5,
   "metadata": {
    "id": "E-GDpegI8VaQ"
   },
   "outputs": [
    {
     "data": {
      "text/plain": [
       "[('sobrinha', 0.8374353647232056),\n",
       " ('namorada', 0.8256716728210449),\n",
       " ('enteada', 0.8196130990982056),\n",
       " ('mãe', 0.8181456923484802),\n",
       " ('madrasta', 0.8181084394454956),\n",
       " ('ex-namorada', 0.8165838122367859),\n",
       " ('esposa', 0.8128063082695007),\n",
       " ('companheira', 0.8099026679992676),\n",
       " ('filha', 0.8045212626457214),\n",
       " ('bisavó', 0.8007786273956299)]"
      ]
     },
     "execution_count": 5,
     "metadata": {},
     "output_type": "execute_result"
    }
   ],
   "source": [
    "# Deveria ser mãe, mas ficou em próximo...\n",
    "\n",
    "model_cbow.most_similar(positive=[\"pai\", \"mulher\"], negative=[\"homem\"])"
   ]
  },
  {
   "cell_type": "code",
   "execution_count": null,
   "metadata": {
    "colab": {
     "base_uri": "https://localhost:8080/"
    },
    "id": "EBpkQzgV9Trj",
    "outputId": "a392614a-8862-4d0d-8bfb-e6183eb67ba7"
   },
   "outputs": [
    {
     "data": {
      "text/plain": [
       "[('stettin', 0.8247286081314087),\n",
       " ('londres', 0.8244373202323914),\n",
       " ('genebra', 0.8212083578109741),\n",
       " ('berlim', 0.8144553303718567),\n",
       " ('leipzig', 0.8133522272109985),\n",
       " ('moscou', 0.8119214177131653),\n",
       " ('ratisbona', 0.8105558753013611),\n",
       " ('oslo', 0.810128390789032),\n",
       " ('paris', 0.8083468675613403),\n",
       " ('tarnopol', 0.8013994693756104)]"
      ]
     },
     "execution_count": 39,
     "metadata": {},
     "output_type": "execute_result"
    }
   ],
   "source": [
    "# Esse modelo não é muito bom em geografia...\n",
    "model_cbow.most_similar(positive=[\"atenas\", \"viena\"], negative=[\"grécia\"])"
   ]
  },
  {
   "cell_type": "code",
   "execution_count": null,
   "metadata": {
    "colab": {
     "base_uri": "https://localhost:8080/"
    },
    "id": "qlgdPqYf_fwn",
    "outputId": "538480da-ad03-4a24-db31-ef6380c5024e"
   },
   "outputs": [
    {
     "data": {
      "text/plain": [
       "[('japão', 0.7357897162437439),\n",
       " ('nfccg', 0.7137135863304138),\n",
       " ('ocidente', 0.7098910212516785),\n",
       " ('azerbaijão', 0.7050912976264954),\n",
       " ('quebeque', 0.6996378302574158),\n",
       " ('mezzogiorno', 0.6962235569953918),\n",
       " ('haiti', 0.695974588394165),\n",
       " ('tibete', 0.6957324743270874),\n",
       " ('peloponeso', 0.6939280033111572),\n",
       " ('canadá', 0.692937970161438)]"
      ]
     },
     "execution_count": 40,
     "metadata": {},
     "output_type": "execute_result"
    }
   ],
   "source": [
    "model_cbow.most_similar(positive=[\"brasil\", \"frança\"], negative=[\"brasilia\"])"
   ]
  },
  {
   "cell_type": "code",
   "execution_count": null,
   "metadata": {
    "colab": {
     "base_uri": "https://localhost:8080/"
    },
    "id": "LOl3wqjr-jI7",
    "outputId": "0017cd1e-406b-480e-d633-8156798c17e4"
   },
   "outputs": [
    {
     "data": {
      "text/plain": [
       "[('crachá', 0.7752017378807068),\n",
       " ('chip', 0.7551954984664917),\n",
       " ('brinquedinho', 0.7435287237167358),\n",
       " ('autógrafo', 0.7406443357467651),\n",
       " ('comentã¡rio', 0.7317625284194946),\n",
       " ('kit', 0.7302130460739136),\n",
       " ('amplificador', 0.7278673648834229),\n",
       " ('smartphone', 0.7259814143180847),\n",
       " ('joguinho', 0.7249089479446411),\n",
       " ('tutorial', 0.7227060794830322)]"
      ]
     },
     "execution_count": 38,
     "metadata": {},
     "output_type": "execute_result"
    }
   ],
   "source": [
    "# A ideia era que brilho - sol + laptop seja próximo de \"tela\"...\n",
    "model_cbow.most_similar(positive=[\"brilho\", \"laptop\"], negative=[\"sol\"])"
   ]
  },
  {
   "cell_type": "markdown",
   "metadata": {},
   "source": [
    "### Teste"
   ]
  },
  {
   "cell_type": "markdown",
   "metadata": {
    "jp-MarkdownHeadingCollapsed": true
   },
   "source": [
    "#### cbow"
   ]
  },
  {
   "cell_type": "code",
   "execution_count": 6,
   "metadata": {
    "id": "yRBIycyg-9ZQ"
   },
   "outputs": [
    {
     "data": {
      "text/plain": [
       "[('epidemiologia', 0.7955335378646851),\n",
       " ('toxicologia', 0.7846882939338684),\n",
       " ('nanotecnologia', 0.7822586894035339),\n",
       " ('geologia', 0.7804513573646545),\n",
       " ('biotecnologia', 0.7781524062156677),\n",
       " ('micologia', 0.7738574743270874),\n",
       " ('ecologia', 0.7703790664672852),\n",
       " ('tecnologia', 0.7670657634735107),\n",
       " ('biomedicina', 0.7670009732246399),\n",
       " ('astrofísica', 0.7642328143119812)]"
      ]
     },
     "execution_count": 6,
     "metadata": {},
     "output_type": "execute_result"
    }
   ],
   "source": [
    "model_cbow.most_similar(positive=[\"ciência\", \"biologia\"], negative=[\"matemática\"])"
   ]
  },
  {
   "cell_type": "code",
   "execution_count": 8,
   "metadata": {},
   "outputs": [
    {
     "data": {
      "text/plain": [
       "[('giardia', 0.762866199016571),\n",
       " ('prefloração', 0.7379953861236572),\n",
       " ('citocina', 0.7090709805488586),\n",
       " ('bacteria', 0.7073528170585632),\n",
       " ('miopatia', 0.7058835029602051),\n",
       " ('chlamydia', 0.7056618332862854),\n",
       " ('glândula', 0.7040051221847534),\n",
       " ('sulfonamida', 0.6972468495368958),\n",
       " ('proteína', 0.6902065277099609),\n",
       " ('actínica', 0.6885185241699219)]"
      ]
     },
     "execution_count": 8,
     "metadata": {},
     "output_type": "execute_result"
    }
   ],
   "source": [
    "model_cbow.most_similar(positive=[\"mutação\", \"proteina\"], negative=[\"mudança\"])"
   ]
  },
  {
   "cell_type": "markdown",
   "metadata": {},
   "source": [
    "#### skip"
   ]
  },
  {
   "cell_type": "code",
   "execution_count": 10,
   "metadata": {},
   "outputs": [
    {
     "data": {
      "text/plain": [
       "[('ecologia', 0.8827261924743652),\n",
       " ('nanotecnologia', 0.8308814764022827),\n",
       " ('biomédica', 0.8288687467575073),\n",
       " ('biotecnologia', 0.8200507760047913),\n",
       " ('neurociência', 0.814607560634613),\n",
       " ('bioengenharia', 0.813167154788971),\n",
       " ('biomedicina', 0.8100199699401855),\n",
       " ('oceanografia', 0.8055686354637146),\n",
       " ('psicologia', 0.8049091696739197),\n",
       " ('geofísica', 0.801505446434021)]"
      ]
     },
     "execution_count": 10,
     "metadata": {},
     "output_type": "execute_result"
    }
   ],
   "source": [
    "model_skip.most_similar(positive=[\"ciência\", \"biologia\"], negative=[\"matemática\"])"
   ]
  },
  {
   "cell_type": "code",
   "execution_count": 12,
   "metadata": {},
   "outputs": [
    {
     "data": {
      "text/plain": [
       "[('streptococcus', 0.8609867095947266),\n",
       " ('neoformans', 0.855833888053894),\n",
       " ('liquefativa', 0.8557336330413818),\n",
       " ('fúngica', 0.8454647660255432),\n",
       " ('secretada', 0.8422278761863708),\n",
       " ('pancreática', 0.8409868478775024),\n",
       " ('herpetiforme', 0.8401851058006287),\n",
       " ('bactéria', 0.8390263915061951),\n",
       " ('herpesvírus', 0.8378358483314514),\n",
       " ('intracellulare', 0.8375939726829529)]"
      ]
     },
     "execution_count": 12,
     "metadata": {},
     "output_type": "execute_result"
    }
   ],
   "source": [
    "model_skip.most_similar(positive=[\"mutação\", \"proteína\"], negative=[\"mudança\"])"
   ]
  }
 ],
 "metadata": {
  "colab": {
   "provenance": []
  },
  "kernelspec": {
   "display_name": "Python 3 (ipykernel)",
   "language": "python",
   "name": "python3"
  },
  "language_info": {
   "codemirror_mode": {
    "name": "ipython",
    "version": 3
   },
   "file_extension": ".py",
   "mimetype": "text/x-python",
   "name": "python",
   "nbconvert_exporter": "python",
   "pygments_lexer": "ipython3",
   "version": "3.12.9"
  }
 },
 "nbformat": 4,
 "nbformat_minor": 4
}
